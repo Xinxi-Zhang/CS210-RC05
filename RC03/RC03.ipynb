{
 "cells": [
  {
   "cell_type": "markdown",
   "id": "12f70ca79d2b21ae",
   "metadata": {},
   "source": [
    "# List Comprehension"
   ]
  },
  {
   "cell_type": "markdown",
   "id": "1e8f9c18f8abef71",
   "metadata": {},
   "source": [
    "## Example 1\n",
    "1. generate a list with random int range from 0 to 10\n",
    "2. filter out the number "
   ]
  },
  {
   "cell_type": "code",
   "execution_count": 1,
   "id": "2626f948",
   "metadata": {
    "ExecuteTime": {
     "end_time": "2023-09-29T17:00:24.499104Z",
     "start_time": "2023-09-29T17:00:24.475976Z"
    }
   },
   "outputs": [],
   "source": [
    "import random"
   ]
  },
  {
   "cell_type": "markdown",
   "id": "ddb2af25",
   "metadata": {},
   "source": [
    "### Create Random List"
   ]
  },
  {
   "cell_type": "code",
   "execution_count": 7,
   "id": "2fd26919",
   "metadata": {},
   "outputs": [
    {
     "data": {
      "text/plain": [
       "[3, 0, 6, 3, 7, 10, 7, 6, 2, 4]"
      ]
     },
     "execution_count": 7,
     "metadata": {},
     "output_type": "execute_result"
    }
   ],
   "source": [
    "random_list = []\n",
    "for _ in range(10):\n",
    "    random_list.append(random.randint(0,10))\n",
    "\n",
    "random_list"
   ]
  },
  {
   "cell_type": "code",
   "execution_count": 8,
   "id": "initial_id",
   "metadata": {
    "ExecuteTime": {
     "end_time": "2023-09-29T03:16:09.558295Z",
     "start_time": "2023-09-29T03:16:09.554186Z"
    }
   },
   "outputs": [
    {
     "data": {
      "text/plain": [
       "[5, 0, 8, 6, 3, 5, 7, 1, 9, 3]"
      ]
     },
     "execution_count": 8,
     "metadata": {},
     "output_type": "execute_result"
    }
   ],
   "source": [
    "random_list = [random.randint(0, 10) for _ in range(10)]\n",
    "\n",
    "random_list"
   ]
  },
  {
   "cell_type": "markdown",
   "id": "e53ffaeb",
   "metadata": {},
   "source": [
    "### Filter"
   ]
  },
  {
   "cell_type": "code",
   "execution_count": 9,
   "id": "31948af4d1c3dbec",
   "metadata": {},
   "outputs": [
    {
     "data": {
      "text/plain": [
       "[0, 3, 1, 3]"
      ]
     },
     "execution_count": 9,
     "metadata": {},
     "output_type": "execute_result"
    }
   ],
   "source": [
    "filter_list = []\n",
    "for i in random_list:\n",
    "    if i <= 3:\n",
    "        filter_list.append(i)\n",
    "\n",
    "filter_list"
   ]
  },
  {
   "cell_type": "code",
   "execution_count": 10,
   "id": "aa90aeda",
   "metadata": {},
   "outputs": [
    {
     "data": {
      "text/plain": [
       "[0, 3, 1, 3]"
      ]
     },
     "execution_count": 10,
     "metadata": {},
     "output_type": "execute_result"
    }
   ],
   "source": [
    "filter_list = [i for i in random_list if i <=3]\n",
    "\n",
    "filter_list "
   ]
  },
  {
   "cell_type": "markdown",
   "id": "cc46004d",
   "metadata": {},
   "source": [
    "## Example 2\n",
    "a table example"
   ]
  },
  {
   "cell_type": "code",
   "execution_count": 11,
   "id": "a44f4df5",
   "metadata": {},
   "outputs": [],
   "source": [
    "key_l = ['age', 'height', 'gender']\n",
    "value_l = [23, 170, 1]"
   ]
  },
  {
   "cell_type": "code",
   "execution_count": 12,
   "id": "487e738e",
   "metadata": {},
   "outputs": [
    {
     "data": {
      "text/plain": [
       "{'age': 23, 'height': 170, 'gender': 1}"
      ]
     },
     "execution_count": 12,
     "metadata": {},
     "output_type": "execute_result"
    }
   ],
   "source": [
    "table = {}\n",
    "\n",
    "for i in range(len(key_l)):\n",
    "    table[key_l[i]] = value_l[i]\n",
    "\n",
    "table"
   ]
  },
  {
   "cell_type": "code",
   "execution_count": 13,
   "id": "a42f4774",
   "metadata": {},
   "outputs": [],
   "source": [
    "table = {\n",
    "    'age': 23\n",
    "}"
   ]
  },
  {
   "cell_type": "code",
   "execution_count": 14,
   "id": "1bc74ae2",
   "metadata": {},
   "outputs": [
    {
     "data": {
      "text/plain": [
       "{'age': 23, 'height': 170, 'gender': 1}"
      ]
     },
     "execution_count": 14,
     "metadata": {},
     "output_type": "execute_result"
    }
   ],
   "source": [
    "table = {key: value for key, value in zip(key_l, value_l)}\n",
    "\n",
    "table"
   ]
  },
  {
   "cell_type": "markdown",
   "id": "372cbe95",
   "metadata": {},
   "source": [
    "# Set"
   ]
  },
  {
   "cell_type": "code",
   "execution_count": 15,
   "id": "fffc11ad",
   "metadata": {},
   "outputs": [
    {
     "name": "stdout",
     "output_type": "stream",
     "text": [
      "{1, 3, 4, 'set'} {3, 4, 5, 6}\n"
     ]
    }
   ],
   "source": [
    "# Creating a set\n",
    "my_set = {'set', 1, 3, 4}\n",
    "\n",
    "# Or using the set() constructor\n",
    "another_set = set([3, 4, 5, 6])\n",
    "\n",
    "print(my_set, another_set)"
   ]
  },
  {
   "cell_type": "code",
   "execution_count": 16,
   "id": "b3403f46",
   "metadata": {},
   "outputs": [
    {
     "data": {
      "text/plain": [
       "{1, 3, 4, 5, 6, 'set'}"
      ]
     },
     "execution_count": 16,
     "metadata": {},
     "output_type": "execute_result"
    }
   ],
   "source": [
    "union_set = my_set.union(another_set)\n",
    "union_set"
   ]
  },
  {
   "cell_type": "code",
   "execution_count": 17,
   "id": "36f45f4c",
   "metadata": {},
   "outputs": [
    {
     "data": {
      "text/plain": [
       "{3, 4}"
      ]
     },
     "execution_count": 17,
     "metadata": {},
     "output_type": "execute_result"
    }
   ],
   "source": [
    "intersection_set = my_set.intersection(another_set)\n",
    "intersection_set"
   ]
  },
  {
   "cell_type": "code",
   "execution_count": 18,
   "id": "13ee0153",
   "metadata": {},
   "outputs": [
    {
     "data": {
      "text/plain": [
       "{1, 'set'}"
      ]
     },
     "execution_count": 18,
     "metadata": {},
     "output_type": "execute_result"
    }
   ],
   "source": [
    "difference_set = my_set.difference(another_set)\n",
    "difference_set"
   ]
  },
  {
   "cell_type": "markdown",
   "id": "f22e2fb7",
   "metadata": {},
   "source": [
    "# IO"
   ]
  },
  {
   "cell_type": "code",
   "execution_count": 21,
   "id": "b53dd32a",
   "metadata": {},
   "outputs": [],
   "source": [
    "with open('myfile.txt', 'w') as file:\n",
    "    file.write(\"This is some text.\")  # Writes the specified text to the file"
   ]
  },
  {
   "cell_type": "code",
   "execution_count": 22,
   "id": "a0533f22",
   "metadata": {},
   "outputs": [
    {
     "data": {
      "text/plain": [
       "'This is some text.'"
      ]
     },
     "execution_count": 22,
     "metadata": {},
     "output_type": "execute_result"
    }
   ],
   "source": [
    "with open('myfile.txt', 'r') as file:\n",
    "    data = file.read()  # Reads the entire contents of the file into 'data'\n",
    "data"
   ]
  },
  {
   "cell_type": "code",
   "execution_count": 23,
   "id": "814e629d",
   "metadata": {},
   "outputs": [],
   "source": [
    "with open('myfile.txt', 'a') as file:\n",
    "    file.write(\"This is appended text.\")"
   ]
  },
  {
   "cell_type": "code",
   "execution_count": 24,
   "id": "14484f24",
   "metadata": {},
   "outputs": [
    {
     "data": {
      "text/plain": [
       "'This is some text.This is appended text.'"
      ]
     },
     "execution_count": 24,
     "metadata": {},
     "output_type": "execute_result"
    }
   ],
   "source": [
    "with open('myfile.txt', 'r') as file:\n",
    "    data = file.read()  # Reads the entire contents of the file into 'data'\n",
    "data"
   ]
  },
  {
   "cell_type": "markdown",
   "id": "14efd9bf",
   "metadata": {},
   "source": [
    "## input"
   ]
  },
  {
   "cell_type": "code",
   "execution_count": 25,
   "id": "a3e59493",
   "metadata": {},
   "outputs": [
    {
     "data": {
      "text/plain": [
       "'This is some text.This is appended text.\\nThis is some text.This is appended text.\\nThis is some text.This is appended text.\\nThis is some text.This is appended text.\\nThis is some text.This is appended text.\\nThis is some text.This is appended text.'"
      ]
     },
     "execution_count": 25,
     "metadata": {},
     "output_type": "execute_result"
    }
   ],
   "source": [
    "with open('myfile_.txt', 'r') as file:\n",
    "    data = file.read()\n",
    "data"
   ]
  },
  {
   "cell_type": "code",
   "execution_count": 26,
   "id": "4f95fb5d",
   "metadata": {},
   "outputs": [
    {
     "name": "stdout",
     "output_type": "stream",
     "text": [
      "This is some text.This is appended text.\n",
      "\n",
      "This is some text.This is appended text.\n",
      "\n",
      "This is some text.This is appended text.\n",
      "\n",
      "This is some text.This is appended text.\n",
      "\n",
      "This is some text.This is appended text.\n",
      "\n",
      "This is some text.This is appended text.\n"
     ]
    }
   ],
   "source": [
    "with open('myfile_.txt', 'r') as file:\n",
    "    line = file.readline()\n",
    "    while line:\n",
    "        print(line)\n",
    "        line = file.readline()"
   ]
  },
  {
   "cell_type": "code",
   "execution_count": 27,
   "id": "f67a7fd6",
   "metadata": {},
   "outputs": [
    {
     "data": {
      "text/plain": [
       "['This is some text.This is appended text.\\n',\n",
       " 'This is some text.This is appended text.\\n',\n",
       " 'This is some text.This is appended text.\\n',\n",
       " 'This is some text.This is appended text.\\n',\n",
       " 'This is some text.This is appended text.\\n',\n",
       " 'This is some text.This is appended text.']"
      ]
     },
     "execution_count": 27,
     "metadata": {},
     "output_type": "execute_result"
    }
   ],
   "source": [
    "with open('myfile_.txt', 'r') as file:\n",
    "    lines = file.readlines()\n",
    "lines"
   ]
  },
  {
   "cell_type": "code",
   "execution_count": 28,
   "id": "6d462e37",
   "metadata": {},
   "outputs": [
    {
     "name": "stdout",
     "output_type": "stream",
     "text": [
      "This is some text.This is appended text.\n",
      "\n",
      "This is some text.This is appended text.\n",
      "\n",
      "This is some text.This is appended text.\n",
      "\n",
      "This is some text.This is appended text.\n",
      "\n",
      "This is some text.This is appended text.\n",
      "\n",
      "This is some text.This is appended text.\n"
     ]
    }
   ],
   "source": [
    "with open('myfile_.txt', 'r') as file:\n",
    "    for line in file:\n",
    "        print(line)"
   ]
  },
  {
   "cell_type": "markdown",
   "id": "d2d6fa9e",
   "metadata": {},
   "source": [
    "# Jason"
   ]
  },
  {
   "cell_type": "code",
   "execution_count": 29,
   "id": "c386f145",
   "metadata": {},
   "outputs": [
    {
     "name": "stdout",
     "output_type": "stream",
     "text": [
      "{\"name\": \"John\", \"age\": 30, \"city\": \"New York\"}\n"
     ]
    }
   ],
   "source": [
    "import json\n",
    "\n",
    "# Create a dictionary containing strings and integers\n",
    "my_dict = {\n",
    "    \"name\": \"John\",\n",
    "    \"age\": 30,\n",
    "    \"city\": \"New York\"\n",
    "}\n",
    "\n",
    "# Convert the dictionary to JSON format\n",
    "json_data = json.dumps(my_dict)\n",
    "\n",
    "# Now, 'json_data' contains the JSON representation of 'my_dict'\n",
    "print(json_data)"
   ]
  },
  {
   "cell_type": "code",
   "execution_count": 30,
   "id": "a3113b7e",
   "metadata": {},
   "outputs": [
    {
     "name": "stdout",
     "output_type": "stream",
     "text": [
      "{'name': 'John', 'age': 30, 'city': 'New York'}\n"
     ]
    }
   ],
   "source": [
    "# Parse the JSON data back into a Python dictionary\n",
    "parsed_dict = json.loads(json_data)\n",
    "\n",
    "# 'parsed_dict' now contains the dictionary with the original data\n",
    "print(parsed_dict)"
   ]
  },
  {
   "cell_type": "markdown",
   "id": "187349d2",
   "metadata": {},
   "source": [
    "# Yml"
   ]
  },
  {
   "cell_type": "code",
   "execution_count": 31,
   "id": "4fabb0f6",
   "metadata": {},
   "outputs": [
    {
     "name": "stdout",
     "output_type": "stream",
     "text": [
      "age: 30\n",
      "city: New York\n",
      "name: John\n"
     ]
    }
   ],
   "source": [
    "import yaml\n",
    "\n",
    "# Create a dictionary containing strings and integers\n",
    "my_dict = {\n",
    "    \"name\": \"John\",\n",
    "    \"age\": 30,\n",
    "    \"city\": \"New York\"\n",
    "}\n",
    "\n",
    "# Serialize the dictionary to YAML format\n",
    "yaml_data = yaml.dump(my_dict, default_flow_style=False)\n",
    "\n",
    "# Now, 'yaml_data' contains the YAML representation of 'my_dict'\n",
    "print(yaml_data)"
   ]
  },
  {
   "cell_type": "code",
   "execution_count": 32,
   "id": "9ae4f5ce",
   "metadata": {},
   "outputs": [
    {
     "name": "stdout",
     "output_type": "stream",
     "text": [
      "{'age': 30, 'city': 'New York', 'name': 'John'}\n"
     ]
    }
   ],
   "source": [
    "# Deserialize the YAML data back into a Python dictionary\n",
    "parsed_dict = yaml.load(yaml_data, Loader=yaml.FullLoader)\n",
    "\n",
    "# 'parsed_dict' now contains the dictionary with the original data\n",
    "print(parsed_dict)"
   ]
  },
  {
   "cell_type": "markdown",
   "id": "73e65b3b",
   "metadata": {},
   "source": [
    "# Counter"
   ]
  },
  {
   "cell_type": "code",
   "execution_count": 2,
   "id": "d156a008",
   "metadata": {},
   "outputs": [],
   "source": [
    "from collections import Counter"
   ]
  },
  {
   "cell_type": "code",
   "execution_count": 3,
   "id": "33632630",
   "metadata": {},
   "outputs": [],
   "source": [
    "my_list = [1, 2, 3, 1, 2, 2, 4, 'hi', 'hi']\n",
    "my_counter = Counter(my_list)"
   ]
  },
  {
   "cell_type": "code",
   "execution_count": 4,
   "id": "de9b3776",
   "metadata": {},
   "outputs": [
    {
     "data": {
      "text/plain": [
       "3"
      ]
     },
     "execution_count": 4,
     "metadata": {},
     "output_type": "execute_result"
    }
   ],
   "source": [
    "count_of_2 = my_counter[2] \n",
    "count_of_2"
   ]
  },
  {
   "cell_type": "code",
   "execution_count": 5,
   "id": "e7345850",
   "metadata": {},
   "outputs": [
    {
     "data": {
      "text/plain": [
       "2"
      ]
     },
     "execution_count": 5,
     "metadata": {},
     "output_type": "execute_result"
    }
   ],
   "source": [
    "count_of_hi = my_counter['hi'] \n",
    "count_of_hi"
   ]
  },
  {
   "cell_type": "code",
   "execution_count": 6,
   "id": "885e92da",
   "metadata": {},
   "outputs": [
    {
     "data": {
      "text/plain": [
       "[(2, 3), (1, 2), ('hi', 2)]"
      ]
     },
     "execution_count": 6,
     "metadata": {},
     "output_type": "execute_result"
    }
   ],
   "source": [
    "most_common_items = my_counter.most_common(3)  # Gets the 3 most common items\n",
    "most_common_items"
   ]
  },
  {
   "cell_type": "markdown",
   "id": "05bcfd45",
   "metadata": {},
   "source": [
    "# NumPy"
   ]
  },
  {
   "cell_type": "markdown",
   "id": "1c9135de",
   "metadata": {},
   "source": [
    "## Create a NumPy Array"
   ]
  },
  {
   "cell_type": "code",
   "execution_count": null,
   "id": "2d05fd28",
   "metadata": {},
   "outputs": [],
   "source": [
    "import numpy as np\n",
    "\n",
    "my_list = [1, 2, 3, 4, 5]\n",
    "np_array = np.array(my_list)\n",
    "\n",
    "np_array"
   ]
  },
  {
   "cell_type": "code",
   "execution_count": null,
   "id": "d3370d26",
   "metadata": {},
   "outputs": [],
   "source": [
    "import numpy as np\n",
    "\n",
    "zeros_array = np.zeros(5)  # Creates an array of 5 zeros\n",
    "ones_array = np.ones((2, 3))  # Creates a 2x3 array of ones\n",
    "\n",
    "print(zeros_array)\n",
    "print(ones_array)"
   ]
  },
  {
   "cell_type": "code",
   "execution_count": null,
   "id": "135051d6",
   "metadata": {},
   "outputs": [],
   "source": [
    "random_array = np.random.rand(3, 3)  # Creates a 3x3 array of random values between 0 and 1\n",
    "\n",
    "random_array"
   ]
  },
  {
   "cell_type": "code",
   "execution_count": null,
   "id": "206ec73c",
   "metadata": {},
   "outputs": [],
   "source": [
    "random_array.shape"
   ]
  },
  {
   "cell_type": "markdown",
   "id": "a7d1debe",
   "metadata": {},
   "source": [
    "## Efficiency"
   ]
  },
  {
   "cell_type": "code",
   "execution_count": 7,
   "id": "618a0a95",
   "metadata": {},
   "outputs": [
    {
     "name": "stdout",
     "output_type": "stream",
     "text": [
      "NumPy elapsed time: 0.002093076705932617 seconds\n",
      "Python list elapsed time: 0.20668315887451172 seconds\n"
     ]
    }
   ],
   "source": [
    "import numpy as np\n",
    "import time\n",
    "\n",
    "# Define the matrix dimensions\n",
    "matrix_size = 100  # Adjust this to change the size of the matrices\n",
    "\n",
    "# Create two matrices using NumPy arrays\n",
    "numpy_matrix1 = np.random.rand(matrix_size, matrix_size)\n",
    "numpy_matrix2 = np.random.rand(matrix_size, matrix_size)\n",
    "\n",
    "# Create two matrices using Python lists\n",
    "python_matrix1 = [[float(np.random.rand()) for _ in range(matrix_size)] for _ in range(matrix_size)]\n",
    "python_matrix2 = [[float(np.random.rand()) for _ in range(matrix_size)] for _ in range(matrix_size)]\n",
    "\n",
    "# Measure the time for matrix multiplication using NumPy\n",
    "start_time = time.time()\n",
    "numpy_result = np.dot(numpy_matrix1, numpy_matrix2)\n",
    "numpy_elapsed_time = time.time() - start_time\n",
    "\n",
    "# Measure the time for matrix multiplication using Python lists\n",
    "start_time = time.time()\n",
    "python_result = [[0.0 for _ in range(matrix_size)] for _ in range(matrix_size)]\n",
    "for i in range(matrix_size):\n",
    "    for j in range(matrix_size):\n",
    "        for k in range(matrix_size):\n",
    "            python_result[i][j] += python_matrix1[i][k] * python_matrix2[k][j]\n",
    "python_elapsed_time = time.time() - start_time\n",
    "\n",
    "# Print the elapsed times\n",
    "print(f\"NumPy elapsed time: {numpy_elapsed_time} seconds\")\n",
    "print(f\"Python list elapsed time: {python_elapsed_time} seconds\")\n"
   ]
  },
  {
   "cell_type": "code",
   "execution_count": null,
   "id": "ec946659",
   "metadata": {},
   "outputs": [],
   "source": []
  }
 ],
 "metadata": {
  "kernelspec": {
   "display_name": "Python 3 (ipykernel)",
   "language": "python",
   "name": "python3"
  },
  "language_info": {
   "codemirror_mode": {
    "name": "ipython",
    "version": 3
   },
   "file_extension": ".py",
   "mimetype": "text/x-python",
   "name": "python",
   "nbconvert_exporter": "python",
   "pygments_lexer": "ipython3",
   "version": "3.9.16"
  }
 },
 "nbformat": 4,
 "nbformat_minor": 5
}
