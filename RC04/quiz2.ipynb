{
 "cells": [
  {
   "cell_type": "code",
   "execution_count": 1,
   "id": "initial_id",
   "metadata": {
    "ExecuteTime": {
     "end_time": "2023-10-06T17:19:37.745165Z",
     "start_time": "2023-10-06T17:19:37.721757Z"
    }
   },
   "outputs": [
    {
     "data": {
      "text/plain": "'e'"
     },
     "execution_count": 1,
     "metadata": {},
     "output_type": "execute_result"
    }
   ],
   "source": [
    "list('abcdefg')[4]"
   ]
  },
  {
   "cell_type": "code",
   "execution_count": 2,
   "id": "2b2365e971b763e8",
   "metadata": {
    "ExecuteTime": {
     "end_time": "2023-10-04T17:46:27.660038Z",
     "start_time": "2023-10-04T17:46:27.652882Z"
    }
   },
   "outputs": [
    {
     "data": {
      "text/plain": [
       "[4, 5, 6, 7, 8]"
      ]
     },
     "execution_count": 2,
     "metadata": {},
     "output_type": "execute_result"
    }
   ],
   "source": [
    "list(range(9))[4:]"
   ]
  },
  {
   "cell_type": "code",
   "execution_count": 3,
   "id": "593ae3ea66b0b759",
   "metadata": {
    "ExecuteTime": {
     "end_time": "2023-10-04T17:47:44.643703Z",
     "start_time": "2023-10-04T17:47:44.640884Z"
    }
   },
   "outputs": [],
   "source": [
    "A = set([1, 3, 5, 7, 9, 11])\n",
    "B = set([6, 9, 12 ,15])"
   ]
  },
  {
   "cell_type": "code",
   "execution_count": 4,
   "id": "de215437c4602b89",
   "metadata": {
    "ExecuteTime": {
     "end_time": "2023-10-04T17:47:48.364998Z",
     "start_time": "2023-10-04T17:47:48.359729Z"
    }
   },
   "outputs": [
    {
     "data": {
      "text/plain": [
       "{1, 3, 5, 6, 7, 9, 11, 12, 15}"
      ]
     },
     "execution_count": 4,
     "metadata": {},
     "output_type": "execute_result"
    }
   ],
   "source": [
    "A | B"
   ]
  },
  {
   "cell_type": "code",
   "execution_count": 6,
   "id": "7e331ad091dbcf55",
   "metadata": {
    "ExecuteTime": {
     "end_time": "2023-10-04T17:54:09.514887Z",
     "start_time": "2023-10-04T17:54:09.511691Z"
    }
   },
   "outputs": [],
   "source": [
    "a = set([1,2,3])\n",
    "a.add(2)"
   ]
  },
  {
   "cell_type": "code",
   "execution_count": 7,
   "id": "b184f656da2aa054",
   "metadata": {
    "ExecuteTime": {
     "end_time": "2023-10-04T17:54:59.879225Z",
     "start_time": "2023-10-04T17:54:59.877560Z"
    }
   },
   "outputs": [
    {
     "ename": "AttributeError",
     "evalue": "'set' object has no attribute 'popitem'",
     "output_type": "error",
     "traceback": [
      "\u001B[0;31m---------------------------------------------------------------------------\u001B[0m",
      "\u001B[0;31mAttributeError\u001B[0m                            Traceback (most recent call last)",
      "Cell \u001B[0;32mIn[7], line 1\u001B[0m\n\u001B[0;32m----> 1\u001B[0m \u001B[43ma\u001B[49m\u001B[38;5;241;43m.\u001B[39;49m\u001B[43mpopitem\u001B[49m()\n\u001B[1;32m      2\u001B[0m a\n",
      "\u001B[0;31mAttributeError\u001B[0m: 'set' object has no attribute 'popitem'"
     ]
    }
   ],
   "source": [
    "a.popitem()\n",
    "a"
   ]
  },
  {
   "cell_type": "code",
   "execution_count": 8,
   "id": "9fcf42dc43482fca",
   "metadata": {
    "ExecuteTime": {
     "end_time": "2023-10-04T17:55:32.059539Z",
     "start_time": "2023-10-04T17:55:32.056682Z"
    }
   },
   "outputs": [
    {
     "data": {
      "text/plain": [
       "{'NJ': 1, 'NY': 2}"
      ]
     },
     "execution_count": 8,
     "metadata": {},
     "output_type": "execute_result"
    }
   ],
   "source": [
    "states = {\n",
    "    'NJ':1,\n",
    "    'NY': 2,\n",
    "    'CT': 3,\n",
    "}\n",
    "states.popitem()\n",
    "states"
   ]
  },
  {
   "cell_type": "code",
   "execution_count": 10,
   "id": "c7012ef45421d72e",
   "metadata": {
    "ExecuteTime": {
     "end_time": "2023-10-04T18:15:06.422093Z",
     "start_time": "2023-10-04T18:15:06.416697Z"
    }
   },
   "outputs": [
    {
     "data": {
      "text/plain": "1"
     },
     "execution_count": 10,
     "metadata": {},
     "output_type": "execute_result"
    }
   ],
   "source": [
    "from collections import defaultdict\n",
    "mywordmap = defaultdict(lambda: -1)\n",
    "\n",
    "mywordmap [\"one\"] = mywordmap [\"three\"] + mywordmap[\"two\"] + 3\n",
    "\n",
    "mywordmap [\"two\"] += 2 * mywordmap [\"one\" ]\n",
    "\n",
    "mywordmap[\"three\"] += mywordmap[\"one\"] + mywordmap[\"two\"]\n",
    "\n",
    "mywordmap[\"three\"]"
   ]
  },
  {
   "cell_type": "code",
   "execution_count": null,
   "id": "8ea8c9d99149df4c",
   "metadata": {},
   "outputs": [],
   "source": []
  }
 ],
 "metadata": {
  "kernelspec": {
   "display_name": "Python 3 (ipykernel)",
   "language": "python",
   "name": "python3"
  },
  "language_info": {
   "codemirror_mode": {
    "name": "ipython",
    "version": 3
   },
   "file_extension": ".py",
   "mimetype": "text/x-python",
   "name": "python",
   "nbconvert_exporter": "python",
   "pygments_lexer": "ipython3",
   "version": "3.9.16"
  }
 },
 "nbformat": 4,
 "nbformat_minor": 5
}
