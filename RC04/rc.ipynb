{
 "cells": [
  {
   "cell_type": "markdown",
   "source": [
    "# NUMPY"
   ],
   "metadata": {
    "collapsed": false
   },
   "id": "e3760a0044b47a38"
  },
  {
   "cell_type": "code",
   "execution_count": 2,
   "outputs": [],
   "source": [
    "import numpy as np"
   ],
   "metadata": {
    "collapsed": false,
    "ExecuteTime": {
     "end_time": "2023-10-06T14:18:42.534382Z",
     "start_time": "2023-10-06T14:18:41.906047Z"
    }
   },
   "id": "c31768f8505a3ad1"
  },
  {
   "cell_type": "markdown",
   "source": [
    "## Creation"
   ],
   "metadata": {
    "collapsed": false
   },
   "id": "d36ca727aa9735ca"
  },
  {
   "cell_type": "markdown",
   "source": [
    "### List & Tupule"
   ],
   "metadata": {
    "collapsed": false
   },
   "id": "31a72ea4abf41c85"
  },
  {
   "cell_type": "code",
   "execution_count": 3,
   "id": "initial_id",
   "metadata": {
    "collapsed": true,
    "ExecuteTime": {
     "end_time": "2023-10-06T14:18:42.539198Z",
     "start_time": "2023-10-06T14:18:42.535683Z"
    }
   },
   "outputs": [
    {
     "name": "stdout",
     "output_type": "stream",
     "text": [
      "Array from list: [1 2 3 4 5]\n",
      "Array from tuple: [ 6  7  8  9 10]\n"
     ]
    }
   ],
   "source": [
    "# From a list\n",
    "list_array = np.array([1, 2, 3, 4, 5])\n",
    "print(\"Array from list:\", list_array)\n",
    "\n",
    "# From a tuple\n",
    "tuple_array = np.array((6, 7, 8, 9, 10))\n",
    "print(\"Array from tuple:\", tuple_array)"
   ]
  },
  {
   "cell_type": "markdown",
   "source": [
    "### Built-in Functions"
   ],
   "metadata": {
    "collapsed": false
   },
   "id": "b5638d6b4e3e18b9"
  },
  {
   "cell_type": "code",
   "execution_count": 4,
   "outputs": [
    {
     "name": "stdout",
     "output_type": "stream",
     "text": [
      "Array of zeros: [0. 0. 0. 0. 0.]\n",
      "Array of ones: [1. 1. 1. 1. 1.]\n",
      "Array with range: [0 1 2 3 4 5 6 7 8 9]\n",
      "Array with linearly spaced values: [0.   0.25 0.5  0.75 1.  ]\n",
      "Identity matrix:\n",
      " [[1. 0. 0.]\n",
      " [0. 1. 0.]\n",
      " [0. 0. 1.]]\n"
     ]
    }
   ],
   "source": [
    "# Array of zeros\n",
    "zeros_array = np.zeros(5)\n",
    "print(\"Array of zeros:\", zeros_array)\n",
    "\n",
    "# Array of ones\n",
    "ones_array = np.ones(5)\n",
    "print(\"Array of ones:\", ones_array)\n",
    "\n",
    "# Array with a range of values\n",
    "range_array = np.arange(10)\n",
    "print(\"Array with range:\", range_array)\n",
    "\n",
    "# Array with linearly spaced values\n",
    "linspace_array = np.linspace(0, 1, 5)\n",
    "print(\"Array with linearly spaced values:\", linspace_array)\n",
    "\n",
    "# Identity matrix\n",
    "identity_matrix = np.eye(3)\n",
    "print(\"Identity matrix:\\n\", identity_matrix)\n"
   ],
   "metadata": {
    "collapsed": false,
    "ExecuteTime": {
     "end_time": "2023-10-06T14:19:01.321811Z",
     "start_time": "2023-10-06T14:19:01.309080Z"
    }
   },
   "id": "7e3938691be008e"
  },
  {
   "cell_type": "markdown",
   "source": [
    "### Random Built-in Functions"
   ],
   "metadata": {
    "collapsed": false
   },
   "id": "456cd954b999fcf2"
  },
  {
   "cell_type": "code",
   "execution_count": 13,
   "outputs": [
    {
     "name": "stdout",
     "output_type": "stream",
     "text": [
      "Random array: [0.88677274 0.48362319 0.25816029 0.76950019 0.633905  ]\n",
      "Random integer array: [3 8 8 2 9]\n",
      "Array from normal distribution: [ 1.46315716  1.54167731 -1.46425309 -1.15749157 -0.17208564]\n"
     ]
    }
   ],
   "source": [
    "# Random array with values between 0 and 1\n",
    "rand_array = np.random.rand(5)\n",
    "print(\"Random array:\", rand_array)\n",
    "\n",
    "# Random array with integers\n",
    "randint_array = np.random.randint(0, 10, size=5)\n",
    "print(\"Random integer array:\", randint_array)\n",
    "\n",
    "# Random normal distribution\n",
    "normal_array = np.random.randn(5)\n",
    "print(\"Array from normal distribution:\", normal_array)"
   ],
   "metadata": {
    "collapsed": false,
    "ExecuteTime": {
     "end_time": "2023-10-06T14:20:26.444495Z",
     "start_time": "2023-10-06T14:20:26.437801Z"
    }
   },
   "id": "4e4edb06ec8e5632"
  },
  {
   "cell_type": "markdown",
   "source": [
    "### Special Built-in Functions"
   ],
   "metadata": {
    "collapsed": false
   },
   "id": "1bd9748d0e00fa4e"
  },
  {
   "cell_type": "code",
   "execution_count": 15,
   "outputs": [
    {
     "name": "stdout",
     "output_type": "stream",
     "text": [
      "Repeated array: [1 1 1 2 2 2 3 3 3]\n",
      "Tiled array: [1 2 3 1 2 3 1 2 3]\n"
     ]
    }
   ],
   "source": [
    "# Repeat each element 3 times\n",
    "repeat_array = np.repeat([1,2,3], 3)\n",
    "print(\"Repeated array:\", repeat_array)\n",
    "\n",
    "# Tile the whole array 3 times\n",
    "tile_array = np.tile([1,2,3], 3)\n",
    "print(\"Tiled array:\", tile_array)"
   ],
   "metadata": {
    "collapsed": false,
    "ExecuteTime": {
     "end_time": "2023-10-06T14:21:23.362797Z",
     "start_time": "2023-10-06T14:21:23.358785Z"
    }
   },
   "id": "8b62f966418e0a3b"
  },
  {
   "cell_type": "markdown",
   "source": [
    "### Creating from Functions\n",
    "- where each element corresponds to its index or a function of its index."
   ],
   "metadata": {
    "collapsed": false
   },
   "id": "177ca3298d81c941"
  },
  {
   "cell_type": "code",
   "execution_count": 16,
   "outputs": [
    {
     "name": "stdout",
     "output_type": "stream",
     "text": [
      "Array from function:\n",
      " [[ 0  0  0  0  0]\n",
      " [ 0  1  2  3  4]\n",
      " [ 0  2  4  6  8]\n",
      " [ 0  3  6  9 12]\n",
      " [ 0  4  8 12 16]]\n"
     ]
    }
   ],
   "source": [
    "# Create an array using a function\n",
    "def generate_values(x, y):\n",
    "    return x * y\n",
    "\n",
    "function_array = np.fromfunction(generate_values, (5, 5), dtype=int)\n",
    "print(\"Array from function:\\n\", function_array)"
   ],
   "metadata": {
    "collapsed": false,
    "ExecuteTime": {
     "end_time": "2023-10-06T14:22:03.033433Z",
     "start_time": "2023-10-06T14:22:03.024606Z"
    }
   },
   "id": "67d1df5f9f6dc622"
  },
  {
   "cell_type": "markdown",
   "source": [
    "## Data Type"
   ],
   "metadata": {
    "collapsed": false
   },
   "id": "4368bf30b241f6f6"
  },
  {
   "cell_type": "markdown",
   "source": [
    "### List"
   ],
   "metadata": {
    "collapsed": false
   },
   "id": "d9c2fe814601272a"
  },
  {
   "cell_type": "code",
   "execution_count": 17,
   "outputs": [
    {
     "data": {
      "text/plain": "[1, 'a', 3.14, [5, 6, 7], {'name': 'John'}]"
     },
     "execution_count": 17,
     "metadata": {},
     "output_type": "execute_result"
    }
   ],
   "source": [
    "python_list = [1, 'a', 3.14, [5, 6, 7], {'name': 'John'}]\n",
    "python_list"
   ],
   "metadata": {
    "collapsed": false,
    "ExecuteTime": {
     "end_time": "2023-10-06T14:28:45.209505Z",
     "start_time": "2023-10-06T14:28:45.198322Z"
    }
   },
   "id": "16e27466e6368aa7"
  },
  {
   "cell_type": "markdown",
   "source": [
    "### NumPy Array"
   ],
   "metadata": {
    "collapsed": false
   },
   "id": "c9727b0fa89b9133"
  },
  {
   "cell_type": "code",
   "execution_count": 19,
   "outputs": [],
   "source": [
    "import numpy as np\n",
    "arr = np.array([1, 2, 3], dtype=np.float32)"
   ],
   "metadata": {
    "collapsed": false,
    "ExecuteTime": {
     "end_time": "2023-10-06T14:46:33.715562Z",
     "start_time": "2023-10-06T14:46:33.708365Z"
    }
   },
   "id": "81c7869605e72641"
  },
  {
   "cell_type": "code",
   "execution_count": 21,
   "outputs": [
    {
     "name": "stdout",
     "output_type": "stream",
     "text": [
      "[1. 2. 3. 4. 5. 6.]\n"
     ]
    }
   ],
   "source": [
    "new_arr = np.append(arr, [4, 5, 6])\n",
    "print(new_arr)"
   ],
   "metadata": {
    "collapsed": false,
    "ExecuteTime": {
     "end_time": "2023-10-06T14:46:45.886536Z",
     "start_time": "2023-10-06T14:46:45.876579Z"
    }
   },
   "id": "b042bc5ddc2ee7ff"
  },
  {
   "cell_type": "code",
   "execution_count": 23,
   "outputs": [
    {
     "name": "stdout",
     "output_type": "stream",
     "text": [
      "['1.0' '2.0' '3.0' 's' 'd' 'p']\n",
      "<U32\n"
     ]
    }
   ],
   "source": [
    "new_arr = np.append(arr, ['s', 'd', 'p'])\n",
    "print(new_arr)\n",
    "print(new_arr.dtype)"
   ],
   "metadata": {
    "collapsed": false,
    "ExecuteTime": {
     "end_time": "2023-10-06T14:49:15.495263Z",
     "start_time": "2023-10-06T14:49:15.487449Z"
    }
   },
   "id": "f7b9ff62794ffa6"
  },
  {
   "cell_type": "code",
   "execution_count": 24,
   "outputs": [
    {
     "ename": "UFuncTypeError",
     "evalue": "ufunc 'absolute' did not contain a loop with signature matching types <class 'numpy.dtype[str_]'> -> None",
     "output_type": "error",
     "traceback": [
      "\u001B[0;31m---------------------------------------------------------------------------\u001B[0m",
      "\u001B[0;31mUFuncTypeError\u001B[0m                            Traceback (most recent call last)",
      "Cell \u001B[0;32mIn[24], line 1\u001B[0m\n\u001B[0;32m----> 1\u001B[0m \u001B[43mnp\u001B[49m\u001B[38;5;241;43m.\u001B[39;49m\u001B[43mabs\u001B[49m\u001B[43m(\u001B[49m\u001B[43mnew_arr\u001B[49m\u001B[43m)\u001B[49m\n",
      "\u001B[0;31mUFuncTypeError\u001B[0m: ufunc 'absolute' did not contain a loop with signature matching types <class 'numpy.dtype[str_]'> -> None"
     ]
    }
   ],
   "source": [
    "np.abs(new_arr)"
   ],
   "metadata": {
    "collapsed": false,
    "ExecuteTime": {
     "end_time": "2023-10-06T14:49:32.424394Z",
     "start_time": "2023-10-06T14:49:32.415974Z"
    }
   },
   "id": "ded8d1fe1b0be058"
  },
  {
   "cell_type": "markdown",
   "source": [
    "## Insert Data"
   ],
   "metadata": {
    "collapsed": false
   },
   "id": "e5a95a9530495470"
  },
  {
   "cell_type": "code",
   "execution_count": 26,
   "outputs": [
    {
     "name": "stdout",
     "output_type": "stream",
     "text": [
      "Original Array: [1 2 3]\n",
      "New Array: [1 2 3 4 5 6]\n"
     ]
    }
   ],
   "source": [
    "arr = np.array([1, 2, 3])\n",
    "new_arr = np.append(arr, [4, 5, 6])\n",
    "\n",
    "print(\"Original Array:\", arr)\n",
    "print(\"New Array:\", new_arr)"
   ],
   "metadata": {
    "collapsed": false,
    "ExecuteTime": {
     "end_time": "2023-10-06T14:52:58.489167Z",
     "start_time": "2023-10-06T14:52:58.480868Z"
    }
   },
   "id": "24c82b9ef1083bda"
  },
  {
   "cell_type": "code",
   "execution_count": 27,
   "outputs": [
    {
     "name": "stdout",
     "output_type": "stream",
     "text": [
      "Original Array: [1 2 3]\n",
      "New Array: [1 4 5 2 3]\n"
     ]
    }
   ],
   "source": [
    "arr = np.array([1, 2, 3])\n",
    "new_arr = np.insert(arr, 1, [4, 5])\n",
    "\n",
    "print(\"Original Array:\", arr)\n",
    "print(\"New Array:\", new_arr)"
   ],
   "metadata": {
    "collapsed": false,
    "ExecuteTime": {
     "end_time": "2023-10-06T14:53:04.146558Z",
     "start_time": "2023-10-06T14:53:04.124822Z"
    }
   },
   "id": "1363d74e22a3e987"
  },
  {
   "cell_type": "code",
   "execution_count": 28,
   "outputs": [
    {
     "name": "stdout",
     "output_type": "stream",
     "text": [
      "Merged Array: [1 2 3 4 5 6]\n"
     ]
    }
   ],
   "source": [
    "arr1 = np.array([1, 2, 3])\n",
    "arr2 = np.array([4, 5, 6])\n",
    "\n",
    "merged_arr = np.hstack((arr1, arr2))\n",
    "print(\"Merged Array:\", merged_arr)"
   ],
   "metadata": {
    "collapsed": false,
    "ExecuteTime": {
     "end_time": "2023-10-06T14:53:10.219182Z",
     "start_time": "2023-10-06T14:53:10.203116Z"
    }
   },
   "id": "b075ae38924ec853"
  },
  {
   "cell_type": "markdown",
   "source": [
    "## Indexing"
   ],
   "metadata": {
    "collapsed": false
   },
   "id": "9147f883fac21958"
  },
  {
   "cell_type": "code",
   "execution_count": 29,
   "outputs": [],
   "source": [
    "l = [1,2,3,4,5]\n",
    "arr = np.array(l)"
   ],
   "metadata": {
    "collapsed": false,
    "ExecuteTime": {
     "end_time": "2023-10-06T14:56:08.820314Z",
     "start_time": "2023-10-06T14:56:08.805251Z"
    }
   },
   "id": "2f02f80be53a3d5c"
  },
  {
   "cell_type": "markdown",
   "source": [
    "### basic"
   ],
   "metadata": {
    "collapsed": false
   },
   "id": "4098e0ded4170809"
  },
  {
   "cell_type": "code",
   "execution_count": 31,
   "outputs": [
    {
     "name": "stdout",
     "output_type": "stream",
     "text": [
      "2 2\n",
      "[2, 4] [2 4]\n"
     ]
    }
   ],
   "source": [
    "print(l[1], arr[1])\n",
    "print(l[1:4:2], arr[1:4:2])"
   ],
   "metadata": {
    "collapsed": false,
    "ExecuteTime": {
     "end_time": "2023-10-06T14:57:13.675098Z",
     "start_time": "2023-10-06T14:57:13.664494Z"
    }
   },
   "id": "bb209b1c1867ffa4"
  },
  {
   "cell_type": "markdown",
   "source": [
    "### Boolean Indexing "
   ],
   "metadata": {
    "collapsed": false
   },
   "id": "80aee1cb2adbdcd7"
  },
  {
   "cell_type": "code",
   "execution_count": 32,
   "outputs": [
    {
     "name": "stdout",
     "output_type": "stream",
     "text": [
      "[4 5]\n"
     ]
    }
   ],
   "source": [
    "print(arr[arr > 3])  # Outputs [4 5]"
   ],
   "metadata": {
    "collapsed": false,
    "ExecuteTime": {
     "end_time": "2023-10-06T14:57:49.530409Z",
     "start_time": "2023-10-06T14:57:49.512184Z"
    }
   },
   "id": "9fa0e8ceaeeda3d"
  },
  {
   "cell_type": "code",
   "execution_count": 35,
   "outputs": [
    {
     "name": "stdout",
     "output_type": "stream",
     "text": [
      "[False False False  True  True]\n"
     ]
    }
   ],
   "source": [
    "index_list = arr > 3\n",
    "print(index_list)"
   ],
   "metadata": {
    "collapsed": false,
    "ExecuteTime": {
     "end_time": "2023-10-06T14:58:29.507595Z",
     "start_time": "2023-10-06T14:58:29.495191Z"
    }
   },
   "id": "a7d8ffe91b7e09fb"
  },
  {
   "cell_type": "code",
   "execution_count": 36,
   "outputs": [
    {
     "name": "stdout",
     "output_type": "stream",
     "text": [
      "[4 5]\n"
     ]
    }
   ],
   "source": [
    "print(arr[index_list])"
   ],
   "metadata": {
    "collapsed": false,
    "ExecuteTime": {
     "end_time": "2023-10-06T14:58:42.278345Z",
     "start_time": "2023-10-06T14:58:42.272897Z"
    }
   },
   "id": "a6f6a91ff0a8762b"
  },
  {
   "cell_type": "code",
   "execution_count": 33,
   "outputs": [
    {
     "ename": "TypeError",
     "evalue": "'>' not supported between instances of 'list' and 'int'",
     "output_type": "error",
     "traceback": [
      "\u001B[0;31m---------------------------------------------------------------------------\u001B[0m",
      "\u001B[0;31mTypeError\u001B[0m                                 Traceback (most recent call last)",
      "Cell \u001B[0;32mIn[33], line 1\u001B[0m\n\u001B[0;32m----> 1\u001B[0m \u001B[38;5;28mprint\u001B[39m(l[\u001B[43ml\u001B[49m\u001B[43m \u001B[49m\u001B[38;5;241;43m>\u001B[39;49m\u001B[43m \u001B[49m\u001B[38;5;241;43m3\u001B[39;49m])\n",
      "\u001B[0;31mTypeError\u001B[0m: '>' not supported between instances of 'list' and 'int'"
     ]
    }
   ],
   "source": [
    "print(l[l > 3]) "
   ],
   "metadata": {
    "collapsed": false,
    "ExecuteTime": {
     "end_time": "2023-10-06T14:57:56.470584Z",
     "start_time": "2023-10-06T14:57:56.448018Z"
    }
   },
   "id": "d77e224b5c945560"
  },
  {
   "cell_type": "markdown",
   "source": [
    "### Fancy Indexing\n",
    "- index arrays using integer arrays"
   ],
   "metadata": {
    "collapsed": false
   },
   "id": "7255571ca307c277"
  },
  {
   "cell_type": "code",
   "execution_count": 37,
   "outputs": [
    {
     "name": "stdout",
     "output_type": "stream",
     "text": [
      "[2 4]\n"
     ]
    }
   ],
   "source": [
    "indices = np.array([1, 3])\n",
    "print(arr[indices])  # Outputs [20 40]"
   ],
   "metadata": {
    "collapsed": false,
    "ExecuteTime": {
     "end_time": "2023-10-06T14:59:33.438419Z",
     "start_time": "2023-10-06T14:59:33.418186Z"
    }
   },
   "id": "4b9a20c08c335371"
  },
  {
   "cell_type": "code",
   "execution_count": 39,
   "outputs": [
    {
     "ename": "TypeError",
     "evalue": "list indices must be integers or slices, not list",
     "output_type": "error",
     "traceback": [
      "\u001B[0;31m---------------------------------------------------------------------------\u001B[0m",
      "\u001B[0;31mTypeError\u001B[0m                                 Traceback (most recent call last)",
      "Cell \u001B[0;32mIn[39], line 2\u001B[0m\n\u001B[1;32m      1\u001B[0m indices \u001B[38;5;241m=\u001B[39m [\u001B[38;5;241m1\u001B[39m,\u001B[38;5;241m3\u001B[39m]\n\u001B[0;32m----> 2\u001B[0m \u001B[43ml\u001B[49m\u001B[43m[\u001B[49m\u001B[43mindices\u001B[49m\u001B[43m]\u001B[49m\n",
      "\u001B[0;31mTypeError\u001B[0m: list indices must be integers or slices, not list"
     ]
    }
   ],
   "source": [
    "indices = [1,3]\n",
    "l[indices]"
   ],
   "metadata": {
    "collapsed": false,
    "ExecuteTime": {
     "end_time": "2023-10-06T14:59:57.460713Z",
     "start_time": "2023-10-06T14:59:57.458304Z"
    }
   },
   "id": "8c5f763944c80488"
  },
  {
   "cell_type": "markdown",
   "source": [
    "## Matrix"
   ],
   "metadata": {
    "collapsed": false
   },
   "id": "2d04c53e2b983061"
  },
  {
   "cell_type": "markdown",
   "source": [
    "### element-wise Operations"
   ],
   "metadata": {
    "collapsed": false
   },
   "id": "1ece3399f0aaea68"
  },
  {
   "cell_type": "code",
   "execution_count": 40,
   "outputs": [
    {
     "name": "stdout",
     "output_type": "stream",
     "text": [
      "[[3 4]\n",
      " [5 6]]\n",
      "[[2 4]\n",
      " [6 8]]\n"
     ]
    }
   ],
   "source": [
    "A = np.array([[1, 2], [3, 4]])\n",
    "B = np.array([[2, 2], [2, 2]])\n",
    "print(A + B)  # Element-wise addition\n",
    "print(A * B)  # Element-wise multiplication"
   ],
   "metadata": {
    "collapsed": false,
    "ExecuteTime": {
     "end_time": "2023-10-06T15:10:54.407760Z",
     "start_time": "2023-10-06T15:10:54.387770Z"
    }
   },
   "id": "dae68bba2a5e6129"
  },
  {
   "cell_type": "markdown",
   "source": [
    "### Matrix Multiplications"
   ],
   "metadata": {
    "collapsed": false
   },
   "id": "440b3fd4f38fd170"
  },
  {
   "cell_type": "code",
   "execution_count": 41,
   "outputs": [
    {
     "name": "stdout",
     "output_type": "stream",
     "text": [
      "[[ 6  6]\n",
      " [14 14]]\n",
      "[[ 6  6]\n",
      " [14 14]]\n"
     ]
    }
   ],
   "source": [
    "print(A.dot(B))   # Matrix multiplication\n",
    "print(A @ B)      # Another way for matrix multiplication"
   ],
   "metadata": {
    "collapsed": false,
    "ExecuteTime": {
     "end_time": "2023-10-06T15:11:12.168775Z",
     "start_time": "2023-10-06T15:11:12.150692Z"
    }
   },
   "id": "d68d616ca8726850"
  },
  {
   "cell_type": "markdown",
   "source": [
    "### Advanced Operations "
   ],
   "metadata": {
    "collapsed": false
   },
   "id": "be5858b9342fa9c"
  },
  {
   "cell_type": "code",
   "execution_count": 42,
   "outputs": [
    {
     "name": "stdout",
     "output_type": "stream",
     "text": [
      "[[1 3]\n",
      " [2 4]]\n"
     ]
    }
   ],
   "source": [
    "print(A.T)  # Transpose of matrix A"
   ],
   "metadata": {
    "collapsed": false,
    "ExecuteTime": {
     "end_time": "2023-10-06T15:12:04.714511Z",
     "start_time": "2023-10-06T15:12:04.691973Z"
    }
   },
   "id": "d70052fe7fe1f64d"
  },
  {
   "cell_type": "code",
   "execution_count": 44,
   "outputs": [
    {
     "name": "stdout",
     "output_type": "stream",
     "text": [
      "-2.0000000000000004\n",
      "[[-2.   1. ]\n",
      " [ 1.5 -0.5]]\n",
      "2\n",
      "5\n"
     ]
    }
   ],
   "source": [
    "from numpy.linalg import det, inv, matrix_rank\n",
    "from numpy import trace\n",
    "\n",
    "print(det(A))         # Determinant of A\n",
    "print(inv(A))         # Inverse of A (if it exists)\n",
    "print(matrix_rank(A)) # Rank of A\n",
    "print(trace(A))       # Trace of A"
   ],
   "metadata": {
    "collapsed": false,
    "ExecuteTime": {
     "end_time": "2023-10-06T15:12:56.992678Z",
     "start_time": "2023-10-06T15:12:56.981103Z"
    }
   },
   "id": "ca1afa9035744b2c"
  },
  {
   "cell_type": "markdown",
   "source": [
    "## Vectorization\n",
    "### Problem:\n",
    "Let's say you have two sets of points: A and B. You want to compute the Euclidean distances between each point in A and each point in B."
   ],
   "metadata": {
    "collapsed": false
   },
   "id": "f62649bed45285f2"
  },
  {
   "cell_type": "markdown",
   "source": [
    "### Non-Vectorized "
   ],
   "metadata": {
    "collapsed": false
   },
   "id": "360692d3c4ace8ca"
  },
  {
   "cell_type": "code",
   "execution_count": 45,
   "outputs": [
    {
     "name": "stdout",
     "output_type": "stream",
     "text": [
      "[[ 8.48528137 11.3137085  14.14213562]\n",
      " [ 5.65685425  8.48528137 11.3137085 ]\n",
      " [ 2.82842712  5.65685425  8.48528137]]\n"
     ]
    }
   ],
   "source": [
    "import numpy as np\n",
    "\n",
    "A = np.array([[1, 2], [3, 4], [5, 6]])\n",
    "B = np.array([[7, 8], [9, 10], [11, 12]])\n",
    "\n",
    "distances = np.empty((A.shape[0], B.shape[0]))\n",
    "\n",
    "for i in range(A.shape[0]):\n",
    "    for j in range(B.shape[0]):\n",
    "        distances[i, j] = np.sqrt(np.sum((A[i] - B[j])**2))\n",
    "\n",
    "print(distances)"
   ],
   "metadata": {
    "collapsed": false,
    "ExecuteTime": {
     "end_time": "2023-10-06T15:17:21.016818Z",
     "start_time": "2023-10-06T15:17:20.997603Z"
    }
   },
   "id": "41bc48147254a3f1"
  },
  {
   "cell_type": "markdown",
   "source": [
    "### Vectorized"
   ],
   "metadata": {
    "collapsed": false
   },
   "id": "43158d1cdc76c487"
  },
  {
   "cell_type": "code",
   "execution_count": 46,
   "outputs": [
    {
     "name": "stdout",
     "output_type": "stream",
     "text": [
      "[[ 8.48528137 11.3137085  14.14213562]\n",
      " [ 5.65685425  8.48528137 11.3137085 ]\n",
      " [ 2.82842712  5.65685425  8.48528137]]\n"
     ]
    }
   ],
   "source": [
    "# Broadcasting A and B for difference calculation\n",
    "differences = A[:, np.newaxis, :] - B[np.newaxis, :, :]\n",
    "\n",
    "# Squaring and summing differences\n",
    "squared_differences = differences ** 2\n",
    "summed_squared_differences = squared_differences.sum(axis=-1)\n",
    "\n",
    "# Taking the square root for final distances\n",
    "distances_vectorized = np.sqrt(summed_squared_differences)\n",
    "\n",
    "print(distances_vectorized)"
   ],
   "metadata": {
    "collapsed": false,
    "ExecuteTime": {
     "end_time": "2023-10-06T15:17:28.193896Z",
     "start_time": "2023-10-06T15:17:28.170613Z"
    }
   },
   "id": "bf53a86b6cab1601"
  },
  {
   "cell_type": "markdown",
   "source": [
    "### DIFF"
   ],
   "metadata": {
    "collapsed": false
   },
   "id": "7cb07a0d5943d74b"
  },
  {
   "cell_type": "code",
   "execution_count": 48,
   "outputs": [
    {
     "name": "stdout",
     "output_type": "stream",
     "text": [
      "Non-vectorized time: 3.7271 seconds\n",
      "Vectorized time: 0.0348 seconds\n"
     ]
    }
   ],
   "source": [
    "import time\n",
    "\n",
    "# Generate larger random datasets\n",
    "A_large = np.random.rand(1000, 2)\n",
    "B_large = np.random.rand(1000, 2)\n",
    "\n",
    "# Time the non-vectorized version\n",
    "start_time = time.time()\n",
    "for i in range(A_large.shape[0]):\n",
    "    for j in range(B_large.shape[0]):\n",
    "        _ = np.sqrt(np.sum((A_large[i] - B_large[j])**2))\n",
    "non_vectorized_time = time.time() - start_time\n",
    "\n",
    "# Time the vectorized version\n",
    "start_time = time.time()\n",
    "differences = A_large[:, np.newaxis, :] - B_large[np.newaxis, :, :]\n",
    "squared_differences = differences ** 2\n",
    "summed_squared_differences = squared_differences.sum(axis=-1)\n",
    "_ = np.sqrt(summed_squared_differences)\n",
    "vectorized_time = time.time() - start_time\n",
    "\n",
    "print(f\"Non-vectorized time: {non_vectorized_time:.4f} seconds\")\n",
    "print(f\"Vectorized time: {vectorized_time:.4f} seconds\")"
   ],
   "metadata": {
    "collapsed": false,
    "ExecuteTime": {
     "end_time": "2023-10-06T15:18:15.180987Z",
     "start_time": "2023-10-06T15:18:11.415006Z"
    }
   },
   "id": "28505da331918744"
  },
  {
   "cell_type": "markdown",
   "source": [
    "## BroadCasting"
   ],
   "metadata": {
    "collapsed": false
   },
   "id": "efc53e1cec587a8f"
  },
  {
   "cell_type": "markdown",
   "source": [
    "### Example 1"
   ],
   "metadata": {
    "collapsed": false
   },
   "id": "d943158f19eb0b0c"
  },
  {
   "cell_type": "code",
   "execution_count": 49,
   "outputs": [
    {
     "name": "stdout",
     "output_type": "stream",
     "text": [
      "[2 4 6]\n"
     ]
    }
   ],
   "source": [
    "a = np.array([1, 2, 3])\n",
    "b = 2\n",
    "\n",
    "result = a * b\n",
    "print(result)  # Outputs: [2, 4, 6]"
   ],
   "metadata": {
    "collapsed": false,
    "ExecuteTime": {
     "end_time": "2023-10-06T15:23:57.021501Z",
     "start_time": "2023-10-06T15:23:56.994773Z"
    }
   },
   "id": "96af12b27455427a"
  },
  {
   "cell_type": "code",
   "execution_count": 50,
   "outputs": [
    {
     "name": "stdout",
     "output_type": "stream",
     "text": [
      "[2 4 6]\n"
     ]
    }
   ],
   "source": [
    "a = np.array([1, 2, 3])\n",
    "b = np.array([2, 2, 2])\n",
    "\n",
    "result = a * b\n",
    "print(result)  # Outputs: [2, 4, 6]"
   ],
   "metadata": {
    "collapsed": false,
    "ExecuteTime": {
     "end_time": "2023-10-06T15:24:36.485327Z",
     "start_time": "2023-10-06T15:24:36.455772Z"
    }
   },
   "id": "7c4d1c8ec7e0f63f"
  },
  {
   "cell_type": "markdown",
   "source": [
    "### Example 2"
   ],
   "metadata": {
    "collapsed": false
   },
   "id": "9e2759c6d9c7b7bc"
  },
  {
   "cell_type": "code",
   "execution_count": 51,
   "outputs": [
    {
     "name": "stdout",
     "output_type": "stream",
     "text": [
      "[[ 2  6]\n",
      " [ 6 12]\n",
      " [10 18]]\n"
     ]
    }
   ],
   "source": [
    "A = np.array([[1, 2], [3, 4], [5, 6]])\n",
    "b = np.array([2, 3])\n",
    "\n",
    "result = A * b\n",
    "print(result)"
   ],
   "metadata": {
    "collapsed": false,
    "ExecuteTime": {
     "end_time": "2023-10-06T15:24:56.514948Z",
     "start_time": "2023-10-06T15:24:56.484124Z"
    }
   },
   "id": "c8e0cac925838943"
  },
  {
   "cell_type": "markdown",
   "source": [
    "### Example 3"
   ],
   "metadata": {
    "collapsed": false
   },
   "id": "204da39d66891da"
  },
  {
   "cell_type": "code",
   "execution_count": 52,
   "outputs": [
    {
     "name": "stdout",
     "output_type": "stream",
     "text": [
      "[[ 2  3  4]\n",
      " [ 6  7  8]\n",
      " [10 11 12]]\n"
     ]
    }
   ],
   "source": [
    "A = np.array([[1, 2, 3], [4, 5, 6], [7, 8, 9]])\n",
    "b = np.array([[1], [2], [3]])\n",
    "\n",
    "result = A + b\n",
    "print(result)"
   ],
   "metadata": {
    "collapsed": false,
    "ExecuteTime": {
     "end_time": "2023-10-06T15:25:20.075973Z",
     "start_time": "2023-10-06T15:25:20.046476Z"
    }
   },
   "id": "f7c9a382b40ed942"
  },
  {
   "cell_type": "markdown",
   "source": [
    "### Example 4"
   ],
   "metadata": {
    "collapsed": false
   },
   "id": "eac758e086ce66be"
  },
  {
   "cell_type": "code",
   "execution_count": 53,
   "outputs": [
    {
     "name": "stdout",
     "output_type": "stream",
     "text": [
      "[[2 4]\n",
      " [4 6]\n",
      " [6 8]]\n"
     ]
    }
   ],
   "source": [
    "A = np.array([[1, 2], [3, 4], [5, 6]])\n",
    "b = np.array([[1], [2]])\n",
    "\n",
    "result = A + b.T\n",
    "print(result)"
   ],
   "metadata": {
    "collapsed": false,
    "ExecuteTime": {
     "end_time": "2023-10-06T15:26:06.826016Z",
     "start_time": "2023-10-06T15:26:06.801203Z"
    }
   },
   "id": "bbeca19e834dfcf7"
  }
 ],
 "metadata": {
  "kernelspec": {
   "display_name": "Python 3",
   "language": "python",
   "name": "python3"
  },
  "language_info": {
   "codemirror_mode": {
    "name": "ipython",
    "version": 2
   },
   "file_extension": ".py",
   "mimetype": "text/x-python",
   "name": "python",
   "nbconvert_exporter": "python",
   "pygments_lexer": "ipython2",
   "version": "2.7.6"
  }
 },
 "nbformat": 4,
 "nbformat_minor": 5
}
