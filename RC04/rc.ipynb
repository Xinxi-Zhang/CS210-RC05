{
 "cells": [
  {
   "cell_type": "markdown",
   "id": "e3760a0044b47a38",
   "metadata": {},
   "source": [
    "# NUMPY"
   ]
  },
  {
   "cell_type": "code",
   "execution_count": 2,
   "id": "c31768f8505a3ad1",
   "metadata": {
    "ExecuteTime": {
     "end_time": "2023-10-06T14:18:42.534382Z",
     "start_time": "2023-10-06T14:18:41.906047Z"
    }
   },
   "outputs": [],
   "source": [
    "import numpy as np"
   ]
  },
  {
   "cell_type": "markdown",
   "id": "d36ca727aa9735ca",
   "metadata": {},
   "source": [
    "## Creation"
   ]
  },
  {
   "cell_type": "markdown",
   "id": "31a72ea4abf41c85",
   "metadata": {},
   "source": [
    "### List & Tupule"
   ]
  },
  {
   "cell_type": "code",
   "execution_count": 3,
   "id": "initial_id",
   "metadata": {
    "ExecuteTime": {
     "end_time": "2023-10-06T14:18:42.539198Z",
     "start_time": "2023-10-06T14:18:42.535683Z"
    }
   },
   "outputs": [
    {
     "name": "stdout",
     "output_type": "stream",
     "text": [
      "Array from list: [1 2 3 4 5]\n",
      "Array from tuple: [ 6  7  8  9 10]\n"
     ]
    }
   ],
   "source": [
    "# From a list\n",
    "list_array = np.array([1, 2, 3, 4, 5])\n",
    "print(\"Array from list:\", list_array)\n",
    "\n",
    "# From a tuple\n",
    "tuple_array = np.array((6, 7, 8, 9, 10))\n",
    "print(\"Array from tuple:\", tuple_array)"
   ]
  },
  {
   "cell_type": "markdown",
   "id": "b5638d6b4e3e18b9",
   "metadata": {},
   "source": [
    "### Built-in Functions"
   ]
  },
  {
   "cell_type": "code",
   "execution_count": 4,
   "id": "7e3938691be008e",
   "metadata": {
    "ExecuteTime": {
     "end_time": "2023-10-06T14:19:01.321811Z",
     "start_time": "2023-10-06T14:19:01.309080Z"
    }
   },
   "outputs": [
    {
     "name": "stdout",
     "output_type": "stream",
     "text": [
      "Array of zeros: [0. 0. 0. 0. 0.]\n",
      "Array of ones: [1. 1. 1. 1. 1.]\n",
      "Array with range: [0 1 2 3 4 5 6 7 8 9]\n",
      "Array with linearly spaced values: [0.   0.25 0.5  0.75 1.  ]\n",
      "Identity matrix:\n",
      " [[1. 0. 0.]\n",
      " [0. 1. 0.]\n",
      " [0. 0. 1.]]\n"
     ]
    }
   ],
   "source": [
    "# Array of zeros\n",
    "zeros_array = np.zeros(5)\n",
    "print(\"Array of zeros:\", zeros_array)\n",
    "\n",
    "# Array of ones\n",
    "ones_array = np.ones(5)\n",
    "print(\"Array of ones:\", ones_array)\n",
    "\n",
    "# Array with a range of values\n",
    "range_array = np.arange(10)\n",
    "print(\"Array with range:\", range_array)\n",
    "\n",
    "# Array with linearly spaced values\n",
    "linspace_array = np.linspace(0, 1, 5)\n",
    "print(\"Array with linearly spaced values:\", linspace_array)\n",
    "\n",
    "# Identity matrix\n",
    "identity_matrix = np.eye(3)\n",
    "print(\"Identity matrix:\\n\", identity_matrix)"
   ]
  },
  {
   "cell_type": "markdown",
   "id": "456cd954b999fcf2",
   "metadata": {},
   "source": [
    "### Random Built-in Functions"
   ]
  },
  {
   "cell_type": "code",
   "execution_count": 5,
   "id": "4e4edb06ec8e5632",
   "metadata": {
    "ExecuteTime": {
     "end_time": "2023-10-06T14:20:26.444495Z",
     "start_time": "2023-10-06T14:20:26.437801Z"
    }
   },
   "outputs": [
    {
     "name": "stdout",
     "output_type": "stream",
     "text": [
      "Random array: [0.01273621 0.60833842 0.79372128 0.05582399 0.87055862]\n",
      "Random integer array: [6 1 8 3 7]\n",
      "Array from normal distribution: [-0.74914634 -1.63495157 -2.47470123 -0.70718899 -0.75701803]\n"
     ]
    }
   ],
   "source": [
    "# Random array with values between 0 and 1\n",
    "rand_array = np.random.rand(5)\n",
    "print(\"Random array:\", rand_array)\n",
    "\n",
    "# Random array with integers\n",
    "randint_array = np.random.randint(0, 10, size=5)\n",
    "print(\"Random integer array:\", randint_array)\n",
    "\n",
    "# Random normal distribution\n",
    "normal_array = np.random.randn(5)\n",
    "print(\"Array from normal distribution:\", normal_array)"
   ]
  },
  {
   "cell_type": "markdown",
   "id": "1bd9748d0e00fa4e",
   "metadata": {},
   "source": [
    "### Special Built-in Functions"
   ]
  },
  {
   "cell_type": "code",
   "execution_count": 6,
   "id": "8b62f966418e0a3b",
   "metadata": {
    "ExecuteTime": {
     "end_time": "2023-10-06T14:21:23.362797Z",
     "start_time": "2023-10-06T14:21:23.358785Z"
    }
   },
   "outputs": [
    {
     "name": "stdout",
     "output_type": "stream",
     "text": [
      "Repeated array: [1 1 1 2 2 2 3 3 3]\n",
      "Tiled array: [1 2 3 1 2 3 1 2 3]\n"
     ]
    }
   ],
   "source": [
    "# Repeat each element 3 times\n",
    "repeat_array = np.repeat([1,2,3], 3)\n",
    "print(\"Repeated array:\", repeat_array)\n",
    "\n",
    "# Tile the whole array 3 times\n",
    "tile_array = np.tile([1,2,3], 3)\n",
    "print(\"Tiled array:\", tile_array)"
   ]
  },
  {
   "cell_type": "markdown",
   "id": "177ca3298d81c941",
   "metadata": {},
   "source": [
    "### Creating from Functions\n",
    "- where each element corresponds to its index or a function of its index."
   ]
  },
  {
   "cell_type": "code",
   "execution_count": 7,
   "id": "67d1df5f9f6dc622",
   "metadata": {
    "ExecuteTime": {
     "end_time": "2023-10-06T14:22:03.033433Z",
     "start_time": "2023-10-06T14:22:03.024606Z"
    }
   },
   "outputs": [
    {
     "name": "stdout",
     "output_type": "stream",
     "text": [
      "Array from function:\n",
      " [[ 0  0  0  0  0]\n",
      " [ 0  1  2  3  4]\n",
      " [ 0  2  4  6  8]\n",
      " [ 0  3  6  9 12]\n",
      " [ 0  4  8 12 16]]\n"
     ]
    }
   ],
   "source": [
    "# Create an array using a function\n",
    "def generate_values(x, y):\n",
    "    return x * y\n",
    "\n",
    "function_array = np.fromfunction(generate_values, (5, 5), dtype=int)\n",
    "print(\"Array from function:\\n\", function_array)"
   ]
  },
  {
   "cell_type": "markdown",
   "id": "4368bf30b241f6f6",
   "metadata": {},
   "source": [
    "## Data Type"
   ]
  },
  {
   "cell_type": "markdown",
   "id": "d9c2fe814601272a",
   "metadata": {},
   "source": [
    "### List"
   ]
  },
  {
   "cell_type": "code",
   "execution_count": 8,
   "id": "16e27466e6368aa7",
   "metadata": {
    "ExecuteTime": {
     "end_time": "2023-10-06T14:28:45.209505Z",
     "start_time": "2023-10-06T14:28:45.198322Z"
    }
   },
   "outputs": [
    {
     "data": {
      "text/plain": [
       "[1, 'a', 3.14, [5, 6, 7], {'name': 'John'}]"
      ]
     },
     "execution_count": 8,
     "metadata": {},
     "output_type": "execute_result"
    }
   ],
   "source": [
    "python_list = [1, 'a', 3.14, [5, 6, 7], {'name': 'John'}]\n",
    "python_list"
   ]
  },
  {
   "cell_type": "markdown",
   "id": "c9727b0fa89b9133",
   "metadata": {},
   "source": [
    "### NumPy Array"
   ]
  },
  {
   "cell_type": "code",
   "execution_count": 9,
   "id": "81c7869605e72641",
   "metadata": {
    "ExecuteTime": {
     "end_time": "2023-10-06T14:46:33.715562Z",
     "start_time": "2023-10-06T14:46:33.708365Z"
    }
   },
   "outputs": [],
   "source": [
    "import numpy as np\n",
    "arr = np.array([1, 2, 3], dtype=np.float32)"
   ]
  },
  {
   "cell_type": "code",
   "execution_count": 10,
   "id": "b042bc5ddc2ee7ff",
   "metadata": {
    "ExecuteTime": {
     "end_time": "2023-10-06T14:46:45.886536Z",
     "start_time": "2023-10-06T14:46:45.876579Z"
    }
   },
   "outputs": [
    {
     "name": "stdout",
     "output_type": "stream",
     "text": [
      "[1. 2. 3. 4. 5. 6.]\n"
     ]
    }
   ],
   "source": [
    "new_arr = np.append(arr, [4, 5, 6])\n",
    "print(new_arr)"
   ]
  },
  {
   "cell_type": "code",
   "execution_count": 11,
   "id": "f7b9ff62794ffa6",
   "metadata": {
    "ExecuteTime": {
     "end_time": "2023-10-06T14:49:15.495263Z",
     "start_time": "2023-10-06T14:49:15.487449Z"
    }
   },
   "outputs": [
    {
     "name": "stdout",
     "output_type": "stream",
     "text": [
      "['1.0' '2.0' '3.0' 's' 'd' 'p']\n",
      "<U32\n"
     ]
    }
   ],
   "source": [
    "new_arr = np.append(arr, ['s', 'd', 'p'])\n",
    "print(new_arr)\n",
    "print(new_arr.dtype)"
   ]
  },
  {
   "cell_type": "code",
   "execution_count": 12,
   "id": "ded8d1fe1b0be058",
   "metadata": {
    "ExecuteTime": {
     "end_time": "2023-10-06T14:49:32.424394Z",
     "start_time": "2023-10-06T14:49:32.415974Z"
    }
   },
   "outputs": [
    {
     "ename": "UFuncTypeError",
     "evalue": "ufunc 'absolute' did not contain a loop with signature matching types <class 'numpy.dtype[str_]'> -> None",
     "output_type": "error",
     "traceback": [
      "\u001b[0;31m---------------------------------------------------------------------------\u001b[0m",
      "\u001b[0;31mUFuncTypeError\u001b[0m                            Traceback (most recent call last)",
      "Cell \u001b[0;32mIn[12], line 1\u001b[0m\n\u001b[0;32m----> 1\u001b[0m \u001b[43mnp\u001b[49m\u001b[38;5;241;43m.\u001b[39;49m\u001b[43mabs\u001b[49m\u001b[43m(\u001b[49m\u001b[43mnew_arr\u001b[49m\u001b[43m)\u001b[49m\n",
      "\u001b[0;31mUFuncTypeError\u001b[0m: ufunc 'absolute' did not contain a loop with signature matching types <class 'numpy.dtype[str_]'> -> None"
     ]
    }
   ],
   "source": [
    "np.abs(new_arr)"
   ]
  },
  {
   "cell_type": "markdown",
   "id": "e5a95a9530495470",
   "metadata": {},
   "source": [
    "## Insert Data"
   ]
  },
  {
   "cell_type": "code",
   "execution_count": 13,
   "id": "24c82b9ef1083bda",
   "metadata": {
    "ExecuteTime": {
     "end_time": "2023-10-06T14:52:58.489167Z",
     "start_time": "2023-10-06T14:52:58.480868Z"
    }
   },
   "outputs": [
    {
     "name": "stdout",
     "output_type": "stream",
     "text": [
      "Original Array: [1 2 3]\n",
      "New Array: [1 2 3 4 5 6]\n"
     ]
    }
   ],
   "source": [
    "arr = np.array([1, 2, 3])\n",
    "new_arr = np.append(arr, [4, 5, 6])\n",
    "\n",
    "print(\"Original Array:\", arr)\n",
    "print(\"New Array:\", new_arr)"
   ]
  },
  {
   "cell_type": "code",
   "execution_count": 14,
   "id": "1363d74e22a3e987",
   "metadata": {
    "ExecuteTime": {
     "end_time": "2023-10-06T14:53:04.146558Z",
     "start_time": "2023-10-06T14:53:04.124822Z"
    }
   },
   "outputs": [
    {
     "name": "stdout",
     "output_type": "stream",
     "text": [
      "Original Array: [1 2 3]\n",
      "New Array: [1 4 5 2 3]\n"
     ]
    }
   ],
   "source": [
    "arr = np.array([1, 2, 3])\n",
    "new_arr = np.insert(arr, 1, [4, 5])\n",
    "\n",
    "print(\"Original Array:\", arr)\n",
    "print(\"New Array:\", new_arr)"
   ]
  },
  {
   "cell_type": "code",
   "execution_count": 15,
   "id": "b075ae38924ec853",
   "metadata": {
    "ExecuteTime": {
     "end_time": "2023-10-06T14:53:10.219182Z",
     "start_time": "2023-10-06T14:53:10.203116Z"
    }
   },
   "outputs": [
    {
     "name": "stdout",
     "output_type": "stream",
     "text": [
      "Merged Array: [1 2 3 4 5 6]\n"
     ]
    }
   ],
   "source": [
    "arr1 = np.array([1, 2, 3])\n",
    "arr2 = np.array([4, 5, 6])\n",
    "\n",
    "merged_arr = np.hstack((arr1, arr2))\n",
    "print(\"Merged Array:\", merged_arr)"
   ]
  },
  {
   "cell_type": "markdown",
   "id": "9147f883fac21958",
   "metadata": {},
   "source": [
    "## Indexing"
   ]
  },
  {
   "cell_type": "code",
   "execution_count": 16,
   "id": "2f02f80be53a3d5c",
   "metadata": {
    "ExecuteTime": {
     "end_time": "2023-10-06T14:56:08.820314Z",
     "start_time": "2023-10-06T14:56:08.805251Z"
    }
   },
   "outputs": [],
   "source": [
    "l = [1,2,3,4,5]\n",
    "arr = np.array(l)"
   ]
  },
  {
   "cell_type": "markdown",
   "id": "4098e0ded4170809",
   "metadata": {},
   "source": [
    "### basic"
   ]
  },
  {
   "cell_type": "code",
   "execution_count": 17,
   "id": "bb209b1c1867ffa4",
   "metadata": {
    "ExecuteTime": {
     "end_time": "2023-10-06T14:57:13.675098Z",
     "start_time": "2023-10-06T14:57:13.664494Z"
    }
   },
   "outputs": [
    {
     "name": "stdout",
     "output_type": "stream",
     "text": [
      "2 2\n",
      "[2, 4] [2 4]\n"
     ]
    }
   ],
   "source": [
    "print(l[1], arr[1])\n",
    "print(l[1:4:2], arr[1:4:2])"
   ]
  },
  {
   "cell_type": "markdown",
   "id": "80aee1cb2adbdcd7",
   "metadata": {},
   "source": [
    "### Boolean Indexing "
   ]
  },
  {
   "cell_type": "code",
   "execution_count": 18,
   "id": "9fa0e8ceaeeda3d",
   "metadata": {
    "ExecuteTime": {
     "end_time": "2023-10-06T14:57:49.530409Z",
     "start_time": "2023-10-06T14:57:49.512184Z"
    }
   },
   "outputs": [
    {
     "name": "stdout",
     "output_type": "stream",
     "text": [
      "[4 5]\n"
     ]
    }
   ],
   "source": [
    "print(arr[arr > 3])  # Outputs [4 5]"
   ]
  },
  {
   "cell_type": "code",
   "execution_count": 19,
   "id": "a7d8ffe91b7e09fb",
   "metadata": {
    "ExecuteTime": {
     "end_time": "2023-10-06T14:58:29.507595Z",
     "start_time": "2023-10-06T14:58:29.495191Z"
    }
   },
   "outputs": [
    {
     "name": "stdout",
     "output_type": "stream",
     "text": [
      "[False False False  True  True]\n"
     ]
    }
   ],
   "source": [
    "index_list = arr > 3\n",
    "print(index_list)"
   ]
  },
  {
   "cell_type": "code",
   "execution_count": 20,
   "id": "a6f6a91ff0a8762b",
   "metadata": {
    "ExecuteTime": {
     "end_time": "2023-10-06T14:58:42.278345Z",
     "start_time": "2023-10-06T14:58:42.272897Z"
    }
   },
   "outputs": [
    {
     "name": "stdout",
     "output_type": "stream",
     "text": [
      "[4 5]\n"
     ]
    }
   ],
   "source": [
    "print(arr[index_list])"
   ]
  },
  {
   "cell_type": "code",
   "execution_count": 21,
   "id": "d77e224b5c945560",
   "metadata": {
    "ExecuteTime": {
     "end_time": "2023-10-06T14:57:56.470584Z",
     "start_time": "2023-10-06T14:57:56.448018Z"
    }
   },
   "outputs": [
    {
     "ename": "TypeError",
     "evalue": "'>' not supported between instances of 'list' and 'int'",
     "output_type": "error",
     "traceback": [
      "\u001b[0;31m---------------------------------------------------------------------------\u001b[0m",
      "\u001b[0;31mTypeError\u001b[0m                                 Traceback (most recent call last)",
      "Cell \u001b[0;32mIn[21], line 1\u001b[0m\n\u001b[0;32m----> 1\u001b[0m \u001b[38;5;28mprint\u001b[39m(l[\u001b[43ml\u001b[49m\u001b[43m \u001b[49m\u001b[38;5;241;43m>\u001b[39;49m\u001b[43m \u001b[49m\u001b[38;5;241;43m3\u001b[39;49m])\n",
      "\u001b[0;31mTypeError\u001b[0m: '>' not supported between instances of 'list' and 'int'"
     ]
    }
   ],
   "source": [
    "print(l[l > 3]) "
   ]
  },
  {
   "cell_type": "markdown",
   "id": "7255571ca307c277",
   "metadata": {},
   "source": [
    "### Fancy Indexing\n",
    "- index arrays using integer arrays"
   ]
  },
  {
   "cell_type": "code",
   "execution_count": 22,
   "id": "4b9a20c08c335371",
   "metadata": {
    "ExecuteTime": {
     "end_time": "2023-10-06T14:59:33.438419Z",
     "start_time": "2023-10-06T14:59:33.418186Z"
    }
   },
   "outputs": [
    {
     "name": "stdout",
     "output_type": "stream",
     "text": [
      "[2 4]\n"
     ]
    }
   ],
   "source": [
    "indices = np.array([1, 3])\n",
    "print(arr[indices])  # Outputs [20 40]"
   ]
  },
  {
   "cell_type": "code",
   "execution_count": 23,
   "id": "8c5f763944c80488",
   "metadata": {
    "ExecuteTime": {
     "end_time": "2023-10-06T14:59:57.460713Z",
     "start_time": "2023-10-06T14:59:57.458304Z"
    }
   },
   "outputs": [
    {
     "ename": "TypeError",
     "evalue": "list indices must be integers or slices, not list",
     "output_type": "error",
     "traceback": [
      "\u001b[0;31m---------------------------------------------------------------------------\u001b[0m",
      "\u001b[0;31mTypeError\u001b[0m                                 Traceback (most recent call last)",
      "Cell \u001b[0;32mIn[23], line 2\u001b[0m\n\u001b[1;32m      1\u001b[0m indices \u001b[38;5;241m=\u001b[39m [\u001b[38;5;241m1\u001b[39m,\u001b[38;5;241m3\u001b[39m]\n\u001b[0;32m----> 2\u001b[0m \u001b[43ml\u001b[49m\u001b[43m[\u001b[49m\u001b[43mindices\u001b[49m\u001b[43m]\u001b[49m\n",
      "\u001b[0;31mTypeError\u001b[0m: list indices must be integers or slices, not list"
     ]
    }
   ],
   "source": [
    "indices = [1,3]\n",
    "l[indices]"
   ]
  },
  {
   "cell_type": "markdown",
   "id": "2d04c53e2b983061",
   "metadata": {},
   "source": [
    "## Matrix"
   ]
  },
  {
   "cell_type": "markdown",
   "id": "1ece3399f0aaea68",
   "metadata": {},
   "source": [
    "### element-wise Operations"
   ]
  },
  {
   "cell_type": "code",
   "execution_count": 24,
   "id": "dae68bba2a5e6129",
   "metadata": {
    "ExecuteTime": {
     "end_time": "2023-10-06T15:10:54.407760Z",
     "start_time": "2023-10-06T15:10:54.387770Z"
    }
   },
   "outputs": [
    {
     "name": "stdout",
     "output_type": "stream",
     "text": [
      "[[3 4]\n",
      " [5 6]]\n",
      "[[2 4]\n",
      " [6 8]]\n"
     ]
    }
   ],
   "source": [
    "A = np.array([[1, 2], [3, 4]])\n",
    "B = np.array([[2, 2], [2, 2]])\n",
    "print(A + B)  # Element-wise addition\n",
    "print(A * B)  # Element-wise multiplication"
   ]
  },
  {
   "cell_type": "markdown",
   "id": "440b3fd4f38fd170",
   "metadata": {},
   "source": [
    "### Matrix Multiplications"
   ]
  },
  {
   "cell_type": "code",
   "execution_count": 25,
   "id": "d68d616ca8726850",
   "metadata": {
    "ExecuteTime": {
     "end_time": "2023-10-06T15:11:12.168775Z",
     "start_time": "2023-10-06T15:11:12.150692Z"
    }
   },
   "outputs": [
    {
     "name": "stdout",
     "output_type": "stream",
     "text": [
      "[[ 6  6]\n",
      " [14 14]]\n",
      "[[ 6  6]\n",
      " [14 14]]\n"
     ]
    }
   ],
   "source": [
    "print(A.dot(B))   # Matrix multiplication\n",
    "print(A @ B)      # Another way for matrix multiplication"
   ]
  },
  {
   "cell_type": "markdown",
   "id": "be5858b9342fa9c",
   "metadata": {},
   "source": [
    "### Advanced Operations "
   ]
  },
  {
   "cell_type": "code",
   "execution_count": 26,
   "id": "d70052fe7fe1f64d",
   "metadata": {
    "ExecuteTime": {
     "end_time": "2023-10-06T15:12:04.714511Z",
     "start_time": "2023-10-06T15:12:04.691973Z"
    }
   },
   "outputs": [
    {
     "name": "stdout",
     "output_type": "stream",
     "text": [
      "[[1 3]\n",
      " [2 4]]\n"
     ]
    }
   ],
   "source": [
    "print(A.T)  # Transpose of matrix A"
   ]
  },
  {
   "cell_type": "code",
   "execution_count": 27,
   "id": "ca1afa9035744b2c",
   "metadata": {
    "ExecuteTime": {
     "end_time": "2023-10-06T15:12:56.992678Z",
     "start_time": "2023-10-06T15:12:56.981103Z"
    }
   },
   "outputs": [
    {
     "name": "stdout",
     "output_type": "stream",
     "text": [
      "-2.0000000000000004\n",
      "[[-2.   1. ]\n",
      " [ 1.5 -0.5]]\n",
      "2\n",
      "5\n"
     ]
    }
   ],
   "source": [
    "from numpy.linalg import det, inv, matrix_rank\n",
    "from numpy import trace\n",
    "\n",
    "print(det(A))         # Determinant of A\n",
    "print(inv(A))         # Inverse of A (if it exists)\n",
    "print(matrix_rank(A)) # Rank of A\n",
    "print(trace(A))       # Trace of A"
   ]
  },
  {
   "cell_type": "markdown",
   "id": "f62649bed45285f2",
   "metadata": {},
   "source": [
    "## Vectorization\n",
    "### Problem:\n",
    "Let's say you have two sets of points: A and B. You want to compute the Euclidean distances between each point in A and each point in B."
   ]
  },
  {
   "cell_type": "markdown",
   "id": "360692d3c4ace8ca",
   "metadata": {},
   "source": [
    "### Non-Vectorized "
   ]
  },
  {
   "cell_type": "code",
   "execution_count": null,
   "id": "8839656ffb78ac1b",
   "metadata": {
    "ExecuteTime": {
     "end_time": "2023-10-06T15:28:56.708713Z",
     "start_time": "2023-10-06T15:28:56.691862Z"
    }
   },
   "outputs": [],
   "source": [
    "A = np.array([[1, 2], [3, 4], [5, 6]])\n",
    "B = np.array([[7, 8], [9, 10], [11, 12]])\n",
    "print(A.shape)"
   ]
  },
  {
   "cell_type": "code",
   "execution_count": 28,
   "id": "41bc48147254a3f1",
   "metadata": {
    "ExecuteTime": {
     "end_time": "2023-10-06T15:28:58.943438Z",
     "start_time": "2023-10-06T15:28:58.926531Z"
    }
   },
   "outputs": [
    {
     "name": "stdout",
     "output_type": "stream",
     "text": [
      "[[1.         1.        ]\n",
      " [2.23606798 2.23606798]]\n"
     ]
    }
   ],
   "source": [
    "distances = np.empty((A.shape[0], B.shape[0]))\n",
    "\n",
    "for i in range(A.shape[0]):\n",
    "    for j in range(B.shape[0]):\n",
    "        distances[i, j] = np.sqrt(np.sum((A[i] - B[j])**2))\n",
    "\n",
    "print(distances)"
   ]
  },
  {
   "cell_type": "markdown",
   "id": "43158d1cdc76c487",
   "metadata": {},
   "source": [
    "### Vectorized"
   ]
  },
  {
   "cell_type": "code",
   "execution_count": null,
   "id": "54b6f94ec778b943",
   "metadata": {
    "ExecuteTime": {
     "end_time": "2023-10-06T15:30:00.797126Z",
     "start_time": "2023-10-06T15:30:00.781791Z"
    }
   },
   "outputs": [],
   "source": [
    "A[:, np.newaxis, :].shape"
   ]
  },
  {
   "cell_type": "code",
   "execution_count": null,
   "id": "146c0e18b614014",
   "metadata": {
    "ExecuteTime": {
     "end_time": "2023-10-06T15:30:18.039592Z",
     "start_time": "2023-10-06T15:30:18.020112Z"
    }
   },
   "outputs": [],
   "source": [
    "B[np.newaxis, :, :].shape"
   ]
  },
  {
   "cell_type": "code",
   "execution_count": null,
   "id": "96a25a19174f937",
   "metadata": {
    "ExecuteTime": {
     "end_time": "2023-10-06T15:30:41.218113Z",
     "start_time": "2023-10-06T15:30:41.204520Z"
    }
   },
   "outputs": [],
   "source": [
    "differences = A[:, np.newaxis, :] - B[np.newaxis, :, :]\n",
    "differences.shape"
   ]
  },
  {
   "cell_type": "code",
   "execution_count": 29,
   "id": "bf53a86b6cab1601",
   "metadata": {
    "ExecuteTime": {
     "end_time": "2023-10-06T15:17:28.193896Z",
     "start_time": "2023-10-06T15:17:28.170613Z"
    }
   },
   "outputs": [
    {
     "name": "stdout",
     "output_type": "stream",
     "text": [
      "[[1.         1.        ]\n",
      " [2.23606798 2.23606798]]\n"
     ]
    }
   ],
   "source": [
    "# Broadcasting A and B for difference calculation\n",
    "differences = A[:, np.newaxis, :] - B[np.newaxis, :, :]\n",
    "\n",
    "# Squaring and summing differences\n",
    "squared_differences = differences ** 2\n",
    "summed_squared_differences = squared_differences.sum(axis=-1)\n",
    "\n",
    "# Taking the square root for final distances\n",
    "distances_vectorized = np.sqrt(summed_squared_differences)\n",
    "\n",
    "print(distances_vectorized)"
   ]
  },
  {
   "cell_type": "markdown",
   "id": "7cb07a0d5943d74b",
   "metadata": {},
   "source": [
    "### DIFF"
   ]
  },
  {
   "cell_type": "code",
   "execution_count": 30,
   "id": "28505da331918744",
   "metadata": {
    "ExecuteTime": {
     "end_time": "2023-10-06T15:18:15.180987Z",
     "start_time": "2023-10-06T15:18:11.415006Z"
    }
   },
   "outputs": [
    {
     "name": "stdout",
     "output_type": "stream",
     "text": [
      "Non-vectorized time: 4.9085 seconds\n",
      "Vectorized time: 0.0401 seconds\n"
     ]
    }
   ],
   "source": [
    "import time\n",
    "\n",
    "# Generate larger random datasets\n",
    "A_large = np.random.rand(1000, 2)\n",
    "B_large = np.random.rand(1000, 2)\n",
    "\n",
    "# Time the non-vectorized version\n",
    "start_time = time.time()\n",
    "for i in range(A_large.shape[0]):\n",
    "    for j in range(B_large.shape[0]):\n",
    "        _ = np.sqrt(np.sum((A_large[i] - B_large[j])**2))\n",
    "non_vectorized_time = time.time() - start_time\n",
    "\n",
    "# Time the vectorized version\n",
    "start_time = time.time()\n",
    "differences = A_large[:, np.newaxis, :] - B_large[np.newaxis, :, :]\n",
    "squared_differences = differences ** 2\n",
    "summed_squared_differences = squared_differences.sum(axis=-1)\n",
    "_ = np.sqrt(summed_squared_differences)\n",
    "vectorized_time = time.time() - start_time\n",
    "\n",
    "print(f\"Non-vectorized time: {non_vectorized_time:.4f} seconds\")\n",
    "print(f\"Vectorized time: {vectorized_time:.4f} seconds\")"
   ]
  },
  {
   "cell_type": "markdown",
   "id": "efc53e1cec587a8f",
   "metadata": {},
   "source": [
    "## BroadCasting"
   ]
  },
  {
   "cell_type": "markdown",
   "id": "d943158f19eb0b0c",
   "metadata": {},
   "source": [
    "### Example 1"
   ]
  },
  {
   "cell_type": "code",
   "execution_count": null,
   "id": "96af12b27455427a",
   "metadata": {
    "ExecuteTime": {
     "end_time": "2023-10-06T15:23:57.021501Z",
     "start_time": "2023-10-06T15:23:56.994773Z"
    }
   },
   "outputs": [],
   "source": [
    "a = np.array([1, 2, 3])\n",
    "b = 2\n",
    "\n",
    "result = a * b\n",
    "print(result)  # Outputs: [2, 4, 6]"
   ]
  },
  {
   "cell_type": "code",
   "execution_count": null,
   "id": "7c4d1c8ec7e0f63f",
   "metadata": {
    "ExecuteTime": {
     "end_time": "2023-10-06T15:24:36.485327Z",
     "start_time": "2023-10-06T15:24:36.455772Z"
    }
   },
   "outputs": [],
   "source": [
    "a = np.array([1, 2, 3])\n",
    "b = np.array([2, 2, 2])\n",
    "\n",
    "result = a * b\n",
    "print(result)  # Outputs: [2, 4, 6]"
   ]
  },
  {
   "cell_type": "markdown",
   "id": "9e2759c6d9c7b7bc",
   "metadata": {},
   "source": [
    "### Example 2"
   ]
  },
  {
   "cell_type": "code",
   "execution_count": null,
   "id": "c8e0cac925838943",
   "metadata": {
    "ExecuteTime": {
     "end_time": "2023-10-06T15:24:56.514948Z",
     "start_time": "2023-10-06T15:24:56.484124Z"
    }
   },
   "outputs": [],
   "source": [
    "A = np.array([[1, 2], [3, 4], [5, 6]])\n",
    "b = np.array([2, 3])\n",
    "\n",
    "result = A * b\n",
    "print(result)"
   ]
  },
  {
   "cell_type": "markdown",
   "id": "204da39d66891da",
   "metadata": {},
   "source": [
    "### Example 3"
   ]
  },
  {
   "cell_type": "code",
   "execution_count": null,
   "id": "f7c9a382b40ed942",
   "metadata": {
    "ExecuteTime": {
     "end_time": "2023-10-06T15:25:20.075973Z",
     "start_time": "2023-10-06T15:25:20.046476Z"
    }
   },
   "outputs": [],
   "source": [
    "A = np.array([[1, 2, 3], [4, 5, 6], [7, 8, 9]])\n",
    "b = np.array([[1], [2], [3]])\n",
    "\n",
    "result = A + b\n",
    "print(result)"
   ]
  },
  {
   "cell_type": "markdown",
   "id": "eac758e086ce66be",
   "metadata": {},
   "source": [
    "### Example 4"
   ]
  },
  {
   "cell_type": "code",
   "execution_count": null,
   "id": "bbeca19e834dfcf7",
   "metadata": {
    "ExecuteTime": {
     "end_time": "2023-10-06T15:26:06.826016Z",
     "start_time": "2023-10-06T15:26:06.801203Z"
    }
   },
   "outputs": [],
   "source": [
    "A = np.array([[1, 2], [3, 4], [5, 6]])\n",
    "b = np.array([[1], [2]])\n",
    "\n",
    "result = A + b.T\n",
    "print(result)"
   ]
  }
 ],
 "metadata": {
  "kernelspec": {
   "display_name": "Python 3 (ipykernel)",
   "language": "python",
   "name": "python3"
  },
  "language_info": {
   "codemirror_mode": {
    "name": "ipython",
    "version": 3
   },
   "file_extension": ".py",
   "mimetype": "text/x-python",
   "name": "python",
   "nbconvert_exporter": "python",
   "pygments_lexer": "ipython3",
   "version": "3.9.16"
  }
 },
 "nbformat": 4,
 "nbformat_minor": 5
}
