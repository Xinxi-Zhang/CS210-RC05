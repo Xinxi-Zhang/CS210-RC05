{
 "cells": [
  {
   "cell_type": "markdown",
   "id": "337ca8788e485956",
   "metadata": {},
   "source": [
    "# Broadcasting Example"
   ]
  },
  {
   "cell_type": "code",
   "execution_count": 19,
   "id": "efe6892733041f8a",
   "metadata": {
    "ExecuteTime": {
     "end_time": "2023-10-13T14:41:08.932185Z",
     "start_time": "2023-10-13T14:41:08.929597Z"
    }
   },
   "outputs": [],
   "source": [
    "import numpy as np"
   ]
  },
  {
   "cell_type": "markdown",
   "id": "d073441162a4440b",
   "metadata": {},
   "source": [
    "## Broadcasting "
   ]
  },
  {
   "cell_type": "code",
   "execution_count": 20,
   "id": "b2baa5a89be4af6e",
   "metadata": {
    "ExecuteTime": {
     "end_time": "2023-10-13T14:41:09.083921Z",
     "start_time": "2023-10-13T14:41:09.079600Z"
    }
   },
   "outputs": [
    {
     "name": "stdout",
     "output_type": "stream",
     "text": [
      "[[ 56.    0.    4.4  68. ]\n",
      " [  1.2 104.   52.    8. ]\n",
      " [  1.8 135.   99.    0.9]]\n"
     ]
    }
   ],
   "source": [
    "A = np.array([[56.0, 0.0, 4.4, 68.0],\n",
    "             [1.2, 104.0, 52.0, 8.0],\n",
    "             [1.8,135.0,99.0,0.9]])\n",
    "print(A)"
   ]
  },
  {
   "cell_type": "code",
   "execution_count": 21,
   "id": "295ff6209dab0669",
   "metadata": {
    "ExecuteTime": {
     "end_time": "2023-10-13T14:41:09.219660Z",
     "start_time": "2023-10-13T14:41:09.215500Z"
    }
   },
   "outputs": [
    {
     "name": "stdout",
     "output_type": "stream",
     "text": [
      "[ 59.  239.  155.4  76.9]\n"
     ]
    }
   ],
   "source": [
    "cal_sum = A.sum(axis=0)\n",
    "print(cal_sum)"
   ]
  },
  {
   "cell_type": "code",
   "execution_count": 22,
   "id": "85d9aa97d1a32d2a",
   "metadata": {
    "ExecuteTime": {
     "end_time": "2023-10-13T14:41:09.345118Z",
     "start_time": "2023-10-13T14:41:09.339998Z"
    }
   },
   "outputs": [
    {
     "name": "stdout",
     "output_type": "stream",
     "text": [
      "[[94.91525424  0.          2.83140283 88.42652796]\n",
      " [ 2.03389831 43.51464435 33.46203346 10.40312094]\n",
      " [ 3.05084746 56.48535565 63.70656371  1.17035111]]\n"
     ]
    }
   ],
   "source": [
    "percentage = 100 * A / cal_sum\n",
    "print(percentage)"
   ]
  },
  {
   "cell_type": "code",
   "execution_count": 23,
   "id": "d6bca0ad468261bc",
   "metadata": {
    "ExecuteTime": {
     "end_time": "2023-10-13T14:41:09.477391Z",
     "start_time": "2023-10-13T14:41:09.472729Z"
    }
   },
   "outputs": [
    {
     "name": "stdout",
     "output_type": "stream",
     "text": [
      "(3, 4)\n"
     ]
    }
   ],
   "source": [
    "print(A.shape)"
   ]
  },
  {
   "cell_type": "code",
   "execution_count": 24,
   "id": "205505256dd1e129",
   "metadata": {
    "ExecuteTime": {
     "end_time": "2023-10-13T14:41:09.616872Z",
     "start_time": "2023-10-13T14:41:09.609911Z"
    }
   },
   "outputs": [
    {
     "name": "stdout",
     "output_type": "stream",
     "text": [
      "(4,)\n"
     ]
    }
   ],
   "source": [
    "print(cal_sum.shape)"
   ]
  },
  {
   "cell_type": "markdown",
   "id": "7b8843550ae4620e",
   "metadata": {},
   "source": [
    "## Under the hood"
   ]
  },
  {
   "cell_type": "code",
   "execution_count": 25,
   "id": "2cb015d2e02e69c6",
   "metadata": {
    "ExecuteTime": {
     "end_time": "2023-10-13T14:41:09.751326Z",
     "start_time": "2023-10-13T14:41:09.744193Z"
    }
   },
   "outputs": [
    {
     "name": "stdout",
     "output_type": "stream",
     "text": [
      "[[ 59.  239.  155.4  76.9]\n",
      " [ 59.  239.  155.4  76.9]\n",
      " [ 59.  239.  155.4  76.9]]\n"
     ]
    }
   ],
   "source": [
    "cal_sum_ = cal_sum.reshape(1,4).repeat(3, axis=0)\n",
    "print(cal_sum_)"
   ]
  },
  {
   "cell_type": "code",
   "execution_count": 26,
   "id": "e1c4ee843f3c6833",
   "metadata": {
    "ExecuteTime": {
     "end_time": "2023-10-13T14:41:09.886863Z",
     "start_time": "2023-10-13T14:41:09.879590Z"
    }
   },
   "outputs": [
    {
     "name": "stdout",
     "output_type": "stream",
     "text": [
      "[[94.91525424  0.          2.83140283 88.42652796]\n",
      " [ 2.03389831 43.51464435 33.46203346 10.40312094]\n",
      " [ 3.05084746 56.48535565 63.70656371  1.17035111]]\n"
     ]
    }
   ],
   "source": [
    "percentage_ = 100 * A / cal_sum_\n",
    "print(percentage_)"
   ]
  },
  {
   "cell_type": "code",
   "execution_count": 27,
   "id": "66f3c334237399af",
   "metadata": {
    "ExecuteTime": {
     "end_time": "2023-10-13T14:41:15.906603Z",
     "start_time": "2023-10-13T14:41:15.892849Z"
    }
   },
   "outputs": [
    {
     "data": {
      "text/plain": [
       "array([[0., 0., 0., 0.],\n",
       "       [0., 0., 0., 0.],\n",
       "       [0., 0., 0., 0.]])"
      ]
     },
     "execution_count": 27,
     "metadata": {},
     "output_type": "execute_result"
    }
   ],
   "source": [
    "percentage - percentage_"
   ]
  },
  {
   "cell_type": "markdown",
   "id": "49d90ea8",
   "metadata": {},
   "source": [
    "------------\n",
    "# Itertools"
   ]
  },
  {
   "cell_type": "code",
   "execution_count": 28,
   "id": "39708718",
   "metadata": {},
   "outputs": [],
   "source": [
    "import itertools"
   ]
  },
  {
   "cell_type": "markdown",
   "id": "1d588e17",
   "metadata": {},
   "source": [
    "## cycle"
   ]
  },
  {
   "cell_type": "code",
   "execution_count": 29,
   "id": "55f4fa57",
   "metadata": {},
   "outputs": [
    {
     "name": "stdout",
     "output_type": "stream",
     "text": [
      "Cycle Example:\n",
      "1 2 3 1 2 3 1 2 3 1 "
     ]
    }
   ],
   "source": [
    "# Create an iterator that cycles through the list [1, 2, 3]\n",
    "cycler = itertools.cycle([1, 2, 3])\n",
    "\n",
    "# Generate the first 10 elements of the cycle\n",
    "print(\"Cycle Example:\")\n",
    "for i, element in enumerate(cycler):\n",
    "    if i == 10:  # Stop after 10 iterations\n",
    "        break\n",
    "    print(element, end=\" \")  # Output: 1 2 3 1 2 3 1 2 3 1"
   ]
  },
  {
   "cell_type": "markdown",
   "id": "494a3e48",
   "metadata": {},
   "source": [
    "## repeat"
   ]
  },
  {
   "cell_type": "code",
   "execution_count": 30,
   "id": "ae99514d",
   "metadata": {},
   "outputs": [
    {
     "name": "stdout",
     "output_type": "stream",
     "text": [
      "\n",
      "Repeat Example:\n",
      "4 4 4 4 4 "
     ]
    }
   ],
   "source": [
    "# Repeat the number 4, five times\n",
    "repeater = itertools.repeat(4, 5)\n",
    "\n",
    "print(\"\\nRepeat Example:\")\n",
    "for element in repeater:\n",
    "    print(element, end=\" \")  # Output: 4 4 4 4 4"
   ]
  },
  {
   "cell_type": "markdown",
   "id": "165eb419",
   "metadata": {},
   "source": [
    "## chain"
   ]
  },
  {
   "cell_type": "code",
   "execution_count": 31,
   "id": "8dd45f39",
   "metadata": {},
   "outputs": [
    {
     "name": "stdout",
     "output_type": "stream",
     "text": [
      "\n",
      "Chain Example:\n",
      "1 2 3 a b c 4.0 5.0 6.0 "
     ]
    }
   ],
   "source": [
    "# Chain three lists together\n",
    "chainer = itertools.chain([1, 2, 3], ['a', 'b', 'c'], [4.0, 5.0, 6.0])\n",
    "\n",
    "print(\"\\nChain Example:\")\n",
    "for element in chainer:\n",
    "    print(element, end=\" \")  # Output: 1 2 3 a b c 4.0 5.0 6.0"
   ]
  },
  {
   "cell_type": "markdown",
   "id": "ebf10d31",
   "metadata": {},
   "source": [
    "## combination"
   ]
  },
  {
   "cell_type": "code",
   "execution_count": 32,
   "id": "573540c8",
   "metadata": {},
   "outputs": [
    {
     "name": "stdout",
     "output_type": "stream",
     "text": [
      "[(1, 2), (1, 3), (2, 3)]\n"
     ]
    }
   ],
   "source": [
    "lst = [1, 2, 3]\n",
    "comb = list(itertools.combinations(lst, 2))\n",
    "print(comb)  # Output: [(1, 2), (1, 3), (2, 3)]"
   ]
  },
  {
   "cell_type": "markdown",
   "id": "d003b6b9",
   "metadata": {},
   "source": [
    "----------\n",
    "# Pandas"
   ]
  },
  {
   "cell_type": "code",
   "execution_count": 33,
   "id": "773f47bc",
   "metadata": {},
   "outputs": [],
   "source": [
    "import pandas as pd"
   ]
  },
  {
   "cell_type": "markdown",
   "id": "19e9ed65",
   "metadata": {},
   "source": [
    "## Series & DataFrame"
   ]
  },
  {
   "cell_type": "markdown",
   "id": "3fd1fd7f",
   "metadata": {},
   "source": [
    "### series"
   ]
  },
  {
   "cell_type": "code",
   "execution_count": 34,
   "id": "1c6c7e51",
   "metadata": {},
   "outputs": [],
   "source": [
    "import pandas as pd\n",
    "\n",
    "# Create a Series from a list\n",
    "s = pd.Series([1, 2, 3, 4, 5])\n",
    "\n",
    "# Create a Series with custom index\n",
    "s_with_index = pd.Series([1, 2, 3], index=['a', 'b', 'c'])"
   ]
  },
  {
   "cell_type": "code",
   "execution_count": 35,
   "id": "ad535491",
   "metadata": {},
   "outputs": [
    {
     "data": {
      "text/plain": [
       "0    1\n",
       "1    2\n",
       "2    3\n",
       "3    4\n",
       "4    5\n",
       "dtype: int64"
      ]
     },
     "execution_count": 35,
     "metadata": {},
     "output_type": "execute_result"
    }
   ],
   "source": [
    "s"
   ]
  },
  {
   "cell_type": "code",
   "execution_count": 36,
   "id": "5c44cd59",
   "metadata": {},
   "outputs": [
    {
     "data": {
      "text/plain": [
       "a    1\n",
       "b    2\n",
       "c    3\n",
       "dtype: int64"
      ]
     },
     "execution_count": 36,
     "metadata": {},
     "output_type": "execute_result"
    }
   ],
   "source": [
    "s_with_index"
   ]
  },
  {
   "cell_type": "markdown",
   "id": "5a35e7a0",
   "metadata": {},
   "source": [
    "### DataFrame"
   ]
  },
  {
   "cell_type": "code",
   "execution_count": 37,
   "id": "12d9f0fb",
   "metadata": {},
   "outputs": [],
   "source": [
    "# Create a DataFrame from a dictionary\n",
    "df = pd.DataFrame({\n",
    "    'A': [1, 2, 3],\n",
    "    'B': [4, 5, 6],\n",
    "    'C': ['p', 'q', 'r']\n",
    "})\n",
    "\n",
    "# Create a DataFrame from multiple Series\n",
    "s1 = pd.Series([1, 2, 3])\n",
    "s2 = pd.Series([4, 5, 6])\n",
    "df_from_series = pd.DataFrame({'Column1': s1, 'Column2': s2})"
   ]
  },
  {
   "cell_type": "code",
   "execution_count": 38,
   "id": "569e299c",
   "metadata": {},
   "outputs": [
    {
     "data": {
      "text/html": [
       "<div>\n",
       "<style scoped>\n",
       "    .dataframe tbody tr th:only-of-type {\n",
       "        vertical-align: middle;\n",
       "    }\n",
       "\n",
       "    .dataframe tbody tr th {\n",
       "        vertical-align: top;\n",
       "    }\n",
       "\n",
       "    .dataframe thead th {\n",
       "        text-align: right;\n",
       "    }\n",
       "</style>\n",
       "<table border=\"1\" class=\"dataframe\">\n",
       "  <thead>\n",
       "    <tr style=\"text-align: right;\">\n",
       "      <th></th>\n",
       "      <th>Column1</th>\n",
       "      <th>Column2</th>\n",
       "    </tr>\n",
       "  </thead>\n",
       "  <tbody>\n",
       "    <tr>\n",
       "      <th>0</th>\n",
       "      <td>1</td>\n",
       "      <td>4</td>\n",
       "    </tr>\n",
       "    <tr>\n",
       "      <th>1</th>\n",
       "      <td>2</td>\n",
       "      <td>5</td>\n",
       "    </tr>\n",
       "    <tr>\n",
       "      <th>2</th>\n",
       "      <td>3</td>\n",
       "      <td>6</td>\n",
       "    </tr>\n",
       "  </tbody>\n",
       "</table>\n",
       "</div>"
      ],
      "text/plain": [
       "   Column1  Column2\n",
       "0        1        4\n",
       "1        2        5\n",
       "2        3        6"
      ]
     },
     "execution_count": 38,
     "metadata": {},
     "output_type": "execute_result"
    }
   ],
   "source": [
    "df_from_series"
   ]
  },
  {
   "cell_type": "markdown",
   "id": "5df20e66",
   "metadata": {},
   "source": [
    "----------\n",
    "## NumPy and Pandas"
   ]
  },
  {
   "cell_type": "markdown",
   "id": "fd5b324b",
   "metadata": {},
   "source": [
    "## Easy Creation by Converting"
   ]
  },
  {
   "cell_type": "code",
   "execution_count": 40,
   "id": "61d0c122",
   "metadata": {},
   "outputs": [
    {
     "name": "stdout",
     "output_type": "stream",
     "text": [
      "[[1 2 3]\n",
      " [4 5 6]]\n"
     ]
    }
   ],
   "source": [
    "# Creating a NumPy array\n",
    "numpy_array = np.array([[1, 2, 3], [4, 5, 6]])\n",
    "\n",
    "# Convert to a DataFrame\n",
    "df_from_array = pd.DataFrame(numpy_array, columns=['A', 'B', 'C'])\n",
    "\n",
    "# Show the underlying NumPy array from DataFrame\n",
    "print(df_from_array.values)"
   ]
  },
  {
   "cell_type": "markdown",
   "id": "f3fe710b",
   "metadata": {},
   "source": [
    "## Datatype"
   ]
  },
  {
   "cell_type": "code",
   "execution_count": 39,
   "id": "b5165154",
   "metadata": {},
   "outputs": [
    {
     "name": "stdout",
     "output_type": "stream",
     "text": [
      "A      int64\n",
      "B    float64\n",
      "C     object\n",
      "dtype: object\n"
     ]
    }
   ],
   "source": [
    "# Creating a DataFrame with mixed types\n",
    "df = pd.DataFrame({'A': [1, 2, 3], 'B': [1.2, 3.4, 4.5], 'C': ['a', 'b', 'c']})\n",
    "\n",
    "# Check the data types; these map to NumPy dtypes\n",
    "print(df.dtypes)"
   ]
  },
  {
   "cell_type": "code",
   "execution_count": 46,
   "id": "3774d7f0",
   "metadata": {},
   "outputs": [
    {
     "data": {
      "text/html": [
       "<div>\n",
       "<style scoped>\n",
       "    .dataframe tbody tr th:only-of-type {\n",
       "        vertical-align: middle;\n",
       "    }\n",
       "\n",
       "    .dataframe tbody tr th {\n",
       "        vertical-align: top;\n",
       "    }\n",
       "\n",
       "    .dataframe thead th {\n",
       "        text-align: right;\n",
       "    }\n",
       "</style>\n",
       "<table border=\"1\" class=\"dataframe\">\n",
       "  <thead>\n",
       "    <tr style=\"text-align: right;\">\n",
       "      <th></th>\n",
       "      <th>A</th>\n",
       "      <th>B</th>\n",
       "      <th>C</th>\n",
       "    </tr>\n",
       "  </thead>\n",
       "  <tbody>\n",
       "    <tr>\n",
       "      <th>0</th>\n",
       "      <td>2</td>\n",
       "      <td>1.2</td>\n",
       "      <td>a</td>\n",
       "    </tr>\n",
       "    <tr>\n",
       "      <th>1</th>\n",
       "      <td>3</td>\n",
       "      <td>3.4</td>\n",
       "      <td>b</td>\n",
       "    </tr>\n",
       "    <tr>\n",
       "      <th>2</th>\n",
       "      <td>4</td>\n",
       "      <td>4.5</td>\n",
       "      <td>c</td>\n",
       "    </tr>\n",
       "  </tbody>\n",
       "</table>\n",
       "</div>"
      ],
      "text/plain": [
       "   A    B  C\n",
       "0  2  1.2  a\n",
       "1  3  3.4  b\n",
       "2  4  4.5  c"
      ]
     },
     "execution_count": 46,
     "metadata": {},
     "output_type": "execute_result"
    }
   ],
   "source": [
    "df"
   ]
  },
  {
   "cell_type": "markdown",
   "id": "fc17cc2b",
   "metadata": {},
   "source": [
    "## Advanced Indexing"
   ]
  },
  {
   "cell_type": "code",
   "execution_count": 42,
   "id": "d0cbc530",
   "metadata": {},
   "outputs": [
    {
     "name": "stdout",
     "output_type": "stream",
     "text": [
      "[3 4 5]\n"
     ]
    }
   ],
   "source": [
    "# NumPy boolean indexing\n",
    "numpy_array = np.array([1, 2, 3, 4, 5])\n",
    "filtered_array = numpy_array[numpy_array > 2]\n",
    "print(filtered_array)  # Output: [3 4 5]"
   ]
  },
  {
   "cell_type": "code",
   "execution_count": 43,
   "id": "42e941d5",
   "metadata": {},
   "outputs": [
    {
     "name": "stdout",
     "output_type": "stream",
     "text": [
      "2    3\n",
      "3    4\n",
      "4    5\n",
      "dtype: int64\n"
     ]
    }
   ],
   "source": [
    "# Pandas boolean indexing\n",
    "s = pd.Series([1, 2, 3, 4, 5])\n",
    "filtered_series = s[s > 2]\n",
    "print(filtered_series)  # Output: 2    3, 3    4, 4    5"
   ]
  },
  {
   "cell_type": "code",
   "execution_count": 44,
   "id": "5f3e6f3b",
   "metadata": {},
   "outputs": [
    {
     "name": "stdout",
     "output_type": "stream",
     "text": [
      "2    3\n",
      "3    4\n",
      "dtype: int64\n"
     ]
    }
   ],
   "source": [
    "# Using NumPy logical_and for compound filtering\n",
    "filtered_series = s[np.logical_and(s > 2, s < 5)]\n",
    "print(filtered_series)  # Output: 2    3, 3    4"
   ]
  },
  {
   "cell_type": "markdown",
   "id": "bde6bb70",
   "metadata": {},
   "source": [
    "## Broadcasting"
   ]
  },
  {
   "cell_type": "code",
   "execution_count": 47,
   "id": "d67a44f5",
   "metadata": {},
   "outputs": [
    {
     "data": {
      "text/html": [
       "<div>\n",
       "<style scoped>\n",
       "    .dataframe tbody tr th:only-of-type {\n",
       "        vertical-align: middle;\n",
       "    }\n",
       "\n",
       "    .dataframe tbody tr th {\n",
       "        vertical-align: top;\n",
       "    }\n",
       "\n",
       "    .dataframe thead th {\n",
       "        text-align: right;\n",
       "    }\n",
       "</style>\n",
       "<table border=\"1\" class=\"dataframe\">\n",
       "  <thead>\n",
       "    <tr style=\"text-align: right;\">\n",
       "      <th></th>\n",
       "      <th>A</th>\n",
       "      <th>B</th>\n",
       "      <th>C</th>\n",
       "    </tr>\n",
       "  </thead>\n",
       "  <tbody>\n",
       "    <tr>\n",
       "      <th>0</th>\n",
       "      <td>2</td>\n",
       "      <td>1.2</td>\n",
       "      <td>a</td>\n",
       "    </tr>\n",
       "    <tr>\n",
       "      <th>1</th>\n",
       "      <td>3</td>\n",
       "      <td>3.4</td>\n",
       "      <td>b</td>\n",
       "    </tr>\n",
       "    <tr>\n",
       "      <th>2</th>\n",
       "      <td>4</td>\n",
       "      <td>4.5</td>\n",
       "      <td>c</td>\n",
       "    </tr>\n",
       "  </tbody>\n",
       "</table>\n",
       "</div>"
      ],
      "text/plain": [
       "   A    B  C\n",
       "0  2  1.2  a\n",
       "1  3  3.4  b\n",
       "2  4  4.5  c"
      ]
     },
     "execution_count": 47,
     "metadata": {},
     "output_type": "execute_result"
    }
   ],
   "source": [
    "df"
   ]
  },
  {
   "cell_type": "code",
   "execution_count": 45,
   "id": "3431518e",
   "metadata": {},
   "outputs": [],
   "source": [
    "# Adding a single number to a whole NumPy array\n",
    "numpy_array += 1\n",
    "\n",
    "# Adding a single number to a whole DataFrame column\n",
    "df['A'] += 1"
   ]
  },
  {
   "cell_type": "code",
   "execution_count": 48,
   "id": "aba5ae83",
   "metadata": {},
   "outputs": [
    {
     "data": {
      "text/html": [
       "<div>\n",
       "<style scoped>\n",
       "    .dataframe tbody tr th:only-of-type {\n",
       "        vertical-align: middle;\n",
       "    }\n",
       "\n",
       "    .dataframe tbody tr th {\n",
       "        vertical-align: top;\n",
       "    }\n",
       "\n",
       "    .dataframe thead th {\n",
       "        text-align: right;\n",
       "    }\n",
       "</style>\n",
       "<table border=\"1\" class=\"dataframe\">\n",
       "  <thead>\n",
       "    <tr style=\"text-align: right;\">\n",
       "      <th></th>\n",
       "      <th>A</th>\n",
       "      <th>B</th>\n",
       "      <th>C</th>\n",
       "    </tr>\n",
       "  </thead>\n",
       "  <tbody>\n",
       "    <tr>\n",
       "      <th>0</th>\n",
       "      <td>2</td>\n",
       "      <td>1.2</td>\n",
       "      <td>a</td>\n",
       "    </tr>\n",
       "    <tr>\n",
       "      <th>1</th>\n",
       "      <td>3</td>\n",
       "      <td>3.4</td>\n",
       "      <td>b</td>\n",
       "    </tr>\n",
       "    <tr>\n",
       "      <th>2</th>\n",
       "      <td>4</td>\n",
       "      <td>4.5</td>\n",
       "      <td>c</td>\n",
       "    </tr>\n",
       "  </tbody>\n",
       "</table>\n",
       "</div>"
      ],
      "text/plain": [
       "   A    B  C\n",
       "0  2  1.2  a\n",
       "1  3  3.4  b\n",
       "2  4  4.5  c"
      ]
     },
     "execution_count": 48,
     "metadata": {},
     "output_type": "execute_result"
    }
   ],
   "source": [
    "df"
   ]
  },
  {
   "cell_type": "markdown",
   "id": "c01b31b0",
   "metadata": {},
   "source": [
    "## Universal Functions"
   ]
  },
  {
   "cell_type": "code",
   "execution_count": 49,
   "id": "ee04c3c2",
   "metadata": {},
   "outputs": [
    {
     "name": "stdout",
     "output_type": "stream",
     "text": [
      "0    1.000000\n",
      "1    1.414214\n",
      "2    1.732051\n",
      "3    2.000000\n",
      "4    2.236068\n",
      "dtype: float64\n"
     ]
    }
   ],
   "source": [
    "# Using NumPy sqrt function on a Pandas Series\n",
    "s_sqrt = np.sqrt(s)\n",
    "print(s_sqrt)"
   ]
  },
  {
   "cell_type": "markdown",
   "id": "95813b64",
   "metadata": {},
   "source": [
    "---------\n",
    "# Basic Operations"
   ]
  },
  {
   "cell_type": "markdown",
   "id": "c8a9a0b0",
   "metadata": {},
   "source": [
    "## Create a CSV"
   ]
  },
  {
   "cell_type": "code",
   "execution_count": 50,
   "id": "70d6d23d",
   "metadata": {},
   "outputs": [],
   "source": [
    "# Creating a DataFrame from a dictionary\n",
    "data = {\n",
    "    'Name': ['Alice', 'Bob', 'Charlie', 'David'],\n",
    "    'Age': [24, 27, 22, 32],\n",
    "    'Pet': ['Cat', 'Dog', 'Fish', 'Bird']\n",
    "}\n",
    "\n",
    "df = pd.DataFrame(data)\n",
    "\n",
    "# Saving the DataFrame to a CSV file\n",
    "df.to_csv('people_pets.csv', index=False)"
   ]
  },
  {
   "cell_type": "code",
   "execution_count": 51,
   "id": "a2825ffe",
   "metadata": {},
   "outputs": [
    {
     "data": {
      "text/html": [
       "<div>\n",
       "<style scoped>\n",
       "    .dataframe tbody tr th:only-of-type {\n",
       "        vertical-align: middle;\n",
       "    }\n",
       "\n",
       "    .dataframe tbody tr th {\n",
       "        vertical-align: top;\n",
       "    }\n",
       "\n",
       "    .dataframe thead th {\n",
       "        text-align: right;\n",
       "    }\n",
       "</style>\n",
       "<table border=\"1\" class=\"dataframe\">\n",
       "  <thead>\n",
       "    <tr style=\"text-align: right;\">\n",
       "      <th></th>\n",
       "      <th>Name</th>\n",
       "      <th>Age</th>\n",
       "      <th>Pet</th>\n",
       "    </tr>\n",
       "  </thead>\n",
       "  <tbody>\n",
       "    <tr>\n",
       "      <th>0</th>\n",
       "      <td>Alice</td>\n",
       "      <td>24</td>\n",
       "      <td>Cat</td>\n",
       "    </tr>\n",
       "    <tr>\n",
       "      <th>1</th>\n",
       "      <td>Bob</td>\n",
       "      <td>27</td>\n",
       "      <td>Dog</td>\n",
       "    </tr>\n",
       "    <tr>\n",
       "      <th>2</th>\n",
       "      <td>Charlie</td>\n",
       "      <td>22</td>\n",
       "      <td>Fish</td>\n",
       "    </tr>\n",
       "    <tr>\n",
       "      <th>3</th>\n",
       "      <td>David</td>\n",
       "      <td>32</td>\n",
       "      <td>Bird</td>\n",
       "    </tr>\n",
       "  </tbody>\n",
       "</table>\n",
       "</div>"
      ],
      "text/plain": [
       "      Name  Age   Pet\n",
       "0    Alice   24   Cat\n",
       "1      Bob   27   Dog\n",
       "2  Charlie   22  Fish\n",
       "3    David   32  Bird"
      ]
     },
     "execution_count": 51,
     "metadata": {},
     "output_type": "execute_result"
    }
   ],
   "source": [
    "df"
   ]
  },
  {
   "cell_type": "markdown",
   "id": "97c3c896",
   "metadata": {},
   "source": [
    "## Reading the CSV and get info"
   ]
  },
  {
   "cell_type": "code",
   "execution_count": 52,
   "id": "d2b6d120",
   "metadata": {},
   "outputs": [
    {
     "name": "stdout",
     "output_type": "stream",
     "text": [
      "First few rows:\n",
      "       Name  Age   Pet\n",
      "0    Alice   24   Cat\n",
      "1      Bob   27   Dog\n",
      "2  Charlie   22  Fish\n",
      "3    David   32  Bird\n",
      "\n",
      "Last few rows:\n",
      "       Name  Age   Pet\n",
      "0    Alice   24   Cat\n",
      "1      Bob   27   Dog\n",
      "2  Charlie   22  Fish\n",
      "3    David   32  Bird\n",
      "\n",
      "Statistical Summary:\n",
      "              Age\n",
      "count   4.000000\n",
      "mean   26.250000\n",
      "std     4.349329\n",
      "min    22.000000\n",
      "25%    23.500000\n",
      "50%    25.500000\n",
      "75%    28.250000\n",
      "max    32.000000\n",
      "\n",
      "DataFrame Info:\n",
      "<class 'pandas.core.frame.DataFrame'>\n",
      "RangeIndex: 4 entries, 0 to 3\n",
      "Data columns (total 3 columns):\n",
      " #   Column  Non-Null Count  Dtype \n",
      "---  ------  --------------  ----- \n",
      " 0   Name    4 non-null      object\n",
      " 1   Age     4 non-null      int64 \n",
      " 2   Pet     4 non-null      object\n",
      "dtypes: int64(1), object(2)\n",
      "memory usage: 224.0+ bytes\n",
      "None\n"
     ]
    }
   ],
   "source": [
    "# Reading the CSV file into a DataFrame\n",
    "df = pd.read_csv('people_pets.csv')\n",
    "\n",
    "# Show the first few rows of the DataFrame\n",
    "print(\"First few rows:\\n\", df.head())\n",
    "\n",
    "# Show the last few rows of the DataFrame\n",
    "print(\"\\nLast few rows:\\n\", df.tail())\n",
    "\n",
    "# Statistical summary of numerical columns\n",
    "print(\"\\nStatistical Summary:\\n\", df.describe())\n",
    "\n",
    "# Information about the DataFrame including data types and memory usage\n",
    "print(\"\\nDataFrame Info:\")\n",
    "print(df.info())\n"
   ]
  },
  {
   "cell_type": "code",
   "execution_count": null,
   "id": "e35d482a",
   "metadata": {},
   "outputs": [],
   "source": []
  }
 ],
 "metadata": {
  "kernelspec": {
   "display_name": "Python 3 (ipykernel)",
   "language": "python",
   "name": "python3"
  },
  "language_info": {
   "codemirror_mode": {
    "name": "ipython",
    "version": 3
   },
   "file_extension": ".py",
   "mimetype": "text/x-python",
   "name": "python",
   "nbconvert_exporter": "python",
   "pygments_lexer": "ipython3",
   "version": "3.9.16"
  }
 },
 "nbformat": 4,
 "nbformat_minor": 5
}
