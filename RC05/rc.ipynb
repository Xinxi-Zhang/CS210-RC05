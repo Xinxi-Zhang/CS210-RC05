{
 "cells": [
  {
   "cell_type": "markdown",
   "id": "337ca8788e485956",
   "metadata": {},
   "source": [
    "# Broadcasting Example"
   ]
  },
  {
   "cell_type": "code",
   "execution_count": null,
   "id": "efe6892733041f8a",
   "metadata": {
    "ExecuteTime": {
     "start_time": "2023-10-13T16:20:44.172888Z"
    },
    "is_executing": true
   },
   "outputs": [],
   "source": [
    "import numpy as np"
   ]
  },
  {
   "cell_type": "markdown",
   "id": "d073441162a4440b",
   "metadata": {},
   "source": [
    "## Broadcasting "
   ]
  },
  {
   "cell_type": "code",
   "execution_count": null,
   "id": "b2baa5a89be4af6e",
   "metadata": {
    "ExecuteTime": {
     "end_time": "2023-10-13T14:41:09.083921Z",
     "start_time": "2023-10-13T14:41:09.079600Z"
    }
   },
   "outputs": [],
   "source": [
    "A = np.array([[56.0, 0.0, 4.4, 68.0],\n",
    "             [1.2, 104.0, 52.0, 8.0],\n",
    "             [1.8,135.0,99.0,0.9]])\n",
    "print(A)"
   ]
  },
  {
   "cell_type": "code",
   "execution_count": null,
   "id": "295ff6209dab0669",
   "metadata": {
    "ExecuteTime": {
     "end_time": "2023-10-13T14:41:09.219660Z",
     "start_time": "2023-10-13T14:41:09.215500Z"
    }
   },
   "outputs": [],
   "source": [
    "cal_sum = A.sum(axis=0)\n",
    "print(cal_sum)"
   ]
  },
  {
   "cell_type": "code",
   "execution_count": null,
   "id": "85d9aa97d1a32d2a",
   "metadata": {
    "ExecuteTime": {
     "end_time": "2023-10-13T14:41:09.345118Z",
     "start_time": "2023-10-13T14:41:09.339998Z"
    }
   },
   "outputs": [],
   "source": [
    "percentage = 100 * A / cal_sum\n",
    "print(percentage)"
   ]
  },
  {
   "cell_type": "code",
   "execution_count": null,
   "id": "d6bca0ad468261bc",
   "metadata": {
    "ExecuteTime": {
     "end_time": "2023-10-13T14:41:09.477391Z",
     "start_time": "2023-10-13T14:41:09.472729Z"
    }
   },
   "outputs": [],
   "source": [
    "print(A.shape)"
   ]
  },
  {
   "cell_type": "code",
   "execution_count": null,
   "id": "205505256dd1e129",
   "metadata": {
    "ExecuteTime": {
     "end_time": "2023-10-13T14:41:09.616872Z",
     "start_time": "2023-10-13T14:41:09.609911Z"
    }
   },
   "outputs": [],
   "source": [
    "print(cal_sum.shape)"
   ]
  },
  {
   "cell_type": "markdown",
   "id": "7b8843550ae4620e",
   "metadata": {},
   "source": [
    "## Under the hood"
   ]
  },
  {
   "cell_type": "code",
   "execution_count": null,
   "id": "2cb015d2e02e69c6",
   "metadata": {
    "ExecuteTime": {
     "end_time": "2023-10-13T14:41:09.751326Z",
     "start_time": "2023-10-13T14:41:09.744193Z"
    }
   },
   "outputs": [],
   "source": [
    "cal_sum_ = cal_sum.reshape(1,4).repeat(3, axis=0)\n",
    "print(cal_sum_)"
   ]
  },
  {
   "cell_type": "code",
   "execution_count": null,
   "id": "e1c4ee843f3c6833",
   "metadata": {
    "ExecuteTime": {
     "end_time": "2023-10-13T14:41:09.886863Z",
     "start_time": "2023-10-13T14:41:09.879590Z"
    }
   },
   "outputs": [],
   "source": [
    "percentage_ = 100 * A / cal_sum_\n",
    "print(percentage_)"
   ]
  },
  {
   "cell_type": "code",
   "execution_count": null,
   "id": "66f3c334237399af",
   "metadata": {
    "ExecuteTime": {
     "end_time": "2023-10-13T14:41:15.906603Z",
     "start_time": "2023-10-13T14:41:15.892849Z"
    }
   },
   "outputs": [],
   "source": [
    "percentage - percentage_"
   ]
  },
  {
   "cell_type": "markdown",
   "id": "49d90ea8",
   "metadata": {},
   "source": [
    "------------\n",
    "# Itertools"
   ]
  },
  {
   "cell_type": "code",
   "execution_count": null,
   "id": "39708718",
   "metadata": {},
   "outputs": [],
   "source": [
    "import itertools"
   ]
  },
  {
   "cell_type": "markdown",
   "id": "1d588e17",
   "metadata": {},
   "source": [
    "## cycle"
   ]
  },
  {
   "cell_type": "code",
   "execution_count": null,
   "id": "55f4fa57",
   "metadata": {},
   "outputs": [],
   "source": [
    "# Create an iterator that cycles through the list [1, 2, 3]\n",
    "cycler = itertools.cycle([1, 2, 3])\n",
    "\n",
    "# Generate the first 10 elements of the cycle\n",
    "print(\"Cycle Example:\")\n",
    "for i, element in enumerate(cycler):\n",
    "    if i == 10:  # Stop after 10 iterations\n",
    "        break\n",
    "    print(element, end=\" \")  # Output: 1 2 3 1 2 3 1 2 3 1"
   ]
  },
  {
   "cell_type": "markdown",
   "id": "494a3e48",
   "metadata": {},
   "source": [
    "## repeat"
   ]
  },
  {
   "cell_type": "code",
   "execution_count": null,
   "id": "ae99514d",
   "metadata": {},
   "outputs": [],
   "source": [
    "# Repeat the number 4, five times\n",
    "repeater = itertools.repeat(4, 5)\n",
    "\n",
    "print(\"\\nRepeat Example:\")\n",
    "for element in repeater:\n",
    "    print(element, end=\" \")  # Output: 4 4 4 4 4"
   ]
  },
  {
   "cell_type": "markdown",
   "id": "165eb419",
   "metadata": {},
   "source": [
    "## chain"
   ]
  },
  {
   "cell_type": "code",
   "execution_count": null,
   "id": "8dd45f39",
   "metadata": {},
   "outputs": [],
   "source": [
    "# Chain three lists together\n",
    "chainer = itertools.chain([1, 2, 3], ['a', 'b', 'c'], [4.0, 5.0, 6.0])\n",
    "\n",
    "print(\"\\nChain Example:\")\n",
    "for element in chainer:\n",
    "    print(element, end=\" \")  # Output: 1 2 3 a b c 4.0 5.0 6.0"
   ]
  },
  {
   "cell_type": "markdown",
   "id": "ebf10d31",
   "metadata": {},
   "source": [
    "## combination"
   ]
  },
  {
   "cell_type": "code",
   "execution_count": null,
   "id": "573540c8",
   "metadata": {},
   "outputs": [],
   "source": [
    "lst = [1, 2, 3]\n",
    "comb = list(itertools.combinations(lst, 2))\n",
    "print(comb)  # Output: [(1, 2), (1, 3), (2, 3)]"
   ]
  },
  {
   "cell_type": "markdown",
   "id": "d003b6b9",
   "metadata": {},
   "source": [
    "----------\n",
    "# Pandas"
   ]
  },
  {
   "cell_type": "code",
   "execution_count": null,
   "id": "773f47bc",
   "metadata": {},
   "outputs": [],
   "source": [
    "import pandas as pd"
   ]
  },
  {
   "cell_type": "markdown",
   "id": "19e9ed65",
   "metadata": {},
   "source": [
    "## Series & DataFrame"
   ]
  },
  {
   "cell_type": "markdown",
   "id": "3fd1fd7f",
   "metadata": {},
   "source": [
    "### series"
   ]
  },
  {
   "cell_type": "code",
   "execution_count": null,
   "id": "1c6c7e51",
   "metadata": {},
   "outputs": [],
   "source": [
    "import pandas as pd\n",
    "\n",
    "# Create a Series from a list\n",
    "s = pd.Series([1, 2, 3, 4, 5])\n",
    "\n",
    "# Create a Series with custom index\n",
    "s_with_index = pd.Series([1, 2, 3], index=['a', 'b', 'c'])"
   ]
  },
  {
   "cell_type": "code",
   "execution_count": null,
   "id": "ad535491",
   "metadata": {},
   "outputs": [],
   "source": [
    "s"
   ]
  },
  {
   "cell_type": "code",
   "execution_count": null,
   "id": "5c44cd59",
   "metadata": {},
   "outputs": [],
   "source": [
    "s_with_index"
   ]
  },
  {
   "cell_type": "markdown",
   "id": "5a35e7a0",
   "metadata": {},
   "source": [
    "### DataFrame"
   ]
  },
  {
   "cell_type": "code",
   "execution_count": null,
   "id": "12d9f0fb",
   "metadata": {},
   "outputs": [],
   "source": [
    "# Create a DataFrame from a dictionary\n",
    "df = pd.DataFrame({\n",
    "    'A': [1, 2, 3],\n",
    "    'B': [4, 5, 6],\n",
    "    'C': ['p', 'q', 'r']\n",
    "})\n",
    "\n",
    "# Create a DataFrame from multiple Series\n",
    "s1 = pd.Series([1, 2, 3])\n",
    "s2 = pd.Series([4, 5, 6])\n",
    "df_from_series = pd.DataFrame({'Column1': s1, 'Column2': s2})"
   ]
  },
  {
   "cell_type": "code",
   "execution_count": null,
   "id": "569e299c",
   "metadata": {},
   "outputs": [],
   "source": [
    "df_from_series"
   ]
  },
  {
   "cell_type": "markdown",
   "id": "5df20e66",
   "metadata": {},
   "source": [
    "----------\n",
    "## NumPy and Pandas"
   ]
  },
  {
   "cell_type": "markdown",
   "id": "fd5b324b",
   "metadata": {},
   "source": [
    "## Easy Creation by Converting"
   ]
  },
  {
   "cell_type": "code",
   "execution_count": null,
   "id": "61d0c122",
   "metadata": {},
   "outputs": [],
   "source": [
    "# Creating a NumPy array\n",
    "numpy_array = np.array([[1, 2, 3], [4, 5, 6]])\n",
    "\n",
    "# Convert to a DataFrame\n",
    "df_from_array = pd.DataFrame(numpy_array, columns=['A', 'B', 'C'])\n",
    "\n",
    "# Show the underlying NumPy array from DataFrame\n",
    "print(df_from_array.values)"
   ]
  },
  {
   "cell_type": "markdown",
   "id": "f3fe710b",
   "metadata": {},
   "source": [
    "## Datatype"
   ]
  },
  {
   "cell_type": "code",
   "execution_count": null,
   "id": "b5165154",
   "metadata": {},
   "outputs": [],
   "source": [
    "# Creating a DataFrame with mixed types\n",
    "df = pd.DataFrame({'A': [1, 2, 3], 'B': [1.2, 3.4, 4.5], 'C': ['a', 'b', 'c']})\n",
    "\n",
    "# Check the data types; these map to NumPy dtypes\n",
    "print(df.dtypes)"
   ]
  },
  {
   "cell_type": "code",
   "execution_count": null,
   "id": "3774d7f0",
   "metadata": {},
   "outputs": [],
   "source": [
    "df"
   ]
  },
  {
   "cell_type": "markdown",
   "id": "fc17cc2b",
   "metadata": {},
   "source": [
    "## Advanced Indexing"
   ]
  },
  {
   "cell_type": "code",
   "execution_count": null,
   "id": "d0cbc530",
   "metadata": {},
   "outputs": [],
   "source": [
    "# NumPy boolean indexing\n",
    "numpy_array = np.array([1, 2, 3, 4, 5])\n",
    "filtered_array = numpy_array[numpy_array > 2]\n",
    "print(filtered_array)  # Output: [3 4 5]"
   ]
  },
  {
   "cell_type": "code",
   "execution_count": null,
   "id": "42e941d5",
   "metadata": {},
   "outputs": [],
   "source": [
    "# Pandas boolean indexing\n",
    "s = pd.Series([1, 2, 3, 4, 5])\n",
    "filtered_series = s[s > 2]\n",
    "print(filtered_series)  # Output: 2    3, 3    4, 4    5"
   ]
  },
  {
   "cell_type": "code",
   "execution_count": null,
   "id": "5f3e6f3b",
   "metadata": {},
   "outputs": [],
   "source": [
    "# Using NumPy logical_and for compound filtering\n",
    "filtered_series = s[np.logical_and(s > 2, s < 5)]\n",
    "print(filtered_series)  # Output: 2    3, 3    4"
   ]
  },
  {
   "cell_type": "markdown",
   "id": "bde6bb70",
   "metadata": {},
   "source": [
    "## Broadcasting"
   ]
  },
  {
   "cell_type": "code",
   "execution_count": null,
   "id": "d67a44f5",
   "metadata": {},
   "outputs": [],
   "source": [
    "df"
   ]
  },
  {
   "cell_type": "code",
   "execution_count": null,
   "id": "3431518e",
   "metadata": {},
   "outputs": [],
   "source": [
    "# Adding a single number to a whole NumPy array\n",
    "numpy_array += 1\n",
    "\n",
    "# Adding a single number to a whole DataFrame column\n",
    "df['A'] += 1"
   ]
  },
  {
   "cell_type": "code",
   "execution_count": null,
   "id": "aba5ae83",
   "metadata": {},
   "outputs": [],
   "source": [
    "df"
   ]
  },
  {
   "cell_type": "markdown",
   "id": "c01b31b0",
   "metadata": {},
   "source": [
    "## Universal Functions"
   ]
  },
  {
   "cell_type": "code",
   "execution_count": null,
   "id": "ee04c3c2",
   "metadata": {},
   "outputs": [],
   "source": [
    "# Using NumPy sqrt function on a Pandas Series\n",
    "s_sqrt = np.sqrt(s)\n",
    "print(s_sqrt)"
   ]
  },
  {
   "cell_type": "markdown",
   "id": "95813b64",
   "metadata": {},
   "source": [
    "---------\n",
    "# Basic Operations"
   ]
  },
  {
   "cell_type": "markdown",
   "id": "c8a9a0b0",
   "metadata": {},
   "source": [
    "## Create a CSV"
   ]
  },
  {
   "cell_type": "code",
   "execution_count": null,
   "id": "70d6d23d",
   "metadata": {},
   "outputs": [],
   "source": [
    "# Creating a DataFrame from a dictionary\n",
    "data = {\n",
    "    'Name': ['Alice', 'Bob', 'Charlie', 'David'],\n",
    "    'Age': [24, 27, 22, 32],\n",
    "    'Pet': ['Cat', 'Dog', 'Fish', 'Bird']\n",
    "}\n",
    "\n",
    "df = pd.DataFrame(data)\n",
    "\n",
    "# Saving the DataFrame to a CSV file\n",
    "df.to_csv('people_pets.csv', index=False)"
   ]
  },
  {
   "cell_type": "code",
   "execution_count": null,
   "id": "a2825ffe",
   "metadata": {},
   "outputs": [],
   "source": [
    "df"
   ]
  },
  {
   "cell_type": "markdown",
   "id": "97c3c896",
   "metadata": {},
   "source": [
    "## Reading the CSV and get info"
   ]
  },
  {
   "cell_type": "code",
   "execution_count": null,
   "id": "d2b6d120",
   "metadata": {},
   "outputs": [],
   "source": [
    "# Reading the CSV file into a DataFrame\n",
    "df = pd.read_csv('people_pets.csv')\n",
    "\n",
    "# Show the first few rows of the DataFrame\n",
    "print(\"First few rows:\\n\", df.head())\n",
    "\n",
    "# Show the last few rows of the DataFrame\n",
    "print(\"\\nLast few rows:\\n\", df.tail())\n",
    "\n",
    "# Statistical summary of numerical columns\n",
    "print(\"\\nStatistical Summary:\\n\", df.describe())\n",
    "\n",
    "# Information about the DataFrame including data types and memory usage\n",
    "print(\"\\nDataFrame Info:\")\n",
    "print(df.info())\n"
   ]
  },
  {
   "cell_type": "code",
   "execution_count": 41,
   "id": "e35d482a",
   "metadata": {
    "ExecuteTime": {
     "end_time": "2023-10-13T17:09:26.721435Z",
     "start_time": "2023-10-13T17:09:26.682469Z"
    }
   },
   "outputs": [
    {
     "name": "stdout",
     "output_type": "stream",
     "text": [
      "['ac' 'acc']\n"
     ]
    }
   ],
   "source": [
    "import numpy as np\n",
    "\n",
    "# Create the initial array\n",
    "arr = np.array(['ac', '10', 'bc', 'acc'])\n",
    "\n",
    "# Use np.char.startswith to filter elements starting with 'a'\n",
    "filtered_arr = arr[np.char.startswith(arr, 'a')]\n",
    "\n",
    "print(filtered_arr)\n"
   ]
  },
  {
   "cell_type": "code",
   "execution_count": null,
   "outputs": [],
   "source": [],
   "metadata": {
    "collapsed": false
   },
   "id": "7a9f90671eb9755e"
  }
 ],
 "metadata": {
  "kernelspec": {
   "display_name": "Python 3 (ipykernel)",
   "language": "python",
   "name": "python3"
  },
  "language_info": {
   "codemirror_mode": {
    "name": "ipython",
    "version": 3
   },
   "file_extension": ".py",
   "mimetype": "text/x-python",
   "name": "python",
   "nbconvert_exporter": "python",
   "pygments_lexer": "ipython3",
   "version": "3.9.16"
  }
 },
 "nbformat": 4,
 "nbformat_minor": 5
}
