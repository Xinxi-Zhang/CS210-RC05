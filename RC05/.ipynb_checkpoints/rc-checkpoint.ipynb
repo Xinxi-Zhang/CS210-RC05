{
 "cells": [
  {
   "cell_type": "markdown",
   "id": "337ca8788e485956",
   "metadata": {},
   "source": [
    "# Broadcasting Example"
   ]
  },
  {
   "cell_type": "code",
   "execution_count": 19,
   "id": "efe6892733041f8a",
   "metadata": {
    "ExecuteTime": {
     "end_time": "2023-10-13T14:41:08.932185Z",
     "start_time": "2023-10-13T14:41:08.929597Z"
    }
   },
   "outputs": [],
   "source": [
    "import numpy as np"
   ]
  },
  {
   "cell_type": "markdown",
   "id": "d073441162a4440b",
   "metadata": {},
   "source": [
    "## Broadcasting "
   ]
  },
  {
   "cell_type": "code",
   "execution_count": 20,
   "id": "b2baa5a89be4af6e",
   "metadata": {
    "ExecuteTime": {
     "end_time": "2023-10-13T14:41:09.083921Z",
     "start_time": "2023-10-13T14:41:09.079600Z"
    }
   },
   "outputs": [
    {
     "name": "stdout",
     "output_type": "stream",
     "text": [
      "[[ 56.    0.    4.4  68. ]\n",
      " [  1.2 104.   52.    8. ]\n",
      " [  1.8 135.   99.    0.9]]\n"
     ]
    }
   ],
   "source": [
    "A = np.array([[56.0, 0.0, 4.4, 68.0],\n",
    "             [1.2, 104.0, 52.0, 8.0],\n",
    "             [1.8,135.0,99.0,0.9]])\n",
    "print(A)"
   ]
  },
  {
   "cell_type": "code",
   "execution_count": 21,
   "id": "295ff6209dab0669",
   "metadata": {
    "ExecuteTime": {
     "end_time": "2023-10-13T14:41:09.219660Z",
     "start_time": "2023-10-13T14:41:09.215500Z"
    }
   },
   "outputs": [
    {
     "name": "stdout",
     "output_type": "stream",
     "text": [
      "[ 59.  239.  155.4  76.9]\n"
     ]
    }
   ],
   "source": [
    "cal_sum = A.sum(axis=0)\n",
    "print(cal_sum)"
   ]
  },
  {
   "cell_type": "code",
   "execution_count": 22,
   "id": "85d9aa97d1a32d2a",
   "metadata": {
    "ExecuteTime": {
     "end_time": "2023-10-13T14:41:09.345118Z",
     "start_time": "2023-10-13T14:41:09.339998Z"
    }
   },
   "outputs": [
    {
     "name": "stdout",
     "output_type": "stream",
     "text": [
      "[[94.91525424  0.          2.83140283 88.42652796]\n",
      " [ 2.03389831 43.51464435 33.46203346 10.40312094]\n",
      " [ 3.05084746 56.48535565 63.70656371  1.17035111]]\n"
     ]
    }
   ],
   "source": [
    "percentage = 100 * A / cal_sum\n",
    "print(percentage)"
   ]
  },
  {
   "cell_type": "code",
   "execution_count": 23,
   "id": "d6bca0ad468261bc",
   "metadata": {
    "ExecuteTime": {
     "end_time": "2023-10-13T14:41:09.477391Z",
     "start_time": "2023-10-13T14:41:09.472729Z"
    }
   },
   "outputs": [
    {
     "name": "stdout",
     "output_type": "stream",
     "text": [
      "(3, 4)\n"
     ]
    }
   ],
   "source": [
    "print(A.shape)"
   ]
  },
  {
   "cell_type": "code",
   "execution_count": 24,
   "id": "205505256dd1e129",
   "metadata": {
    "ExecuteTime": {
     "end_time": "2023-10-13T14:41:09.616872Z",
     "start_time": "2023-10-13T14:41:09.609911Z"
    }
   },
   "outputs": [
    {
     "name": "stdout",
     "output_type": "stream",
     "text": [
      "(4,)\n"
     ]
    }
   ],
   "source": [
    "print(cal_sum.shape)"
   ]
  },
  {
   "cell_type": "markdown",
   "id": "7b8843550ae4620e",
   "metadata": {},
   "source": [
    "## Under the hood"
   ]
  },
  {
   "cell_type": "code",
   "execution_count": 25,
   "id": "2cb015d2e02e69c6",
   "metadata": {
    "ExecuteTime": {
     "end_time": "2023-10-13T14:41:09.751326Z",
     "start_time": "2023-10-13T14:41:09.744193Z"
    }
   },
   "outputs": [
    {
     "name": "stdout",
     "output_type": "stream",
     "text": [
      "[[ 59.  239.  155.4  76.9]\n",
      " [ 59.  239.  155.4  76.9]\n",
      " [ 59.  239.  155.4  76.9]]\n"
     ]
    }
   ],
   "source": [
    "cal_sum_ = cal_sum.reshape(1,4).repeat(3, axis=0)\n",
    "print(cal_sum_)"
   ]
  },
  {
   "cell_type": "code",
   "execution_count": 26,
   "id": "e1c4ee843f3c6833",
   "metadata": {
    "ExecuteTime": {
     "end_time": "2023-10-13T14:41:09.886863Z",
     "start_time": "2023-10-13T14:41:09.879590Z"
    }
   },
   "outputs": [
    {
     "name": "stdout",
     "output_type": "stream",
     "text": [
      "[[94.91525424  0.          2.83140283 88.42652796]\n",
      " [ 2.03389831 43.51464435 33.46203346 10.40312094]\n",
      " [ 3.05084746 56.48535565 63.70656371  1.17035111]]\n"
     ]
    }
   ],
   "source": [
    "percentage_ = 100 * A / cal_sum_\n",
    "print(percentage_)"
   ]
  },
  {
   "cell_type": "code",
   "execution_count": 27,
   "id": "66f3c334237399af",
   "metadata": {
    "ExecuteTime": {
     "end_time": "2023-10-13T14:41:15.906603Z",
     "start_time": "2023-10-13T14:41:15.892849Z"
    }
   },
   "outputs": [
    {
     "data": {
      "text/plain": [
       "array([[0., 0., 0., 0.],\n",
       "       [0., 0., 0., 0.],\n",
       "       [0., 0., 0., 0.]])"
      ]
     },
     "execution_count": 27,
     "metadata": {},
     "output_type": "execute_result"
    }
   ],
   "source": [
    "percentage - percentage_"
   ]
  },
  {
   "cell_type": "markdown",
   "id": "88b05487",
   "metadata": {},
   "source": [
    "# Itertools"
   ]
  },
  {
   "cell_type": "code",
   "execution_count": 28,
   "id": "c11d94b7",
   "metadata": {},
   "outputs": [],
   "source": [
    "import itertools"
   ]
  },
  {
   "cell_type": "markdown",
   "id": "bf788ed1",
   "metadata": {},
   "source": [
    "## cycle"
   ]
  },
  {
   "cell_type": "code",
   "execution_count": 29,
   "id": "5c634a6c",
   "metadata": {},
   "outputs": [
    {
     "name": "stdout",
     "output_type": "stream",
     "text": [
      "Cycle Example:\n",
      "1 2 3 1 2 3 1 2 3 1 "
     ]
    }
   ],
   "source": [
    "# Create an iterator that cycles through the list [1, 2, 3]\n",
    "cycler = itertools.cycle([1, 2, 3])\n",
    "\n",
    "# Generate the first 10 elements of the cycle\n",
    "print(\"Cycle Example:\")\n",
    "for i, element in enumerate(cycler):\n",
    "    if i == 10:  # Stop after 10 iterations\n",
    "        break\n",
    "    print(element, end=\" \")  # Output: 1 2 3 1 2 3 1 2 3 1"
   ]
  },
  {
   "cell_type": "markdown",
   "id": "6a906adc",
   "metadata": {},
   "source": [
    "## repeat"
   ]
  },
  {
   "cell_type": "code",
   "execution_count": 30,
   "id": "6a4f85b6",
   "metadata": {},
   "outputs": [
    {
     "name": "stdout",
     "output_type": "stream",
     "text": [
      "\n",
      "Repeat Example:\n",
      "4 4 4 4 4 "
     ]
    }
   ],
   "source": [
    "# Repeat the number 4, five times\n",
    "repeater = itertools.repeat(4, 5)\n",
    "\n",
    "print(\"\\nRepeat Example:\")\n",
    "for element in repeater:\n",
    "    print(element, end=\" \")  # Output: 4 4 4 4 4"
   ]
  },
  {
   "cell_type": "markdown",
   "id": "52bad024",
   "metadata": {},
   "source": [
    "## chain"
   ]
  },
  {
   "cell_type": "code",
   "execution_count": 31,
   "id": "52aa3880",
   "metadata": {},
   "outputs": [
    {
     "name": "stdout",
     "output_type": "stream",
     "text": [
      "\n",
      "Chain Example:\n",
      "1 2 3 a b c 4.0 5.0 6.0 "
     ]
    }
   ],
   "source": [
    "# Chain three lists together\n",
    "chainer = itertools.chain([1, 2, 3], ['a', 'b', 'c'], [4.0, 5.0, 6.0])\n",
    "\n",
    "print(\"\\nChain Example:\")\n",
    "for element in chainer:\n",
    "    print(element, end=\" \")  # Output: 1 2 3 a b c 4.0 5.0 6.0"
   ]
  },
  {
   "cell_type": "markdown",
   "id": "5432d522",
   "metadata": {},
   "source": [
    "## combination"
   ]
  },
  {
   "cell_type": "code",
   "execution_count": 32,
   "id": "428850c3",
   "metadata": {},
   "outputs": [
    {
     "name": "stdout",
     "output_type": "stream",
     "text": [
      "[(1, 2), (1, 3), (2, 3)]\n"
     ]
    }
   ],
   "source": [
    "lst = [1, 2, 3]\n",
    "comb = list(itertools.combinations(lst, 2))\n",
    "print(comb)  # Output: [(1, 2), (1, 3), (2, 3)]"
   ]
  },
  {
   "cell_type": "markdown",
   "id": "a9dcdbb1",
   "metadata": {},
   "source": [
    "# Pandas"
   ]
  },
  {
   "cell_type": "code",
   "execution_count": null,
   "id": "408b41fa",
   "metadata": {},
   "outputs": [],
   "source": []
  }
 ],
 "metadata": {
  "kernelspec": {
   "display_name": "Python 3 (ipykernel)",
   "language": "python",
   "name": "python3"
  },
  "language_info": {
   "codemirror_mode": {
    "name": "ipython",
    "version": 3
   },
   "file_extension": ".py",
   "mimetype": "text/x-python",
   "name": "python",
   "nbconvert_exporter": "python",
   "pygments_lexer": "ipython3",
   "version": "3.9.16"
  }
 },
 "nbformat": 4,
 "nbformat_minor": 5
}
