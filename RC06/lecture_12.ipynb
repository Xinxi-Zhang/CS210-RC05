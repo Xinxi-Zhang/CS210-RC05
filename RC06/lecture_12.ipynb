{
 "cells": [
  {
   "cell_type": "markdown",
   "id": "1c2230b9",
   "metadata": {},
   "source": [
    "## CS 210: Data Management for Data Science\n",
    "### Lecture 12"
   ]
  },
  {
   "cell_type": "markdown",
   "id": "68b92c81",
   "metadata": {},
   "source": [
    "## <font color=\"brown\">Pandas,CSVs</font>"
   ]
  },
  {
   "cell_type": "code",
   "execution_count": 1,
   "id": "a0252b73",
   "metadata": {},
   "outputs": [],
   "source": [
    "import pandas as pd\n",
    "import csv"
   ]
  },
  {
   "cell_type": "markdown",
   "id": "8964aa62",
   "metadata": {},
   "source": [
    "Suppose we have an auto dataset with the following fields:\n",
    "* mpg\n",
    "* cylinders\n",
    "* displacement\n",
    "* horsepower\n",
    "* weight\n",
    "* acceleration\n",
    "* model year\n",
    "* origin\n",
    "* car name"
   ]
  },
  {
   "cell_type": "markdown",
   "id": "6db5ce97",
   "metadata": {},
   "source": [
    "Let's get the mpg, cylinders, year and name"
   ]
  },
  {
   "cell_type": "code",
   "execution_count": 2,
   "id": "35d09799",
   "metadata": {
    "scrolled": false
   },
   "outputs": [
    {
     "name": "stdout",
     "output_type": "stream",
     "text": [
      "18.0,8,1970,\"chevrolet\n",
      "15.0,8,1970,\"buick\n",
      "18.0,8,1970,\"plymouth\n",
      "16.0,8,1970,\"amc\n",
      "17.0,8,1970,\"ford\n",
      "15.0,8,1970,\"ford\n",
      "14.0,8,1970,\"chevrolet\n",
      "14.0,8,1970,\"plymouth\n"
     ]
    }
   ],
   "source": [
    "for i,line in enumerate(open(\"auto-mpg-original.txt\")):\n",
    "    flds = line.split()\n",
    "    out_flds = []\n",
    "    out_flds.append(flds[0])\n",
    "    out_flds.append(flds[1][:-1])\n",
    "    out_flds.append('19' + flds[6][:-1])\n",
    "    out_flds.append(flds[8])\n",
    "    if i<8:\n",
    "        print(','.join(out_flds))"
   ]
  },
  {
   "cell_type": "markdown",
   "id": "6505eecd",
   "metadata": {},
   "source": [
    "But wait, the fields are separated by spaces, and the car name may contain spaces. The character used to separate the fields is called the *delimiter*. It's important to choose a character that does not appear in the data, otherwise it will be more difficult to read. "
   ]
  },
  {
   "cell_type": "markdown",
   "id": "41181ae5",
   "metadata": {},
   "source": [
    "Let's reformat this file to use a comma (\",\") as the delimiter. \n",
    "The file suffix will be .csv (for Comma-Separated Values). "
   ]
  },
  {
   "cell_type": "code",
   "execution_count": 3,
   "id": "c91a9b7e",
   "metadata": {},
   "outputs": [],
   "source": [
    "names=[\"mpg\",\"cylinders\",\"displacement\",\n",
    "       \"horsepower\",\"weight\",\"acceleration\",\n",
    "       \"model year\", \"origin\", \"car name\"]"
   ]
  },
  {
   "cell_type": "code",
   "execution_count": 4,
   "id": "3b0b4115",
   "metadata": {},
   "outputs": [],
   "source": [
    "with open(\"auto-mpg-reformatted.csv\", \"w\") as autoout:\n",
    "    autoout.write(\",\".join(names)+\"\\n\")\n",
    "    for line in open(\"auto-mpg-original.txt\"):\n",
    "        flds = line.split()\n",
    "        out_flds = []\n",
    "        out_flds.append(flds[0])\n",
    "        out_flds.append(flds[1][:-1])\n",
    "        out_flds.append(','.join(flds[2:6]))\n",
    "        out_flds.append('19' + flds[6][:-1])\n",
    "        out_flds.append(flds[7][:-1])\n",
    "        out_flds.append(' '.join(flds[8:]))\n",
    "        autoout.write(','.join(out_flds)+'\\n')"
   ]
  },
  {
   "cell_type": "markdown",
   "id": "c6d0242e",
   "metadata": {},
   "source": [
    "Let's find any rows with NA values. "
   ]
  },
  {
   "cell_type": "markdown",
   "id": "9baee4e0",
   "metadata": {},
   "source": [
    "* `csv.DictReader`\n",
    "* `csv.DictWriter`"
   ]
  },
  {
   "cell_type": "code",
   "execution_count": 5,
   "id": "a6208578",
   "metadata": {},
   "outputs": [],
   "source": [
    "reader = csv.DictReader(open('auto-mpg-reformatted.csv'))\n",
    "with open('auto_mpg.csv','w') as csvfile:\n",
    "    csvfile.write(','.join(reader.fieldnames)+'\\n')\n",
    "    for row in reader:\n",
    "        if 'NA' in row.values():\n",
    "            continue\n",
    "        values = list(row.values())\n",
    "        csvfile.write(','.join(values)+'\\n')"
   ]
  },
  {
   "cell_type": "code",
   "execution_count": 6,
   "id": "be49b024",
   "metadata": {},
   "outputs": [],
   "source": [
    "with open('auto-mpg-reformatted.csv') as csvfile:\n",
    "    reader = csv.DictReader(csvfile)\n",
    "    with open('auto_mpg.tsv','w',newline='') as csvout:\n",
    "        writer = csv.DictWriter(csvout,\n",
    "            fieldnames=reader.fieldnames,\n",
    "            delimiter='\\t')\n",
    "        writer.writeheader()\n",
    "        for row in reader:\n",
    "            if 'NA' in row.values():\n",
    "                continue\n",
    "            writer.writerow(row)"
   ]
  },
  {
   "cell_type": "markdown",
   "id": "c801327b",
   "metadata": {},
   "source": [
    "That was a fairly easy fix. Every missing value was indicated with \"NA\", and every line had the same number of fields. Unfortunately, it's not always that easy. "
   ]
  },
  {
   "cell_type": "code",
   "execution_count": 7,
   "id": "3426f6df",
   "metadata": {},
   "outputs": [
    {
     "name": "stdout",
     "output_type": "stream",
     "text": [
      "Row 009 is ['4.4', '2', '9', '1.4', '0.2', 'Iris-setosa']\n",
      "Row 064 is ['6.1', '4.7', '1.4', 'Iris-versicolor']\n",
      "Row 078 is ['6.7', '3.0', '4.5', '1.7', '6.5', 'Iris-versicolor']\n",
      "Row 103 is ['7', '1', '3.0', '5.9', '2.1', 'Iris-virginica']\n",
      "Row 113 is ['6.8', '3.0', '5.5', '2.1']\n",
      "Row 152 is []\n"
     ]
    }
   ],
   "source": [
    "with open('iris-messy.csv') as irisfile:\n",
    "    reader = csv.reader(irisfile)\n",
    "    next(reader) # skip over header\n",
    "    for num,row in enumerate(reader):\n",
    "        if len(row) != 5:\n",
    "            print(f'Row {(num+1):03} is {row}')\n"
   ]
  },
  {
   "cell_type": "code",
   "execution_count": 8,
   "id": "9025ad26",
   "metadata": {},
   "outputs": [
    {
     "name": "stdout",
     "output_type": "stream",
     "text": [
      "Too many fields: ['4.4', '2', '9', '1.4', '0.2', 'Iris-setosa']\n",
      "Non-numeric value: ['4.8', 'N/A', '1.4', '0.1', 'Iris-setosa']\n",
      "Non-numeric value: ['4.9', '3.1', 'n/a', '0.1', 'Iris-setosa']\n",
      "Non-numeric value: ['5.0', 'na', '1.2', '0.2', 'Iris-setosa']\n",
      "Non-numeric value: ['?', '3.2', '1.3', '0.2', 'Iris-setosa']\n",
      "Too few fields: ['6.1', '4.7', '1.4', 'Iris-versicolor']\n",
      "Non-numeric value: ['5.6', '2.5', '3.9', 'NA', 'Iris-versicolor']\n",
      "Non-numeric value: ['6.8', '2.8', '?', '1.4', 'Iris-versicolor']\n",
      "Too many fields: ['6.7', '3.0', '4.5', '1.7', '6.5', 'Iris-versicolor']\n",
      "Too many fields: ['7', '1', '3.0', '5.9', '2.1', 'Iris-virginica']\n",
      "Too few fields: ['6.8', '3.0', '5.5', '2.1']\n",
      "Non-numeric value: ['6.2', '2.8', '4x8', '1.8', 'Iris-virginica']\n",
      "Non-numeric value: ['6.3', '3.4', '5.6', '?', 'Iris-virginica']\n",
      "Non-numeric value: ['', '3.0', '5.2', '2.0', 'Iris-virginica']\n",
      "Too few fields: []\n"
     ]
    }
   ],
   "source": [
    "with open('iris-messy.csv') as irisfile:\n",
    "    reader = csv.reader(irisfile)\n",
    "    next(reader)\n",
    "    for num,row in enumerate(reader):\n",
    "        if len(row) < 5:\n",
    "            print(f\"Too few fields: {row}\")\n",
    "        elif len(row) > 5:\n",
    "            print(f\"Too many fields: {row}\")\n",
    "        else:\n",
    "            for val in row[:-1]:\n",
    "                try:\n",
    "                    float(val)\n",
    "                except:\n",
    "                    print(f\"Non-numeric value: {row}\")\n"
   ]
  },
  {
   "cell_type": "code",
   "execution_count": 9,
   "id": "108e32e8",
   "metadata": {},
   "outputs": [],
   "source": [
    "with open('iris-cleaned.csv','w') as outfile:\n",
    "    with open('iris-messy.csv') as irisfile:\n",
    "        reader = csv.reader(irisfile)\n",
    "        row = next(reader)\n",
    "        outfile.write(','.join(row))\n",
    "        outfile.write('\\n')\n",
    "        for num,row in enumerate(reader):\n",
    "            if len(row) != 5:\n",
    "                continue\n",
    "            outrow = []\n",
    "            for val in row[:-1]:\n",
    "                try:\n",
    "                    float(val)\n",
    "                    outrow.append(val)\n",
    "                except:\n",
    "                    outrow.append('NA')\n",
    "            outrow.append(row[-1])\n",
    "            outfile.write(','.join(outrow))\n",
    "            outfile.write('\\n')\n"
   ]
  },
  {
   "cell_type": "markdown",
   "id": "cef37ab1",
   "metadata": {},
   "source": [
    "### Reading CSV files with Pandas\n",
    "\n",
    "* `pandas.read_csv`\n",
    "* `DataFrame.to_csv`\n",
    "\n",
    "(also: excel, html, json, pickle, sql, xml, and more)"
   ]
  },
  {
   "cell_type": "code",
   "execution_count": 10,
   "id": "9650da50",
   "metadata": {},
   "outputs": [],
   "source": [
    "df = pd.read_csv(\"auto-mpg-reformatted.csv\", header=0, index_col=None, na_values=[\"NA\"])"
   ]
  },
  {
   "cell_type": "code",
   "execution_count": 11,
   "id": "6f6c35fd",
   "metadata": {},
   "outputs": [
    {
     "data": {
      "text/html": [
       "<div>\n",
       "<style scoped>\n",
       "    .dataframe tbody tr th:only-of-type {\n",
       "        vertical-align: middle;\n",
       "    }\n",
       "\n",
       "    .dataframe tbody tr th {\n",
       "        vertical-align: top;\n",
       "    }\n",
       "\n",
       "    .dataframe thead th {\n",
       "        text-align: right;\n",
       "    }\n",
       "</style>\n",
       "<table border=\"1\" class=\"dataframe\">\n",
       "  <thead>\n",
       "    <tr style=\"text-align: right;\">\n",
       "      <th></th>\n",
       "      <th>mpg</th>\n",
       "      <th>cylinders</th>\n",
       "      <th>displacement</th>\n",
       "      <th>horsepower</th>\n",
       "      <th>weight</th>\n",
       "      <th>acceleration</th>\n",
       "      <th>model year</th>\n",
       "      <th>origin</th>\n",
       "      <th>car name</th>\n",
       "    </tr>\n",
       "  </thead>\n",
       "  <tbody>\n",
       "    <tr>\n",
       "      <th>0</th>\n",
       "      <td>18.0</td>\n",
       "      <td>8</td>\n",
       "      <td>307.0</td>\n",
       "      <td>130.0</td>\n",
       "      <td>3504.0</td>\n",
       "      <td>12.0</td>\n",
       "      <td>1970</td>\n",
       "      <td>1</td>\n",
       "      <td>chevrolet chevelle malibu</td>\n",
       "    </tr>\n",
       "    <tr>\n",
       "      <th>1</th>\n",
       "      <td>15.0</td>\n",
       "      <td>8</td>\n",
       "      <td>350.0</td>\n",
       "      <td>165.0</td>\n",
       "      <td>3693.0</td>\n",
       "      <td>11.5</td>\n",
       "      <td>1970</td>\n",
       "      <td>1</td>\n",
       "      <td>buick skylark 320</td>\n",
       "    </tr>\n",
       "    <tr>\n",
       "      <th>2</th>\n",
       "      <td>18.0</td>\n",
       "      <td>8</td>\n",
       "      <td>318.0</td>\n",
       "      <td>150.0</td>\n",
       "      <td>3436.0</td>\n",
       "      <td>11.0</td>\n",
       "      <td>1970</td>\n",
       "      <td>1</td>\n",
       "      <td>plymouth satellite</td>\n",
       "    </tr>\n",
       "    <tr>\n",
       "      <th>3</th>\n",
       "      <td>16.0</td>\n",
       "      <td>8</td>\n",
       "      <td>304.0</td>\n",
       "      <td>150.0</td>\n",
       "      <td>3433.0</td>\n",
       "      <td>12.0</td>\n",
       "      <td>1970</td>\n",
       "      <td>1</td>\n",
       "      <td>amc rebel sst</td>\n",
       "    </tr>\n",
       "    <tr>\n",
       "      <th>4</th>\n",
       "      <td>17.0</td>\n",
       "      <td>8</td>\n",
       "      <td>302.0</td>\n",
       "      <td>140.0</td>\n",
       "      <td>3449.0</td>\n",
       "      <td>10.5</td>\n",
       "      <td>1970</td>\n",
       "      <td>1</td>\n",
       "      <td>ford torino</td>\n",
       "    </tr>\n",
       "    <tr>\n",
       "      <th>...</th>\n",
       "      <td>...</td>\n",
       "      <td>...</td>\n",
       "      <td>...</td>\n",
       "      <td>...</td>\n",
       "      <td>...</td>\n",
       "      <td>...</td>\n",
       "      <td>...</td>\n",
       "      <td>...</td>\n",
       "      <td>...</td>\n",
       "    </tr>\n",
       "    <tr>\n",
       "      <th>401</th>\n",
       "      <td>27.0</td>\n",
       "      <td>4</td>\n",
       "      <td>140.0</td>\n",
       "      <td>86.0</td>\n",
       "      <td>2790.0</td>\n",
       "      <td>15.6</td>\n",
       "      <td>1982</td>\n",
       "      <td>1</td>\n",
       "      <td>ford mustang gl</td>\n",
       "    </tr>\n",
       "    <tr>\n",
       "      <th>402</th>\n",
       "      <td>44.0</td>\n",
       "      <td>4</td>\n",
       "      <td>97.0</td>\n",
       "      <td>52.0</td>\n",
       "      <td>2130.0</td>\n",
       "      <td>24.6</td>\n",
       "      <td>1982</td>\n",
       "      <td>2</td>\n",
       "      <td>vw pickup</td>\n",
       "    </tr>\n",
       "    <tr>\n",
       "      <th>403</th>\n",
       "      <td>32.0</td>\n",
       "      <td>4</td>\n",
       "      <td>135.0</td>\n",
       "      <td>84.0</td>\n",
       "      <td>2295.0</td>\n",
       "      <td>11.6</td>\n",
       "      <td>1982</td>\n",
       "      <td>1</td>\n",
       "      <td>dodge rampage</td>\n",
       "    </tr>\n",
       "    <tr>\n",
       "      <th>404</th>\n",
       "      <td>28.0</td>\n",
       "      <td>4</td>\n",
       "      <td>120.0</td>\n",
       "      <td>79.0</td>\n",
       "      <td>2625.0</td>\n",
       "      <td>18.6</td>\n",
       "      <td>1982</td>\n",
       "      <td>1</td>\n",
       "      <td>ford ranger</td>\n",
       "    </tr>\n",
       "    <tr>\n",
       "      <th>405</th>\n",
       "      <td>31.0</td>\n",
       "      <td>4</td>\n",
       "      <td>119.0</td>\n",
       "      <td>82.0</td>\n",
       "      <td>2720.0</td>\n",
       "      <td>19.4</td>\n",
       "      <td>1982</td>\n",
       "      <td>1</td>\n",
       "      <td>chevy s-10</td>\n",
       "    </tr>\n",
       "  </tbody>\n",
       "</table>\n",
       "<p>392 rows × 9 columns</p>\n",
       "</div>"
      ],
      "text/plain": [
       "      mpg  cylinders  displacement  horsepower  weight  acceleration  \\\n",
       "0    18.0          8         307.0       130.0  3504.0          12.0   \n",
       "1    15.0          8         350.0       165.0  3693.0          11.5   \n",
       "2    18.0          8         318.0       150.0  3436.0          11.0   \n",
       "3    16.0          8         304.0       150.0  3433.0          12.0   \n",
       "4    17.0          8         302.0       140.0  3449.0          10.5   \n",
       "..    ...        ...           ...         ...     ...           ...   \n",
       "401  27.0          4         140.0        86.0  2790.0          15.6   \n",
       "402  44.0          4          97.0        52.0  2130.0          24.6   \n",
       "403  32.0          4         135.0        84.0  2295.0          11.6   \n",
       "404  28.0          4         120.0        79.0  2625.0          18.6   \n",
       "405  31.0          4         119.0        82.0  2720.0          19.4   \n",
       "\n",
       "     model year  origin                   car name  \n",
       "0          1970       1  chevrolet chevelle malibu  \n",
       "1          1970       1          buick skylark 320  \n",
       "2          1970       1         plymouth satellite  \n",
       "3          1970       1              amc rebel sst  \n",
       "4          1970       1                ford torino  \n",
       "..          ...     ...                        ...  \n",
       "401        1982       1            ford mustang gl  \n",
       "402        1982       2                  vw pickup  \n",
       "403        1982       1              dodge rampage  \n",
       "404        1982       1                ford ranger  \n",
       "405        1982       1                 chevy s-10  \n",
       "\n",
       "[392 rows x 9 columns]"
      ]
     },
     "execution_count": 11,
     "metadata": {},
     "output_type": "execute_result"
    }
   ],
   "source": [
    "df.dropna()"
   ]
  },
  {
   "cell_type": "code",
   "execution_count": 12,
   "id": "dcd5da2c",
   "metadata": {},
   "outputs": [],
   "source": [
    "df.dropna().to_csv(\"auto-mpg-filtered.csv\", index=None)"
   ]
  },
  {
   "cell_type": "code",
   "execution_count": 13,
   "id": "1e1481bb",
   "metadata": {},
   "outputs": [],
   "source": [
    "auto_df = pd.read_csv(\"auto-mpg-filtered.csv\")"
   ]
  },
  {
   "cell_type": "code",
   "execution_count": 14,
   "id": "88bf73fd",
   "metadata": {},
   "outputs": [
    {
     "data": {
      "text/plain": [
       "(392, 9)"
      ]
     },
     "execution_count": 14,
     "metadata": {},
     "output_type": "execute_result"
    }
   ],
   "source": [
    "auto_df.shape"
   ]
  },
  {
   "cell_type": "markdown",
   "id": "866edd5e",
   "metadata": {},
   "source": [
    "#### JSON\n",
    "\n",
    "JSON stands for JavaScript Object Notation\n",
    "* serializable format for objects\n",
    "* based on JavaScript’s object literals\n",
    "* uses key-value pairs\n",
    "https://www.json.org/json-en.html\n",
    "\n",
    "```\n",
    "{\n",
    "    \"people\": [\n",
    "        {\n",
    "            \"name\": \"Alice\",\n",
    "            \"age\": 25,\n",
    "            \"city\": \"Miami\",\n",
    "            \"state\": \"FL\"\n",
    "        },\n",
    "        {\n",
    "            \"name\": \"Bob\",\n",
    "            \"age\": 30,\n",
    "            \"city\": \"Seattle\",\n",
    "            \"state\": \"WA\"\n",
    "        }\n",
    "    ]\n",
    "}\n",
    "```"
   ]
  },
  {
   "cell_type": "code",
   "execution_count": 15,
   "id": "f16b32c3",
   "metadata": {},
   "outputs": [
    {
     "name": "stdout",
     "output_type": "stream",
     "text": [
      "Alice: 25\n",
      "Bob: 30\n"
     ]
    }
   ],
   "source": [
    "import json\n",
    "\n",
    "with open('data.json') as f:\n",
    "    data = json.load(f)\n",
    "\n",
    "for p in data['people']:\n",
    "    print(\"{}: {}\".format(p['name'], p['age']))\n"
   ]
  },
  {
   "cell_type": "markdown",
   "id": "680efe43",
   "metadata": {},
   "source": [
    "#### JSON Data Types\n",
    "\n",
    "* `Number`\n",
    "* `String`\n",
    "* `Boolean`\n",
    "* `Array`\n",
    "* `Object`\n",
    "* `null`"
   ]
  },
  {
   "cell_type": "markdown",
   "id": "15127881",
   "metadata": {},
   "source": [
    "Loading JSON from a string"
   ]
  },
  {
   "cell_type": "code",
   "execution_count": 16,
   "id": "0c52dfb9",
   "metadata": {},
   "outputs": [
    {
     "name": "stdout",
     "output_type": "stream",
     "text": [
      "{'Hill Center': 'Busch', 'AB': 'College Ave'}\n"
     ]
    }
   ],
   "source": [
    "json1 = '{\"Hill Center\":\"Busch\", \"AB\":\"College Ave\"}'\n",
    "dict1 = json.loads(json1)\n",
    "print(dict1)"
   ]
  },
  {
   "cell_type": "markdown",
   "id": "34fe14cb",
   "metadata": {},
   "source": [
    "Not as flexible as Python -- keys must be double-quoted strings. "
   ]
  },
  {
   "cell_type": "code",
   "execution_count": 17,
   "id": "a54852fd",
   "metadata": {},
   "outputs": [
    {
     "ename": "JSONDecodeError",
     "evalue": "Expecting property name enclosed in double quotes: line 1 column 2 (char 1)",
     "output_type": "error",
     "traceback": [
      "\u001b[0;31m---------------------------------------------------------------------------\u001b[0m",
      "\u001b[0;31mJSONDecodeError\u001b[0m                           Traceback (most recent call last)",
      "Cell \u001b[0;32mIn[17], line 2\u001b[0m\n\u001b[1;32m      1\u001b[0m json2 \u001b[38;5;241m=\u001b[39m \u001b[38;5;124m\"\u001b[39m\u001b[38;5;124m{\u001b[39m\u001b[38;5;124m'\u001b[39m\u001b[38;5;124mHill Center\u001b[39m\u001b[38;5;124m'\u001b[39m\u001b[38;5;124m:\u001b[39m\u001b[38;5;124m'\u001b[39m\u001b[38;5;124mBusch\u001b[39m\u001b[38;5;124m'\u001b[39m\u001b[38;5;124m, \u001b[39m\u001b[38;5;124m'\u001b[39m\u001b[38;5;124mAB\u001b[39m\u001b[38;5;124m'\u001b[39m\u001b[38;5;124m:\u001b[39m\u001b[38;5;124m'\u001b[39m\u001b[38;5;124mCollege Ave\u001b[39m\u001b[38;5;124m'\u001b[39m\u001b[38;5;124m}\u001b[39m\u001b[38;5;124m\"\u001b[39m\n\u001b[0;32m----> 2\u001b[0m dict2 \u001b[38;5;241m=\u001b[39m \u001b[43mjson\u001b[49m\u001b[38;5;241;43m.\u001b[39;49m\u001b[43mloads\u001b[49m\u001b[43m(\u001b[49m\u001b[43mjson2\u001b[49m\u001b[43m)\u001b[49m\n\u001b[1;32m      3\u001b[0m \u001b[38;5;28mprint\u001b[39m(dict2)\n",
      "File \u001b[0;32m/opt/anaconda3/envs/cs210/lib/python3.10/json/__init__.py:346\u001b[0m, in \u001b[0;36mloads\u001b[0;34m(s, cls, object_hook, parse_float, parse_int, parse_constant, object_pairs_hook, **kw)\u001b[0m\n\u001b[1;32m    341\u001b[0m     s \u001b[38;5;241m=\u001b[39m s\u001b[38;5;241m.\u001b[39mdecode(detect_encoding(s), \u001b[38;5;124m'\u001b[39m\u001b[38;5;124msurrogatepass\u001b[39m\u001b[38;5;124m'\u001b[39m)\n\u001b[1;32m    343\u001b[0m \u001b[38;5;28;01mif\u001b[39;00m (\u001b[38;5;28mcls\u001b[39m \u001b[38;5;129;01mis\u001b[39;00m \u001b[38;5;28;01mNone\u001b[39;00m \u001b[38;5;129;01mand\u001b[39;00m object_hook \u001b[38;5;129;01mis\u001b[39;00m \u001b[38;5;28;01mNone\u001b[39;00m \u001b[38;5;129;01mand\u001b[39;00m\n\u001b[1;32m    344\u001b[0m         parse_int \u001b[38;5;129;01mis\u001b[39;00m \u001b[38;5;28;01mNone\u001b[39;00m \u001b[38;5;129;01mand\u001b[39;00m parse_float \u001b[38;5;129;01mis\u001b[39;00m \u001b[38;5;28;01mNone\u001b[39;00m \u001b[38;5;129;01mand\u001b[39;00m\n\u001b[1;32m    345\u001b[0m         parse_constant \u001b[38;5;129;01mis\u001b[39;00m \u001b[38;5;28;01mNone\u001b[39;00m \u001b[38;5;129;01mand\u001b[39;00m object_pairs_hook \u001b[38;5;129;01mis\u001b[39;00m \u001b[38;5;28;01mNone\u001b[39;00m \u001b[38;5;129;01mand\u001b[39;00m \u001b[38;5;129;01mnot\u001b[39;00m kw):\n\u001b[0;32m--> 346\u001b[0m     \u001b[38;5;28;01mreturn\u001b[39;00m \u001b[43m_default_decoder\u001b[49m\u001b[38;5;241;43m.\u001b[39;49m\u001b[43mdecode\u001b[49m\u001b[43m(\u001b[49m\u001b[43ms\u001b[49m\u001b[43m)\u001b[49m\n\u001b[1;32m    347\u001b[0m \u001b[38;5;28;01mif\u001b[39;00m \u001b[38;5;28mcls\u001b[39m \u001b[38;5;129;01mis\u001b[39;00m \u001b[38;5;28;01mNone\u001b[39;00m:\n\u001b[1;32m    348\u001b[0m     \u001b[38;5;28mcls\u001b[39m \u001b[38;5;241m=\u001b[39m JSONDecoder\n",
      "File \u001b[0;32m/opt/anaconda3/envs/cs210/lib/python3.10/json/decoder.py:337\u001b[0m, in \u001b[0;36mJSONDecoder.decode\u001b[0;34m(self, s, _w)\u001b[0m\n\u001b[1;32m    332\u001b[0m \u001b[38;5;28;01mdef\u001b[39;00m \u001b[38;5;21mdecode\u001b[39m(\u001b[38;5;28mself\u001b[39m, s, _w\u001b[38;5;241m=\u001b[39mWHITESPACE\u001b[38;5;241m.\u001b[39mmatch):\n\u001b[1;32m    333\u001b[0m \u001b[38;5;250m    \u001b[39m\u001b[38;5;124;03m\"\"\"Return the Python representation of ``s`` (a ``str`` instance\u001b[39;00m\n\u001b[1;32m    334\u001b[0m \u001b[38;5;124;03m    containing a JSON document).\u001b[39;00m\n\u001b[1;32m    335\u001b[0m \n\u001b[1;32m    336\u001b[0m \u001b[38;5;124;03m    \"\"\"\u001b[39;00m\n\u001b[0;32m--> 337\u001b[0m     obj, end \u001b[38;5;241m=\u001b[39m \u001b[38;5;28;43mself\u001b[39;49m\u001b[38;5;241;43m.\u001b[39;49m\u001b[43mraw_decode\u001b[49m\u001b[43m(\u001b[49m\u001b[43ms\u001b[49m\u001b[43m,\u001b[49m\u001b[43m \u001b[49m\u001b[43midx\u001b[49m\u001b[38;5;241;43m=\u001b[39;49m\u001b[43m_w\u001b[49m\u001b[43m(\u001b[49m\u001b[43ms\u001b[49m\u001b[43m,\u001b[49m\u001b[43m \u001b[49m\u001b[38;5;241;43m0\u001b[39;49m\u001b[43m)\u001b[49m\u001b[38;5;241;43m.\u001b[39;49m\u001b[43mend\u001b[49m\u001b[43m(\u001b[49m\u001b[43m)\u001b[49m\u001b[43m)\u001b[49m\n\u001b[1;32m    338\u001b[0m     end \u001b[38;5;241m=\u001b[39m _w(s, end)\u001b[38;5;241m.\u001b[39mend()\n\u001b[1;32m    339\u001b[0m     \u001b[38;5;28;01mif\u001b[39;00m end \u001b[38;5;241m!=\u001b[39m \u001b[38;5;28mlen\u001b[39m(s):\n",
      "File \u001b[0;32m/opt/anaconda3/envs/cs210/lib/python3.10/json/decoder.py:353\u001b[0m, in \u001b[0;36mJSONDecoder.raw_decode\u001b[0;34m(self, s, idx)\u001b[0m\n\u001b[1;32m    344\u001b[0m \u001b[38;5;250m\u001b[39m\u001b[38;5;124;03m\"\"\"Decode a JSON document from ``s`` (a ``str`` beginning with\u001b[39;00m\n\u001b[1;32m    345\u001b[0m \u001b[38;5;124;03ma JSON document) and return a 2-tuple of the Python\u001b[39;00m\n\u001b[1;32m    346\u001b[0m \u001b[38;5;124;03mrepresentation and the index in ``s`` where the document ended.\u001b[39;00m\n\u001b[0;32m   (...)\u001b[0m\n\u001b[1;32m    350\u001b[0m \n\u001b[1;32m    351\u001b[0m \u001b[38;5;124;03m\"\"\"\u001b[39;00m\n\u001b[1;32m    352\u001b[0m \u001b[38;5;28;01mtry\u001b[39;00m:\n\u001b[0;32m--> 353\u001b[0m     obj, end \u001b[38;5;241m=\u001b[39m \u001b[38;5;28;43mself\u001b[39;49m\u001b[38;5;241;43m.\u001b[39;49m\u001b[43mscan_once\u001b[49m\u001b[43m(\u001b[49m\u001b[43ms\u001b[49m\u001b[43m,\u001b[49m\u001b[43m \u001b[49m\u001b[43midx\u001b[49m\u001b[43m)\u001b[49m\n\u001b[1;32m    354\u001b[0m \u001b[38;5;28;01mexcept\u001b[39;00m \u001b[38;5;167;01mStopIteration\u001b[39;00m \u001b[38;5;28;01mas\u001b[39;00m err:\n\u001b[1;32m    355\u001b[0m     \u001b[38;5;28;01mraise\u001b[39;00m JSONDecodeError(\u001b[38;5;124m\"\u001b[39m\u001b[38;5;124mExpecting value\u001b[39m\u001b[38;5;124m\"\u001b[39m, s, err\u001b[38;5;241m.\u001b[39mvalue) \u001b[38;5;28;01mfrom\u001b[39;00m \u001b[38;5;28;01mNone\u001b[39;00m\n",
      "\u001b[0;31mJSONDecodeError\u001b[0m: Expecting property name enclosed in double quotes: line 1 column 2 (char 1)"
     ]
    }
   ],
   "source": [
    "json2 = \"{'Hill Center':'Busch', 'AB':'College Ave'}\"\n",
    "dict2 = json.loads(json2)\n",
    "print(dict2)"
   ]
  },
  {
   "cell_type": "markdown",
   "id": "62cf5ffe",
   "metadata": {},
   "source": [
    "Python dictionaries can be converted to JSON. "
   ]
  },
  {
   "cell_type": "code",
   "execution_count": 18,
   "id": "284449fd",
   "metadata": {},
   "outputs": [
    {
     "name": "stdout",
     "output_type": "stream",
     "text": [
      "{\"name\": \"Jane\", \"age\": 25, \"city\": \"Chicago\"}\n"
     ]
    }
   ],
   "source": [
    "d = { 'name' : 'Jane', 'age' : 25, 'city' : 'Chicago'}\n",
    "s = json.dumps(d)\n",
    "print(s)\n"
   ]
  },
  {
   "cell_type": "markdown",
   "id": "a1f7dd7b",
   "metadata": {},
   "source": [
    "Will d2 be the same as d? "
   ]
  },
  {
   "cell_type": "code",
   "execution_count": 19,
   "id": "e8bf78f2",
   "metadata": {},
   "outputs": [],
   "source": [
    "d2 = json.loads(s)"
   ]
  },
  {
   "cell_type": "code",
   "execution_count": 20,
   "id": "de602fd6",
   "metadata": {},
   "outputs": [
    {
     "data": {
      "text/plain": [
       "{'name': 'Jane', 'age': 25, 'city': 'Chicago'}"
      ]
     },
     "execution_count": 20,
     "metadata": {},
     "output_type": "execute_result"
    }
   ],
   "source": [
    "d2"
   ]
  },
  {
   "cell_type": "markdown",
   "id": "32b4b7e0",
   "metadata": {},
   "source": [
    "Arrays in JSON. "
   ]
  },
  {
   "cell_type": "code",
   "execution_count": 21,
   "id": "e781b45f",
   "metadata": {},
   "outputs": [
    {
     "name": "stdout",
     "output_type": "stream",
     "text": [
      "86\n"
     ]
    }
   ],
   "source": [
    "s = '{\"name\": \"Alice\", \"quiz_scores\":[98,100,86,80,92]}'\n",
    "d = json.loads(s)\n",
    "print(d['quiz_scores'][2])"
   ]
  },
  {
   "cell_type": "markdown",
   "id": "a34c9c61",
   "metadata": {},
   "source": [
    "Typically, you will find JSON files with arrays of dictionaries. \n",
    "```\n",
    "[\n",
    "    {\"name\": \"Alice\", \"age\": 25, \"city\": \"Chicago\"},\n",
    "    {\"name\": \"Bob\", \"age\": 30, \"city\": \"Seattle\"}\n",
    "]\n",
    "```"
   ]
  },
  {
   "cell_type": "code",
   "execution_count": 24,
   "id": "f502bbd8",
   "metadata": {},
   "outputs": [],
   "source": [
    "json_str = '[{\"name\": \"Alice\", \"age\": 25, \"city\": \"Chicago\"},{\"name\": \"Bob\", \"age\": 30, \"city\": \"Seattle\"}]'\n",
    "array_of_dict = json.loads(json_str)"
   ]
  },
  {
   "cell_type": "markdown",
   "id": "3895aa48",
   "metadata": {},
   "source": [
    "Use `indent` parameter to \"pretty print\" JSON output. "
   ]
  },
  {
   "cell_type": "code",
   "execution_count": 25,
   "id": "43b0c9f3",
   "metadata": {},
   "outputs": [
    {
     "name": "stdout",
     "output_type": "stream",
     "text": [
      "[\n",
      "    {\n",
      "        \"name\": \"Alice\",\n",
      "        \"age\": 25,\n",
      "        \"city\": \"Chicago\"\n",
      "    },\n",
      "    {\n",
      "        \"name\": \"Bob\",\n",
      "        \"age\": 30,\n",
      "        \"city\": \"Seattle\"\n",
      "    }\n",
      "]\n"
     ]
    }
   ],
   "source": [
    "print(json.dumps(array_of_dict, indent=4))"
   ]
  },
  {
   "cell_type": "markdown",
   "id": "920c1aeb",
   "metadata": {},
   "source": [
    "JSON formatted this way is readily converted to a pandas `DataFrame`:"
   ]
  },
  {
   "cell_type": "code",
   "execution_count": 26,
   "id": "49c06ea9",
   "metadata": {},
   "outputs": [
    {
     "data": {
      "text/html": [
       "<div>\n",
       "<style scoped>\n",
       "    .dataframe tbody tr th:only-of-type {\n",
       "        vertical-align: middle;\n",
       "    }\n",
       "\n",
       "    .dataframe tbody tr th {\n",
       "        vertical-align: top;\n",
       "    }\n",
       "\n",
       "    .dataframe thead th {\n",
       "        text-align: right;\n",
       "    }\n",
       "</style>\n",
       "<table border=\"1\" class=\"dataframe\">\n",
       "  <thead>\n",
       "    <tr style=\"text-align: right;\">\n",
       "      <th></th>\n",
       "      <th>name</th>\n",
       "      <th>age</th>\n",
       "      <th>city</th>\n",
       "    </tr>\n",
       "  </thead>\n",
       "  <tbody>\n",
       "    <tr>\n",
       "      <th>0</th>\n",
       "      <td>Alice</td>\n",
       "      <td>25</td>\n",
       "      <td>Chicago</td>\n",
       "    </tr>\n",
       "    <tr>\n",
       "      <th>1</th>\n",
       "      <td>Bob</td>\n",
       "      <td>30</td>\n",
       "      <td>Seattle</td>\n",
       "    </tr>\n",
       "  </tbody>\n",
       "</table>\n",
       "</div>"
      ],
      "text/plain": [
       "    name  age     city\n",
       "0  Alice   25  Chicago\n",
       "1    Bob   30  Seattle"
      ]
     },
     "execution_count": 26,
     "metadata": {},
     "output_type": "execute_result"
    }
   ],
   "source": [
    "pd.read_json(json_str)"
   ]
  },
  {
   "cell_type": "markdown",
   "id": "085acc74",
   "metadata": {},
   "source": [
    "#### Exercise 1\n",
    "\n",
    "Write a function that will take a json string like the above as a parameter, returning\n",
    "a pandas Series with the name as the index and the age as a value. "
   ]
  },
  {
   "cell_type": "markdown",
   "id": "d5a6ec14",
   "metadata": {},
   "source": [
    "#### Generators"
   ]
  },
  {
   "cell_type": "markdown",
   "id": "b1fa69cb",
   "metadata": {},
   "source": [
    "https://wiki.python.org/moin/Generators\n",
    "\n",
    "Python provides generator functions as a convenient shortcut to building iterators. \n",
    "\n",
    "Note: a generator will provide performance benefits only if we do not intend to use that set of generated values more than once."
   ]
  },
  {
   "cell_type": "code",
   "execution_count": 33,
   "id": "da1dc1ea",
   "metadata": {},
   "outputs": [],
   "source": [
    "def get_multiples_list(k=3, n=10000000):\n",
    "    return [i for i in range(n) if i%k==0]"
   ]
  },
  {
   "cell_type": "code",
   "execution_count": 34,
   "id": "08b485d4",
   "metadata": {},
   "outputs": [],
   "source": [
    "def get_multiples_generator(k=3, n=10000000):\n",
    "    i = k\n",
    "    while i<n:\n",
    "        if i%k==0:\n",
    "            yield i\n",
    "        i += 1"
   ]
  },
  {
   "cell_type": "markdown",
   "id": "d8eda60a",
   "metadata": {},
   "source": [
    "The first function builds a large list in memory, then returns it. This can be a bottleneck for large datasets or on virtual hardware with less memory. \n",
    "\n",
    "The second function returns elements one-at-a-time. This is often useful for large datasets, so that processing can begin while data is being retrieved. It can also be useful if only a small sample is required. "
   ]
  },
  {
   "cell_type": "code",
   "execution_count": 35,
   "id": "3ca3348e",
   "metadata": {},
   "outputs": [],
   "source": [
    "def sample_multiples(sample_size=100):\n",
    "    g = get_multiples_generator()\n",
    "    return [next(g) for i in range(sample_size)]"
   ]
  },
  {
   "cell_type": "markdown",
   "id": "bf96d7c4",
   "metadata": {},
   "source": [
    "The `next` function works with iterators and generators. "
   ]
  },
  {
   "cell_type": "code",
   "execution_count": 36,
   "id": "f675417b",
   "metadata": {},
   "outputs": [],
   "source": [
    "def sample_multiples_list(sample_size=100):\n",
    "    lst = get_multiples_list()\n",
    "    return lst[:sample_size]"
   ]
  },
  {
   "cell_type": "code",
   "execution_count": null,
   "id": "33d72565",
   "metadata": {},
   "outputs": [],
   "source": []
  }
 ],
 "metadata": {
  "kernelspec": {
   "display_name": "Python 3 (ipykernel)",
   "language": "python",
   "name": "python3"
  },
  "language_info": {
   "codemirror_mode": {
    "name": "ipython",
    "version": 3
   },
   "file_extension": ".py",
   "mimetype": "text/x-python",
   "name": "python",
   "nbconvert_exporter": "python",
   "pygments_lexer": "ipython3",
   "version": "3.10.12"
  }
 },
 "nbformat": 4,
 "nbformat_minor": 5
}
