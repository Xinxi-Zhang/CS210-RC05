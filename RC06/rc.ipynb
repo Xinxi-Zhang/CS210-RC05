{
 "cells": [
  {
   "cell_type": "markdown",
   "id": "95c4ae28",
   "metadata": {},
   "source": [
    "# Pandas"
   ]
  },
  {
   "cell_type": "code",
   "execution_count": null,
   "id": "05886f71",
   "metadata": {},
   "outputs": [],
   "source": [
    "import pandas as pd\n",
    "import numpy as np"
   ]
  },
  {
   "cell_type": "code",
   "execution_count": null,
   "id": "2b92f19b",
   "metadata": {},
   "outputs": [],
   "source": [
    "df = pd.DataFrame({\n",
    "    'Name': ['Alice', 'Bob', 'Charlie', 'David'],\n",
    "    'Age': [24, 27, 22, 32],\n",
    "    'Pet': ['Cat', 'Dog', 'Fish', 'Bird']\n",
    "})"
   ]
  },
  {
   "cell_type": "code",
   "execution_count": null,
   "id": "f6a60763",
   "metadata": {},
   "outputs": [],
   "source": [
    "df"
   ]
  },
  {
   "cell_type": "markdown",
   "id": "3d614e3c",
   "metadata": {},
   "source": [
    "# Inplace vs Copy"
   ]
  },
  {
   "cell_type": "code",
   "execution_count": null,
   "id": "16c0e27f",
   "metadata": {},
   "outputs": [],
   "source": [
    "df.set_index('Name')"
   ]
  },
  {
   "cell_type": "code",
   "execution_count": null,
   "id": "09c2a22d",
   "metadata": {},
   "outputs": [],
   "source": [
    "df"
   ]
  },
  {
   "cell_type": "code",
   "execution_count": null,
   "id": "a40d23ba",
   "metadata": {},
   "outputs": [],
   "source": [
    "df.set_index('Name', inplace=True)"
   ]
  },
  {
   "cell_type": "code",
   "execution_count": null,
   "id": "4e147278",
   "metadata": {},
   "outputs": [],
   "source": [
    "df"
   ]
  },
  {
   "cell_type": "markdown",
   "id": "b44c046d",
   "metadata": {},
   "source": [
    "## iloc"
   ]
  },
  {
   "cell_type": "code",
   "execution_count": null,
   "id": "6265ccb6",
   "metadata": {},
   "outputs": [],
   "source": [
    "df"
   ]
  },
  {
   "cell_type": "code",
   "execution_count": null,
   "id": "43081e8a4a7b77fb",
   "metadata": {
    "scrolled": true
   },
   "outputs": [],
   "source": [
    "df.iloc[0]"
   ]
  },
  {
   "cell_type": "code",
   "execution_count": null,
   "id": "30521711",
   "metadata": {
    "scrolled": true
   },
   "outputs": [],
   "source": [
    "df.iloc[0,2]"
   ]
  },
  {
   "cell_type": "code",
   "execution_count": null,
   "id": "9d621ca9",
   "metadata": {
    "scrolled": true
   },
   "outputs": [],
   "source": [
    "df.iloc[0:2]"
   ]
  },
  {
   "cell_type": "markdown",
   "id": "5a876da1",
   "metadata": {},
   "source": [
    "## loc"
   ]
  },
  {
   "cell_type": "code",
   "execution_count": null,
   "id": "9e6dd231",
   "metadata": {
    "scrolled": true
   },
   "outputs": [],
   "source": [
    "# Setting 'Name' as the index\n",
    "df.set_index('Name', inplace=True)"
   ]
  },
  {
   "cell_type": "code",
   "execution_count": null,
   "id": "76f1c836",
   "metadata": {},
   "outputs": [],
   "source": [
    "df"
   ]
  },
  {
   "cell_type": "code",
   "execution_count": null,
   "id": "c7404628",
   "metadata": {},
   "outputs": [],
   "source": [
    "df.loc['Alice']"
   ]
  },
  {
   "cell_type": "markdown",
   "id": "7d94710e",
   "metadata": {},
   "source": [
    "## Advanced Indexing"
   ]
  },
  {
   "cell_type": "code",
   "execution_count": null,
   "id": "770ab93f",
   "metadata": {},
   "outputs": [],
   "source": [
    "df = pd.DataFrame({\n",
    "    'Name': ['Alice', 'Bob', 'Charlie', 'David'],\n",
    "    'Age': [24, 27, 22, 32],\n",
    "    'Pet': ['Cat', 'Dog', 'Fish', 'Bird']\n",
    "})"
   ]
  },
  {
   "cell_type": "code",
   "execution_count": null,
   "id": "961c0511",
   "metadata": {},
   "outputs": [],
   "source": [
    "df"
   ]
  },
  {
   "cell_type": "code",
   "execution_count": null,
   "id": "692d5ff1",
   "metadata": {},
   "outputs": [],
   "source": [
    "# Create a boolean array using NumPy\n",
    "boolean_array = np.array([True, False, True, False])"
   ]
  },
  {
   "cell_type": "code",
   "execution_count": null,
   "id": "5cbcbee1",
   "metadata": {},
   "outputs": [],
   "source": [
    "df.iloc[boolean_array]"
   ]
  },
  {
   "cell_type": "code",
   "execution_count": null,
   "id": "b9438935",
   "metadata": {},
   "outputs": [],
   "source": [
    "df.iloc[df['Age'] > 25]"
   ]
  },
  {
   "cell_type": "code",
   "execution_count": null,
   "id": "d0674a4d",
   "metadata": {},
   "outputs": [],
   "source": [
    "df.loc[df['Age'] > 25]"
   ]
  },
  {
   "cell_type": "code",
   "execution_count": null,
   "id": "71ecbfad",
   "metadata": {},
   "outputs": [],
   "source": [
    "df.loc[df['Pet'].isin(['Cat', 'Dog'])]"
   ]
  },
  {
   "cell_type": "markdown",
   "id": "819cab02",
   "metadata": {},
   "source": [
    "## apply"
   ]
  },
  {
   "cell_type": "code",
   "execution_count": null,
   "id": "5d786689",
   "metadata": {},
   "outputs": [],
   "source": [
    "df = pd.DataFrame({\n",
    "    'Name': ['Alice', 'Bob', 'Charlie', 'David'],\n",
    "    'Age': [24, 27, 22, 32],\n",
    "    'Pet': ['Cat', 'Dog', 'Fish', 'Bird']\n",
    "})\n",
    "df"
   ]
  },
  {
   "cell_type": "code",
   "execution_count": null,
   "id": "8077e2d0",
   "metadata": {
    "scrolled": true
   },
   "outputs": [],
   "source": [
    "df['Age_squared'] = df['Age'].apply(lambda x: x ** 2)\n",
    "df"
   ]
  },
  {
   "cell_type": "code",
   "execution_count": null,
   "id": "5748adaf",
   "metadata": {},
   "outputs": [],
   "source": [
    "def square_age(age):\n",
    "    return age ** 2"
   ]
  },
  {
   "cell_type": "code",
   "execution_count": null,
   "id": "3a0c9722",
   "metadata": {},
   "outputs": [],
   "source": [
    "df['Age_squared_2'] = df['Age'].apply(square_age)\n",
    "df"
   ]
  },
  {
   "cell_type": "markdown",
   "id": "f5002515",
   "metadata": {},
   "source": [
    "## a tricky question"
   ]
  },
  {
   "cell_type": "code",
   "execution_count": null,
   "id": "42f40b7a",
   "metadata": {
    "scrolled": true
   },
   "outputs": [],
   "source": [
    "df1 = pd.DataFrame(np.arange(9).reshape((3, 3)),\n",
    "                  columns=[\"a\", \"b\", \"c\"])\n",
    "df2 = pd.DataFrame(np.arange(12).reshape((3, 4)),\n",
    "                  columns=[\"a\", \"b\", \"c\", \"d\"])"
   ]
  },
  {
   "cell_type": "code",
   "execution_count": null,
   "id": "9084b91d",
   "metadata": {},
   "outputs": [],
   "source": [
    "df1"
   ]
  },
  {
   "cell_type": "code",
   "execution_count": null,
   "id": "f818e0fd",
   "metadata": {},
   "outputs": [],
   "source": [
    "df2"
   ]
  },
  {
   "cell_type": "code",
   "execution_count": null,
   "id": "afaf8cdf",
   "metadata": {},
   "outputs": [],
   "source": [
    "df1 + df2"
   ]
  },
  {
   "cell_type": "markdown",
   "id": "e6da7677",
   "metadata": {},
   "source": [
    "# Data Cleaning"
   ]
  },
  {
   "cell_type": "markdown",
   "id": "2e01bc27",
   "metadata": {},
   "source": [
    "## Missing Data"
   ]
  },
  {
   "cell_type": "code",
   "execution_count": null,
   "id": "0adfb346",
   "metadata": {},
   "outputs": [],
   "source": [
    "# Create a DataFrame with missing data\n",
    "data = {'Name': ['Alice', 'Bob', 'Catherine', 'David', 'Eve', 'Frank'],\n",
    "        'Age': [34, None, 28, 45, 23, 32],\n",
    "        'Gender': ['Female', 'Male', 'Female', None, 'Female', None],\n",
    "        'Income': [50000, 45000, None, 60000, 35000, 40000]}\n",
    "df = pd.DataFrame(data)\n",
    "\n",
    "# Save to CSV\n",
    "df.to_csv('missing_data.csv', index=False)"
   ]
  },
  {
   "cell_type": "code",
   "execution_count": null,
   "id": "c37540c0",
   "metadata": {},
   "outputs": [],
   "source": [
    "df = pd.read_csv('missing_data.csv')\n",
    "df"
   ]
  },
  {
   "cell_type": "code",
   "execution_count": null,
   "id": "f8892a9d",
   "metadata": {},
   "outputs": [],
   "source": [
    "df_dropna = df.dropna()\n",
    "df_dropna"
   ]
  },
  {
   "cell_type": "code",
   "execution_count": null,
   "id": "d20913e2",
   "metadata": {},
   "outputs": [],
   "source": [
    "df_fill_zero = df.fillna(0)\n",
    "df_fill_zero"
   ]
  },
  {
   "cell_type": "code",
   "execution_count": null,
   "id": "25a9fc2d",
   "metadata": {},
   "outputs": [],
   "source": [
    "df_forward_fill = df.fillna(method='ffill')\n",
    "df_forward_fill"
   ]
  },
  {
   "cell_type": "code",
   "execution_count": null,
   "id": "36ee7e2b",
   "metadata": {},
   "outputs": [],
   "source": [
    "df_fill_mean = df.fillna(df.mean(numeric_only=True))\n",
    "df_fill_mean"
   ]
  },
  {
   "cell_type": "markdown",
   "id": "a8bb579e",
   "metadata": {},
   "source": [
    "## Inconsistant Data (extra feature)"
   ]
  },
  {
   "cell_type": "code",
   "execution_count": null,
   "id": "94217a05",
   "metadata": {},
   "outputs": [],
   "source": [
    "# Adding inconsistent data to the DataFrame\n",
    "data = {'Name': ['Alice', 'Bob', 'Catherine', 'David', 'Eve', 'Frank', 'Grace'],\n",
    "        'Age': [34, None, 28, 45, 23, 32, 40],\n",
    "        'Gender': ['Female', 'Male', 'Female', None, 'Female', None, 'Male'],\n",
    "        'Income': [50000, 45000, None, 60000, 35000, 40000, 42000]}\n",
    "df = pd.DataFrame(data)\n",
    "df.loc[df['Name'] == 'Grace', 'ExtraColumn'] = 'ExtraColumnValue'\n",
    "\n",
    "# Save to CSV\n",
    "df.to_csv('inconsistent_data.csv', index=False)"
   ]
  },
  {
   "cell_type": "code",
   "execution_count": null,
   "id": "63c2a9a1",
   "metadata": {},
   "outputs": [],
   "source": [
    "df = pd.read_csv('inconsistent_data.csv')\n",
    "df"
   ]
  },
  {
   "cell_type": "code",
   "execution_count": null,
   "id": "566a808e",
   "metadata": {},
   "outputs": [],
   "source": [
    "df_drop = df.dropna(axis=0, how='all', subset=['ExtraColumn'])\n",
    "df_drop"
   ]
  },
  {
   "cell_type": "code",
   "execution_count": null,
   "id": "0f2faf9b",
   "metadata": {},
   "outputs": [],
   "source": [
    "df_standardize = df[['Name', 'Age', 'Gender', 'Income']]\n",
    "df_standardize"
   ]
  },
  {
   "cell_type": "code",
   "execution_count": null,
   "id": "1081e55a",
   "metadata": {},
   "outputs": [],
   "source": [
    "df['ExtraColumn'].fillna('DefaultValue', inplace=True)\n",
    "df"
   ]
  },
  {
   "cell_type": "markdown",
   "id": "53e36a87",
   "metadata": {},
   "source": [
    "## Inconsistant Data Type"
   ]
  },
  {
   "cell_type": "code",
   "execution_count": null,
   "id": "12138a01",
   "metadata": {},
   "outputs": [],
   "source": [
    "# Adding inconsistent data types to the DataFrame\n",
    "data = {'Name': ['Alice', 'Bob', 'Catherine', 'David', 'Eve', 'Frank', 'Grace'],\n",
    "        'Age': [34, None, 'male', 4, 23, 32, 40],\n",
    "        'Gender': ['Female', 1.1, 'Female', None, 'Female', None, 'Male'],\n",
    "        'Income': [50000, 45000, None, 60000, '35000.0', 40000, \"42000\"]}\n",
    "df = pd.DataFrame(data)\n",
    "\n",
    "# Save to CSV\n",
    "df.to_csv('inconsistent_datatypes.csv', index=False)"
   ]
  },
  {
   "cell_type": "code",
   "execution_count": null,
   "id": "82874a68",
   "metadata": {},
   "outputs": [],
   "source": [
    "df = pd.read_csv('inconsistent_datatypes.csv')\n",
    "df"
   ]
  },
  {
   "cell_type": "code",
   "execution_count": null,
   "id": "a169d009",
   "metadata": {},
   "outputs": [],
   "source": [
    "df.dtypes"
   ]
  },
  {
   "cell_type": "code",
   "execution_count": null,
   "id": "8325ad76",
   "metadata": {},
   "outputs": [],
   "source": [
    "df['Age'] = pd.to_numeric(df['Age'], errors='coerce')\n",
    "df"
   ]
  },
  {
   "cell_type": "code",
   "execution_count": null,
   "id": "2a83487e",
   "metadata": {},
   "outputs": [],
   "source": [
    "df['Age'] = pd.to_numeric(df['Age'])"
   ]
  },
  {
   "cell_type": "markdown",
   "id": "577e1fb2",
   "metadata": {},
   "source": [
    "# Generator"
   ]
  },
  {
   "cell_type": "code",
   "execution_count": null,
   "id": "993a667d",
   "metadata": {},
   "outputs": [],
   "source": [
    "def count_up_to(max):\n",
    "    count = 1\n",
    "    while count <= max:\n",
    "        yield count\n",
    "        count += 1\n",
    "\n",
    "counter = count_up_to(5)\n",
    "\n",
    "# Using next to get values lazily\n",
    "print(next(counter))  # Output: 1\n",
    "print(next(counter))  # Output: 2"
   ]
  },
  {
   "cell_type": "code",
   "execution_count": null,
   "id": "b70a6f78",
   "metadata": {},
   "outputs": [],
   "source": [
    "# Writing 1 million lines into a text file named large_file.txt\n",
    "with open('large_file.txt', 'w') as f:\n",
    "    for i in range(1, 1000001):\n",
    "        f.write(f\"This is line {i}\\n\")"
   ]
  },
  {
   "cell_type": "code",
   "execution_count": null,
   "id": "3f4fedde",
   "metadata": {},
   "outputs": [],
   "source": [
    "def read_large_file(file_path):\n",
    "    with open(file_path, 'r') as file:\n",
    "        for line in file:\n",
    "            yield line.strip()\n",
    "\n",
    "large_file_reader = read_large_file('large_file.txt')\n",
    "\n",
    "counter = 0\n",
    "for line in large_file_reader:\n",
    "    # Your processing code here\n",
    "    print(line)\n",
    "    if counter > 10:\n",
    "        break\n",
    "    counter +=1"
   ]
  }
 ],
 "metadata": {
  "kernelspec": {
   "display_name": "Python 3 (ipykernel)",
   "language": "python",
   "name": "python3"
  },
  "language_info": {
   "codemirror_mode": {
    "name": "ipython",
    "version": 3
   },
   "file_extension": ".py",
   "mimetype": "text/x-python",
   "name": "python",
   "nbconvert_exporter": "python",
   "pygments_lexer": "ipython3",
   "version": "3.9.16"
  }
 },
 "nbformat": 4,
 "nbformat_minor": 5
}
