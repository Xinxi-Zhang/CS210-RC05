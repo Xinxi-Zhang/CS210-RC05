{
 "cells": [
  {
   "cell_type": "markdown",
   "id": "2f7be4e8",
   "metadata": {},
   "source": [
    "# String"
   ]
  },
  {
   "cell_type": "markdown",
   "id": "0241f53d",
   "metadata": {},
   "source": [
    "## Integration"
   ]
  },
  {
   "cell_type": "code",
   "execution_count": 2,
   "id": "379e49fa",
   "metadata": {
    "ExecuteTime": {
     "end_time": "2023-09-22T16:04:55.112317Z",
     "start_time": "2023-09-22T16:04:55.110131Z"
    }
   },
   "outputs": [],
   "source": [
    "mon = 6\n",
    "year = 2022\n",
    "income = 9527.5"
   ]
  },
  {
   "cell_type": "markdown",
   "id": "5b9b8e4f",
   "metadata": {},
   "source": [
    "### Concat"
   ]
  },
  {
   "cell_type": "code",
   "execution_count": 3,
   "id": "955d029a",
   "metadata": {},
   "outputs": [
    {
     "data": {
      "text/plain": [
       "'Income for 2022-6: $9527.5'"
      ]
     },
     "execution_count": 3,
     "metadata": {},
     "output_type": "execute_result"
    }
   ],
   "source": [
    "info = \"Income for \" + str(year) + '-' + str(mon)+ ': $' + str(income)\n",
    "info"
   ]
  },
  {
   "cell_type": "markdown",
   "id": "6d9b7905",
   "metadata": {},
   "source": [
    "### .format"
   ]
  },
  {
   "cell_type": "code",
   "execution_count": 4,
   "id": "b9683711",
   "metadata": {},
   "outputs": [
    {
     "data": {
      "text/plain": [
       "'Income for 2022-6: $9527.5'"
      ]
     },
     "execution_count": 4,
     "metadata": {},
     "output_type": "execute_result"
    }
   ],
   "source": [
    "info = \"Income for {}-{}: ${}\".format(year, mon, income)\n",
    "info"
   ]
  },
  {
   "cell_type": "markdown",
   "id": "215f4a83",
   "metadata": {},
   "source": [
    "### f\"\""
   ]
  },
  {
   "cell_type": "code",
   "execution_count": 5,
   "id": "4fc0c871",
   "metadata": {},
   "outputs": [
    {
     "data": {
      "text/plain": [
       "'Income for 2022-6: $9527.5'"
      ]
     },
     "execution_count": 5,
     "metadata": {},
     "output_type": "execute_result"
    }
   ],
   "source": [
    "info = f\"Income for {year}-{mon}: ${income}\"\n",
    "info"
   ]
  },
  {
   "cell_type": "markdown",
   "id": "d7a3ad1a",
   "metadata": {},
   "source": [
    "## Extraction"
   ]
  },
  {
   "cell_type": "code",
   "execution_count": 8,
   "id": "d73b9e3e",
   "metadata": {},
   "outputs": [
    {
     "name": "stdout",
     "output_type": "stream",
     "text": [
      "Year: 2022\n",
      "Month: 6\n",
      "Income: $9527.5\n"
     ]
    }
   ],
   "source": [
    "# Input string\n",
    "info = \"Income for 2022-6: $9527.5\"\n",
    "\n",
    "# Split the string using ':' as a delimiter to separate the label from the value\n",
    "label, value = info.split(':')\n",
    "\n",
    "# Extract year, month, and income from the label without using map\n",
    "year_str, month_str = label.split()[-1].split('-')\n",
    "year = int(year_str)\n",
    "month = int(month_str)\n",
    "income = float(value.strip().replace('$', ''))\n",
    "\n",
    "# Printing the extracted values\n",
    "print(f\"Year: {year}\")\n",
    "print(f\"Month: {month}\")\n",
    "print(f\"Income: ${income}\")"
   ]
  },
  {
   "cell_type": "markdown",
   "id": "178d0f99",
   "metadata": {},
   "source": [
    "# Loop"
   ]
  },
  {
   "cell_type": "markdown",
   "id": "b3c2aa20",
   "metadata": {},
   "source": [
    "## For Loops"
   ]
  },
  {
   "cell_type": "markdown",
   "id": "dad40bd8",
   "metadata": {},
   "source": [
    "### to iterate a list"
   ]
  },
  {
   "cell_type": "code",
   "execution_count": 10,
   "id": "8a42c4f4",
   "metadata": {},
   "outputs": [
    {
     "name": "stdout",
     "output_type": "stream",
     "text": [
      "1\n",
      "2\n",
      "3\n",
      "4\n",
      "5\n"
     ]
    }
   ],
   "source": [
    "l = [1,2,3,4,5]\n",
    "for item in l:\n",
    "    print(item)"
   ]
  },
  {
   "cell_type": "markdown",
   "id": "d1c981bc",
   "metadata": {},
   "source": [
    "### to count (repeat something for a number of times)"
   ]
  },
  {
   "cell_type": "code",
   "execution_count": 11,
   "id": "789822ac",
   "metadata": {},
   "outputs": [
    {
     "name": "stdout",
     "output_type": "stream",
     "text": [
      "0\n",
      "1\n",
      "2\n",
      "3\n",
      "4\n"
     ]
    }
   ],
   "source": [
    "for i in range(5):\n",
    "    print(i)"
   ]
  },
  {
   "cell_type": "markdown",
   "id": "52749ea2",
   "metadata": {},
   "source": [
    "## While Loops"
   ]
  },
  {
   "cell_type": "code",
   "execution_count": 14,
   "id": "8e1d0ca1",
   "metadata": {},
   "outputs": [
    {
     "name": "stdout",
     "output_type": "stream",
     "text": [
      "1\n",
      "2\n",
      "3\n",
      "4\n",
      "5\n"
     ]
    }
   ],
   "source": [
    "x = 0\n",
    "while True:\n",
    "    x += 1\n",
    "    print(x)\n",
    "    if x > 4:\n",
    "        break"
   ]
  },
  {
   "cell_type": "markdown",
   "id": "bf67c35714a4cfb7",
   "metadata": {},
   "source": [
    "# list"
   ]
  },
  {
   "cell_type": "markdown",
   "id": "b18f01ab",
   "metadata": {},
   "source": [
    "## can take everything"
   ]
  },
  {
   "cell_type": "code",
   "execution_count": 1,
   "id": "7f082200ba225f70",
   "metadata": {
    "ExecuteTime": {
     "end_time": "2023-09-20T17:07:48.473244Z",
     "start_time": "2023-09-20T17:07:48.463001Z"
    }
   },
   "outputs": [],
   "source": [
    "def print_myname(str):\n",
    "    print(f'my name is {str}')\n",
    "\n",
    "a = int(9)\n",
    "b = 9.9\n",
    "c = 'xinxi'\n",
    "func = print_myname\n",
    "\n",
    "l = [a,b,c,func]"
   ]
  },
  {
   "cell_type": "code",
   "execution_count": 2,
   "id": "365bc37ef3656253",
   "metadata": {
    "ExecuteTime": {
     "end_time": "2023-09-20T17:07:48.475577Z",
     "start_time": "2023-09-20T17:07:48.468121Z"
    }
   },
   "outputs": [
    {
     "data": {
      "text/plain": [
       "[9, 9.9, 'xinxi', <function __main__.print_myname(str)>]"
      ]
     },
     "execution_count": 2,
     "metadata": {},
     "output_type": "execute_result"
    }
   ],
   "source": [
    "l"
   ]
  },
  {
   "cell_type": "markdown",
   "id": "517cb266",
   "metadata": {},
   "source": [
    "## for loops + list"
   ]
  },
  {
   "cell_type": "code",
   "execution_count": 17,
   "id": "5915b88031f4866b",
   "metadata": {},
   "outputs": [],
   "source": [
    "x = [5,4,3,2,1]\n",
    "y = [1,2,3,4,5,6]"
   ]
  },
  {
   "cell_type": "markdown",
   "id": "3edfa5e5",
   "metadata": {},
   "source": [
    "### index-based looping"
   ]
  },
  {
   "cell_type": "code",
   "execution_count": 18,
   "id": "f93040bf",
   "metadata": {},
   "outputs": [
    {
     "name": "stdout",
     "output_type": "stream",
     "text": [
      "5\n",
      "4\n",
      "3\n",
      "2\n",
      "1\n"
     ]
    }
   ],
   "source": [
    "for index in range(len(x)):\n",
    "    print(x[index])"
   ]
  },
  {
   "cell_type": "markdown",
   "id": "9a0a55d2",
   "metadata": {},
   "source": [
    "### item based"
   ]
  },
  {
   "cell_type": "code",
   "execution_count": 19,
   "id": "8a065c69",
   "metadata": {},
   "outputs": [
    {
     "name": "stdout",
     "output_type": "stream",
     "text": [
      "5\n",
      "4\n",
      "3\n",
      "2\n",
      "1\n"
     ]
    }
   ],
   "source": [
    "for item in x:\n",
    "    print(item)"
   ]
  },
  {
   "cell_type": "markdown",
   "id": "57a5da33",
   "metadata": {},
   "source": [
    "### enumerate\n",
    "what if I want to get the index and the corresponded item at the same time"
   ]
  },
  {
   "cell_type": "code",
   "execution_count": 20,
   "id": "6abc9a04",
   "metadata": {},
   "outputs": [
    {
     "name": "stdout",
     "output_type": "stream",
     "text": [
      "index=0, item=5\n",
      "index=1, item=4\n",
      "index=2, item=3\n",
      "index=3, item=2\n",
      "index=4, item=1\n"
     ]
    }
   ],
   "source": [
    "for index, item in enumerate(x):\n",
    "    print(f'index={index}, item={item}')"
   ]
  },
  {
   "cell_type": "markdown",
   "id": "4ba5f982",
   "metadata": {},
   "source": [
    "### zip"
   ]
  },
  {
   "cell_type": "code",
   "execution_count": 23,
   "id": "e418ff04",
   "metadata": {},
   "outputs": [
    {
     "name": "stdout",
     "output_type": "stream",
     "text": [
      "5 1\n",
      "4 2\n",
      "3 3\n",
      "2 4\n",
      "1 5\n"
     ]
    }
   ],
   "source": [
    "for item_x, item_y in zip(x,y):\n",
    "    print(item_x, item_y)"
   ]
  },
  {
   "cell_type": "markdown",
   "id": "79dbe9b3",
   "metadata": {},
   "source": [
    "# Fibonacci sequence"
   ]
  },
  {
   "cell_type": "markdown",
   "id": "d0629e19",
   "metadata": {},
   "source": [
    "## Loop"
   ]
  },
  {
   "cell_type": "code",
   "execution_count": 28,
   "id": "1fd67f10",
   "metadata": {},
   "outputs": [
    {
     "name": "stdout",
     "output_type": "stream",
     "text": [
      "The 8-th Fibonacci number (iterative) is: 21\n"
     ]
    }
   ],
   "source": [
    "def fibonacci_iterative(n):\n",
    "    if n <= 0:\n",
    "        return 0\n",
    "    elif n == 1:\n",
    "        return 1\n",
    "    else:\n",
    "        fib = [0, 1]\n",
    "        for i in range(2, n + 1):\n",
    "            next_fib = fib[i - 1] + fib[i - 2]\n",
    "            fib.append(next_fib)\n",
    "        return fib[n]\n",
    "\n",
    "# Example usage:\n",
    "n = 8\n",
    "fibonacci_value = fibonacci_iterative(n)\n",
    "print(f\"The {n}-th Fibonacci number (iterative) is: {fibonacci_value}\")\n"
   ]
  },
  {
   "cell_type": "markdown",
   "id": "33f2258c",
   "metadata": {},
   "source": [
    "## Recursion"
   ]
  },
  {
   "cell_type": "code",
   "execution_count": 29,
   "id": "a4ca11fc",
   "metadata": {},
   "outputs": [
    {
     "name": "stdout",
     "output_type": "stream",
     "text": [
      "The 8-th Fibonacci number (recursive) is: 21\n"
     ]
    }
   ],
   "source": [
    "def fibonacci_recursive(n):\n",
    "    if n <= 0:\n",
    "        return 0\n",
    "    elif n == 1:\n",
    "        return 1\n",
    "    else:\n",
    "        return fibonacci_recursive(n - 1) + fibonacci_recursive(n - 2)\n",
    "\n",
    "# Example usage:\n",
    "n = 8\n",
    "fibonacci_value = fibonacci_recursive(n)\n",
    "print(f\"The {n}-th Fibonacci number (recursive) is: {fibonacci_value}\")\n"
   ]
  },
  {
   "cell_type": "code",
   "execution_count": null,
   "id": "00fdc56d",
   "metadata": {},
   "outputs": [],
   "source": []
  }
 ],
 "metadata": {
  "kernelspec": {
   "display_name": "Python [conda env:python39] *",
   "language": "python",
   "name": "conda-env-python39-py"
  },
  "language_info": {
   "codemirror_mode": {
    "name": "ipython",
    "version": 3
   },
   "file_extension": ".py",
   "mimetype": "text/x-python",
   "name": "python",
   "nbconvert_exporter": "python",
   "pygments_lexer": "ipython3",
   "version": "3.9.16"
  }
 },
 "nbformat": 4,
 "nbformat_minor": 5
}
