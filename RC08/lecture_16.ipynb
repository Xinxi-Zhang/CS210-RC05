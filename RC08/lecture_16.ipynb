{
 "cells": [
  {
   "cell_type": "markdown",
   "metadata": {
    "slideshow": {
     "slide_type": "slide"
    }
   },
   "source": [
    "#### Verbose, multiline regexp\n",
    "Suppose we want to do some capturing in an address of the form<br>\n",
    "`<optional #><apt num><whitespace><street name>,<city>,<2 character uppercase state code><whitespace><zip>`"
   ]
  },
  {
   "cell_type": "code",
   "execution_count": 40,
   "metadata": {},
   "outputs": [],
   "source": [
    "addr = re.compile(r\"\"\"\n",
    "        \\s*             # possible leading white space\n",
    "        \\#?             # optional, use \\ before # to disambiguate from comment #\n",
    "        \\s*             # possible whitespace\n",
    "        (\\d+)           # capture apt number\n",
    "        \\s+             # at least one white space \n",
    "        (.*)?,          # capture street name, non-greedy sequence until ',', \n",
    "        \\s*             # possible whitespace\n",
    "        (.*)?,          # capture city name, non-greedy sequence until ',', \n",
    "        \\s*             # possible white space\n",
    "        ([A-Z]{2})      # capture state code\n",
    "        \\s*             # possible white space\n",
    "        (\\d{5})         # capture zip code\n",
    "        \\s*             # possible t railing whitespace\n",
    "        $               # end of string\n",
    "        \"\"\", re.VERBOSE)"
   ]
  },
  {
   "cell_type": "code",
   "execution_count": 41,
   "metadata": {
    "slideshow": {
     "slide_type": "subslide"
    }
   },
   "outputs": [
    {
     "name": "stdout",
     "output_type": "stream",
     "text": [
      "25\n",
      "Infinite Loop\n",
      "Cupertino\n",
      "CA\n",
      "12345\n"
     ]
    }
   ],
   "source": [
    "res = addr.match(' # 25 Infinite Loop,Cupertino,CA 12345')\n",
    "if res:\n",
    "    for gr in res.groups():\n",
    "        print(gr)"
   ]
  },
  {
   "cell_type": "code",
   "execution_count": 42,
   "metadata": {},
   "outputs": [
    {
     "name": "stdout",
     "output_type": "stream",
     "text": [
      "25\n",
      "Infinite Loop\n",
      "Cupertino \n",
      "CA\n",
      "12345\n"
     ]
    }
   ],
   "source": [
    "res = addr.match('#25 Infinite Loop,  Cupertino , CA 12345')\n",
    "if res:\n",
    "    for gr in res.groups():\n",
    "        print(gr)"
   ]
  },
  {
   "cell_type": "markdown",
   "metadata": {
    "slideshow": {
     "slide_type": "slide"
    }
   },
   "source": [
    "#### Naming captured fields"
   ]
  },
  {
   "cell_type": "code",
   "execution_count": 43,
   "metadata": {},
   "outputs": [],
   "source": [
    "# Can give names to the captured fields for easier access, using ?P in group\n",
    "named_addr = re.compile(r\"\"\"\n",
    "        \\s*             # possible leading white space\n",
    "        \\#?             # optional, use \\ before # to disambiguate from comment #\n",
    "        \\s*             # possible whitespace\n",
    "        (?P<apt>\\d+)    # capture apt number\n",
    "        \\s+             # at least one white space \n",
    "        (?P<street>.*)?, # capture street name, non-greedy sequence until ',', \n",
    "        \\s*             # possible whitespace\n",
    "        (?P<city>.*)?,  # capture city name, non-greedy sequence until ',', \n",
    "        \\s*             # possible white space\n",
    "        (?P<state>[A-Z]{2})      # capture state code\n",
    "        \\s*             # possible white space\n",
    "        (?P<zip>\\d{5})  # capture zip code\n",
    "        \\s*             # possible trailing whitespace\n",
    "        $               # end of string\n",
    "        \"\"\", re.VERBOSE)"
   ]
  },
  {
   "cell_type": "code",
   "execution_count": 44,
   "metadata": {},
   "outputs": [
    {
     "data": {
      "text/plain": [
       "{'apt': '10',\n",
       " 'street': 'California Avenue',\n",
       " 'city': 'Palo Alto',\n",
       " 'state': 'CA',\n",
       " 'zip': '94304'}"
      ]
     },
     "execution_count": 44,
     "metadata": {},
     "output_type": "execute_result"
    }
   ],
   "source": [
    "res = named_addr.match(' # 10 California Avenue,Palo Alto,CA 94304')\n",
    "res.groupdict()"
   ]
  },
  {
   "cell_type": "markdown",
   "metadata": {
    "slideshow": {
     "slide_type": "slide"
    }
   },
   "source": [
    "#### Suppressing captures"
   ]
  },
  {
   "cell_type": "code",
   "execution_count": 45,
   "metadata": {},
   "outputs": [],
   "source": [
    "# Can suppress capture using ?: inside group\n",
    "named_addr = re.compile(r\"\"\"\n",
    "        \\s*             # possible leading white space\n",
    "        \\#?             # optional, use \\ before # to disambiguate from comment #\n",
    "        \\s*             # possible whitespace\n",
    "        (?:\\d+)         # don't capture apt num\n",
    "        \\s+             # at least one white space \n",
    "        (?:.*)?,        # don't capture street \n",
    "        \\s*             # possible whitespace\n",
    "        (?P<city>.*)?,  # capture city name, name it as 'city'\n",
    "        \\s*             # possible white space\n",
    "        (?P<state>[A-Z]{2})      # capture state code, name it as 'state'\n",
    "        \\s*             # possible white space\n",
    "        (?:\\d{5})       # don't capture zip code\n",
    "        \\s*             # possible trailing whitespace\n",
    "        $               # end of string\n",
    "        \"\"\", re.VERBOSE)"
   ]
  },
  {
   "cell_type": "code",
   "execution_count": 46,
   "metadata": {},
   "outputs": [
    {
     "data": {
      "text/plain": [
       "{'city': 'Palo Alto', 'state': 'CA'}"
      ]
     },
     "execution_count": 46,
     "metadata": {},
     "output_type": "execute_result"
    }
   ],
   "source": [
    "res = named_addr.match(' #10 California Avenue,Palo Alto,CA 94304')\n",
    "res.groupdict()"
   ]
  },
  {
   "cell_type": "markdown",
   "metadata": {
    "slideshow": {
     "slide_type": "slide"
    }
   },
   "source": [
    "**You can, of course, get rid of the () for capture altogether**"
   ]
  },
  {
   "cell_type": "code",
   "execution_count": 47,
   "metadata": {},
   "outputs": [],
   "source": [
    "named_addr = re.compile(r\"\"\"\n",
    "        \\s*             # possible leading white space\n",
    "        \\#?             # optional, use \\ before # to disambiguate from comment #\n",
    "        \\s*             # possible whitespace\n",
    "        \\d+             # don't capture apt num\n",
    "        \\s+             # at least one white space \n",
    "        .*?,            # don't capture street \n",
    "        \\s*             # possible whitespace\n",
    "        (?P<city>.*)?,  # capture city name, name it as 'city'\n",
    "        \\s*             # possible white space\n",
    "        (?P<state>[A-Z]{2})      # capture state code, name it as 'state'\n",
    "        \\s*             # possible white space\n",
    "        \\d{5}           # don't capture zip code\n",
    "        \\s*             # possible trailing whitespace\n",
    "        $               # end of string\n",
    "        \"\"\", re.VERBOSE)"
   ]
  },
  {
   "cell_type": "code",
   "execution_count": 48,
   "metadata": {},
   "outputs": [
    {
     "data": {
      "text/plain": [
       "{'city': 'Palo Alto', 'state': 'CA'}"
      ]
     },
     "execution_count": 48,
     "metadata": {},
     "output_type": "execute_result"
    }
   ],
   "source": [
    "res = named_addr.match(' #10 California Avenue,Palo Alto,CA 94304')\n",
    "res.groupdict()"
   ]
  },
  {
   "cell_type": "markdown",
   "metadata": {},
   "source": [
    "**But the reason you may want to keep them is you can then turn captures on and \n",
    "off as needed** "
   ]
  },
  {
   "cell_type": "markdown",
   "metadata": {
    "slideshow": {
     "slide_type": "slide"
    }
   },
   "source": [
    "#### Back referencing captures using name"
   ]
  },
  {
   "cell_type": "code",
   "execution_count": 49,
   "metadata": {},
   "outputs": [
    {
     "name": "stdout",
     "output_type": "stream",
     "text": [
      "<re.Match object; span=(5, 19), match='air or hot air'>\n"
     ]
    }
   ],
   "source": [
    "# Captured string can be back referenced\n",
    "backref = re.compile(r\"\"\"\n",
    "            (?P<match1>air)     # capture the string 'air', name it as 'air'\n",
    "            .*               # greedy\n",
    "            (?P=match1)         # capture backreference to previous name 'air'\n",
    "            \"\"\", re.VERBOSE)\n",
    "res = backref.search('cool air or hot air today')\n",
    "print(res)"
   ]
  },
  {
   "cell_type": "code",
   "execution_count": 50,
   "metadata": {},
   "outputs": [
    {
     "name": "stdout",
     "output_type": "stream",
     "text": [
      "<re.Match object; span=(5, 19), match='air or hot air'>\n"
     ]
    }
   ],
   "source": [
    "res = backref.search('cool air or hot air')\n",
    "print(res)"
   ]
  },
  {
   "cell_type": "code",
   "execution_count": 51,
   "metadata": {},
   "outputs": [
    {
     "name": "stdout",
     "output_type": "stream",
     "text": [
      "None\n"
     ]
    }
   ],
   "source": [
    "res = backref.search('cool air or hot')\n",
    "print(res)"
   ]
  },
  {
   "cell_type": "markdown",
   "metadata": {
    "slideshow": {
     "slide_type": "slide"
    }
   },
   "source": [
    "#### Using findall and finditer functions to get all matches\n",
    "- findall constructs the entire list of matches before returning it\n",
    "- finditer returns one match at a time, on demand, in a Match object"
   ]
  },
  {
   "cell_type": "markdown",
   "metadata": {
    "slideshow": {
     "slide_type": "slide"
    }
   },
   "source": [
    "**findall()**"
   ]
  },
  {
   "cell_type": "code",
   "execution_count": 52,
   "metadata": {},
   "outputs": [
    {
     "name": "stdout",
     "output_type": "stream",
     "text": [
      "['These', 'are', 'the', 'days', 'of', 'miracles', 'and', 'wonders']\n"
     ]
    }
   ],
   "source": [
    "# Example 1-a\n",
    "res = re.findall(r'\\w+','These are the days of miracles and wonders!')\n",
    "print(res)"
   ]
  },
  {
   "cell_type": "code",
   "execution_count": 53,
   "metadata": {},
   "outputs": [
    {
     "name": "stdout",
     "output_type": "stream",
     "text": [
      "['These', 'are', 'the', 'days', 'of', 'miracles', 'and', 'wonders', '']\n"
     ]
    }
   ],
   "source": [
    "# Example 1-b - similar but with split() \n",
    "res = re.split(r'\\W+','These are the days of miracles and wonders!')\n",
    "print(res)"
   ]
  },
  {
   "cell_type": "code",
   "execution_count": 54,
   "metadata": {
    "slideshow": {
     "slide_type": "subslide"
    }
   },
   "outputs": [
    {
     "name": "stdout",
     "output_type": "stream",
     "text": [
      "['I', 'can', 't', 'believe', 'it']\n"
     ]
    }
   ],
   "source": [
    "# Example 2-a\n",
    "res = re.findall(r'\\w+',\"I can't believe it\")\n",
    "print(res)"
   ]
  },
  {
   "cell_type": "code",
   "execution_count": 55,
   "metadata": {},
   "outputs": [
    {
     "name": "stdout",
     "output_type": "stream",
     "text": [
      "['I', \"can't\", 'believe', 'it']\n"
     ]
    }
   ],
   "source": [
    "# Example 2-b\n",
    "res = re.findall(r'\\S+',\"I can't believe it\")\n",
    "print(res)"
   ]
  },
  {
   "cell_type": "code",
   "execution_count": 56,
   "metadata": {},
   "outputs": [
    {
     "name": "stdout",
     "output_type": "stream",
     "text": [
      "['I', \"can't\", 'believe', 'it']\n"
     ]
    }
   ],
   "source": [
    "res = re.split(r'\\s+', \"I can't believe it\")\n",
    "print(res)"
   ]
  },
  {
   "cell_type": "markdown",
   "metadata": {
    "slideshow": {
     "slide_type": "slide"
    }
   },
   "source": [
    "**finditer()**"
   ]
  },
  {
   "cell_type": "code",
   "execution_count": 57,
   "metadata": {},
   "outputs": [
    {
     "name": "stdout",
     "output_type": "stream",
     "text": [
      "<callable_iterator object at 0x7fcccb0bb010>\n",
      "These : (0, 5)\n",
      "are : (6, 9)\n",
      "the : (10, 13)\n",
      "days : (14, 18)\n",
      "of : (19, 21)\n",
      "miracles : (22, 30)\n",
      "and : (31, 34)\n",
      "wonders : (35, 42)\n"
     ]
    }
   ],
   "source": [
    "# Example 1\n",
    "iterator = re.finditer(r'\\w+','These are the days of miracles and wonders!')\n",
    "print(iterator)\n",
    "for match in iterator:\n",
    "    print(match.group(),':',match.span())"
   ]
  },
  {
   "cell_type": "code",
   "execution_count": 58,
   "metadata": {},
   "outputs": [
    {
     "name": "stdout",
     "output_type": "stream",
     "text": [
      "I : (0, 1)\n",
      "can't : (2, 7)\n",
      "believe : (8, 15)\n",
      "it : (16, 18)\n"
     ]
    }
   ],
   "source": [
    "# Example 2\n",
    "iterator = re.finditer(r'\\S+',\"I can't believe it\")\n",
    "for match in iterator:\n",
    "    print(match.group(),':',match.span())"
   ]
  },
  {
   "cell_type": "markdown",
   "metadata": {
    "slideshow": {
     "slide_type": "slide"
    }
   },
   "source": [
    "### Working with datasets with regexes"
   ]
  },
  {
   "cell_type": "markdown",
   "metadata": {},
   "source": [
    "#### UCI Auto MPG dataset\n",
    "\n",
    "In the text file auto-mpg-original.txt there are several fields in each line. \n",
    "Of these we want the mpg (first field), cylinders (second field),\n",
    "the model year (third to last), and car name (last). \n",
    "We want to read lines from this file, and write these \n",
    "fields out in the following format:\n",
    "<pre>\n",
    "\"car name\",year (19xx),cylinders (int),mpg\n",
    "</pre>\n"
   ]
  },
  {
   "cell_type": "code",
   "execution_count": 59,
   "metadata": {
    "slideshow": {
     "slide_type": "slide"
    }
   },
   "outputs": [],
   "source": [
    "test_str='18.0   8.   307.0      130.0      3504.      12.0   70.  1.\t\"chevrolet chevelle malibu\"'\n",
    "\n",
    "car_reg = re.compile(r\"\"\"\n",
    "                \\s*                    # skip over leading whitespaces, if any\n",
    "                (?P<mpg>\\d{2}\\.\\d)     # mpg field is of the form dd.d\n",
    "                \\s*                    # skip white spaces\n",
    "                (?P<cyl>\\d)\\.          # cylinders field is of the form d., only want d\n",
    "                .*                     # skip all intervening stuff\n",
    "                (?P<yy>\\d{2})\\.        # year is of form dd., only want dd\n",
    "                \\s*                    # skip whitespaces\n",
    "                \\d\\.                   # origin is of the form d.\n",
    "                .*                     # skip intervening stuff\n",
    "                (?P<name>\".*\")         # car name is in double quotes, want double quotes\n",
    "            \"\"\", re.VERBOSE)"
   ]
  },
  {
   "cell_type": "code",
   "execution_count": 60,
   "metadata": {
    "slideshow": {
     "slide_type": "subslide"
    }
   },
   "outputs": [
    {
     "data": {
      "text/plain": [
       "{'mpg': '18.0', 'cyl': '8', 'yy': '70', 'name': '\"chevrolet chevelle malibu\"'}"
      ]
     },
     "execution_count": 60,
     "metadata": {},
     "output_type": "execute_result"
    }
   ],
   "source": [
    "res = car_reg.match(test_str)\n",
    "res.groupdict()"
   ]
  },
  {
   "cell_type": "code",
   "execution_count": 61,
   "metadata": {},
   "outputs": [
    {
     "name": "stdout",
     "output_type": "stream",
     "text": [
      "\"chevrolet chevelle malibu\",1970,8,18.0\n"
     ]
    }
   ],
   "source": [
    "res = car_reg.match(test_str)\n",
    "if res:\n",
    "    car_dict = res.groupdict()\n",
    "    keys = ['name','yy','cyl','mpg']\n",
    "    values = [car_dict[k] for k in keys]\n",
    "    values[1] = '19' + values[1]\n",
    "    print(','.join(values))"
   ]
  },
  {
   "cell_type": "markdown",
   "metadata": {},
   "source": [
    "**Notice the string join method above<br>\n",
    "Iterable for join must have string values, otherwise it won't work**"
   ]
  },
  {
   "cell_type": "markdown",
   "metadata": {
    "slideshow": {
     "slide_type": "slide"
    }
   },
   "source": [
    "**Print a few lines**"
   ]
  },
  {
   "cell_type": "code",
   "execution_count": 62,
   "metadata": {},
   "outputs": [],
   "source": [
    "def my_filter(in_line):\n",
    "    res = car_reg.match(in_line)\n",
    "    if res:\n",
    "        car_dict = res.groupdict()\n",
    "        keys = ['name','yy','cyl','mpg']\n",
    "        values = [car_dict[k] for k in keys]\n",
    "        values[1] = '19' + values[1]\n",
    "        return ','.join(values) \n",
    "    return None"
   ]
  },
  {
   "cell_type": "code",
   "execution_count": 63,
   "metadata": {},
   "outputs": [
    {
     "name": "stdout",
     "output_type": "stream",
     "text": [
      "\"chevrolet chevelle malibu\",1970,8,18.0\n",
      "\"buick skylark 320\",1970,8,15.0\n",
      "\"plymouth satellite\",1970,8,18.0\n",
      "\"amc rebel sst\",1970,8,16.0\n",
      "\"ford torino\",1970,8,17.0\n",
      "\"ford galaxie 500\",1970,8,15.0\n",
      "\"chevrolet impala\",1970,8,14.0\n",
      "\"plymouth fury iii\",1970,8,14.0\n",
      "\"pontiac catalina\",1970,8,14.0\n",
      "\"amc ambassador dpl\",1970,8,15.0\n"
     ]
    }
   ],
   "source": [
    "for i,line in enumerate(open(\"auto-mpg-original.txt\")):\n",
    "    if i > 14:\n",
    "        break\n",
    "    out_line = my_filter(line)\n",
    "    if out_line:\n",
    "        print(out_line)"
   ]
  },
  {
   "cell_type": "markdown",
   "metadata": {
    "slideshow": {
     "slide_type": "subslide"
    }
   },
   "source": [
    "**The 5 lines immediately before that for \"dodge challenger se\" in the file are rejected because the first field '(NA)' doesn't meet the regular expression requirement**"
   ]
  },
  {
   "cell_type": "markdown",
   "metadata": {
    "slideshow": {
     "slide_type": "slide"
    }
   },
   "source": [
    "### Exercise 2\n",
    "\n",
    "Create a function `make_filter`, like the `my_filter` function above, but accepts an optional argument, `make`, with default value `None`. If provided, the function will only return values if the first word of the car name matches `make`. \n",
    "\n",
    "Example:\n",
    "```\n",
    "[In]: \n",
    "test_str='18.0   8.   307.0      130.0      3504.      12.0   70.  1.\t\"chevrolet chevelle malibu\"'\n",
    "\n",
    "make_filter(test_str, \"chevrolet\")\n",
    "\n",
    "[Out]: \n",
    "\"chevrolet chevelle malibu\",1970,8,18.0\n"
   ]
  },
  {
   "cell_type": "code",
   "execution_count": 64,
   "metadata": {
    "slideshow": {
     "slide_type": "subslide"
    }
   },
   "outputs": [],
   "source": [
    "def make_filter(in_line, make=None):\n",
    "    res = car_reg.match(in_line)\n",
    "    # YOUR CODE HERE\n",
    "    pass"
   ]
  },
  {
   "cell_type": "code",
   "execution_count": 66,
   "metadata": {},
   "outputs": [
    {
     "name": "stdout",
     "output_type": "stream",
     "text": [
      "\"ford torino\",1970,8,17.0\n",
      "\"ford galaxie 500\",1970,8,15.0\n",
      "\"ford maverick\",1970,6,21.0\n"
     ]
    }
   ],
   "source": [
    "make = \"ford\"\n",
    "\n",
    "for i,line in enumerate(open(\"auto-mpg-original.txt\")):\n",
    "    if i > 24:\n",
    "        break\n",
    "    out_line = make_filter(line, make)\n",
    "    if out_line:\n",
    "        print(out_line)"
   ]
  },
  {
   "cell_type": "markdown",
   "metadata": {
    "slideshow": {
     "slide_type": "skip"
    }
   },
   "source": [
    "**Solutions to Exercises**"
   ]
  },
  {
   "cell_type": "code",
   "execution_count": 36,
   "metadata": {
    "slideshow": {
     "slide_type": "skip"
    }
   },
   "outputs": [],
   "source": [
    "ex1_pattern = r'\"\\s*(\\S+)\\s*,\\s*(\\S+)\\s*\"\\s*,\\s*(\\w+)\\s*'\n",
    "ex1_sub = r'\\2,\\1,\\3@rutgers.edu'"
   ]
  },
  {
   "cell_type": "code",
   "execution_count": 65,
   "metadata": {
    "slideshow": {
     "slide_type": "fragment"
    }
   },
   "outputs": [],
   "source": [
    "def make_filter(in_line, make=None):\n",
    "    res = car_reg.match(in_line)\n",
    "    if res:\n",
    "        car_dict = res.groupdict()\n",
    "        if make is not None and car_dict['name'].split()[0].find(make)<0:\n",
    "            return None\n",
    "        keys = ['name','yy','cyl','mpg']\n",
    "        values = [car_dict[k] for k in keys]\n",
    "        values[1] = '19' + values[1]\n",
    "        return ','.join(values) \n",
    "    return None"
   ]
  },
  {
   "cell_type": "code",
   "execution_count": null,
   "metadata": {},
   "outputs": [],
   "source": []
  }
 ],
 "metadata": {
  "kernelspec": {
   "display_name": "Python 3 (ipykernel)",
   "language": "python",
   "name": "python3"
  },
  "language_info": {
   "codemirror_mode": {
    "name": "ipython",
    "version": 3
   },
   "file_extension": ".py",
   "mimetype": "text/x-python",
   "name": "python",
   "nbconvert_exporter": "python",
   "pygments_lexer": "ipython3",
   "version": "3.10.12"
  },
  "rise": {
   "controls": false,
   "enable_chalkboard": true,
   "scroll": true,
   "show_buttons_on_startup": false,
   "slideNumber": "c",
   "theme": "solarized",
   "transition": "none"
  }
 },
 "nbformat": 4,
 "nbformat_minor": 4
}
