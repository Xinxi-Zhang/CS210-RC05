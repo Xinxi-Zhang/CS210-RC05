{
 "cells": [
  {
   "cell_type": "code",
   "execution_count": 1,
   "id": "b1c3771c9faf9b60",
   "metadata": {
    "ExecuteTime": {
     "end_time": "2023-11-03T16:22:53.597320Z",
     "start_time": "2023-11-03T16:22:53.591976Z"
    }
   },
   "outputs": [],
   "source": [
    "import re"
   ]
  },
  {
   "cell_type": "markdown",
   "id": "797829ea9d6da01c",
   "metadata": {},
   "source": [
    "# Back-Referencing"
   ]
  },
  {
   "cell_type": "code",
   "execution_count": 3,
   "id": "1e39ac89dbb8ade1",
   "metadata": {
    "ExecuteTime": {
     "end_time": "2023-11-03T13:46:04.011329Z",
     "start_time": "2023-11-03T13:46:04.002364Z"
    }
   },
   "outputs": [
    {
     "name": "stdout",
     "output_type": "stream",
     "text": [
      "<re.Match object; span=(0, 11), match='123-456-456'>\n"
     ]
    }
   ],
   "source": [
    "res = re.search(r'(\\d+)-(.*)-\\2','123-456-456')\n",
    "print(res)"
   ]
  },
  {
   "cell_type": "code",
   "execution_count": 4,
   "id": "e808b909",
   "metadata": {},
   "outputs": [],
   "source": [
    "res = re.search(r'(\\d+)-(456)-(456)','123-456-456')"
   ]
  },
  {
   "cell_type": "markdown",
   "id": "9f52acaa170404d9",
   "metadata": {},
   "source": [
    "# Split"
   ]
  },
  {
   "cell_type": "code",
   "execution_count": 5,
   "id": "df04d549952028a",
   "metadata": {
    "ExecuteTime": {
     "end_time": "2023-11-03T13:53:04.527533Z",
     "start_time": "2023-11-03T13:53:04.519711Z"
    }
   },
   "outputs": [
    {
     "name": "stdout",
     "output_type": "stream",
     "text": [
      "['The', 'quick', 'brown', 'fox', 'jumps', 'over', 'the', 'lazy', 'dog.']\n"
     ]
    }
   ],
   "source": [
    "text = \"The quick brown fox jumps over the lazy dog.\"\n",
    "words = re.split(r'\\s+', text)  # Splits the text at one or more spaces\n",
    "print(words)"
   ]
  },
  {
   "cell_type": "code",
   "execution_count": 6,
   "id": "20fe6986fcecbb5f",
   "metadata": {
    "ExecuteTime": {
     "end_time": "2023-11-03T13:53:12.779588Z",
     "start_time": "2023-11-03T13:53:12.773823Z"
    }
   },
   "outputs": [
    {
     "name": "stdout",
     "output_type": "stream",
     "text": [
      "['2023', '04-30']\n"
     ]
    }
   ],
   "source": [
    "date = \"2023-04-30\"\n",
    "split_date = re.split(r'-', date, maxsplit=1)\n",
    "print(split_date)"
   ]
  },
  {
   "cell_type": "code",
   "execution_count": 7,
   "id": "a3c8185db40ecb7",
   "metadata": {
    "ExecuteTime": {
     "end_time": "2023-11-03T13:53:25.028302Z",
     "start_time": "2023-11-03T13:53:25.021096Z"
    }
   },
   "outputs": [
    {
     "name": "stdout",
     "output_type": "stream",
     "text": [
      "['Words', 'words', 'words.']\n"
     ]
    }
   ],
   "source": [
    "text = \"Words, words, words.\"\n",
    "split_words = re.split(r'[,\\s]\\s*', text)\n",
    "print(split_words)"
   ]
  },
  {
   "cell_type": "code",
   "execution_count": 8,
   "id": "c0710a7527b15008",
   "metadata": {
    "ExecuteTime": {
     "end_time": "2023-11-03T13:55:00.855358Z",
     "start_time": "2023-11-03T13:55:00.850891Z"
    }
   },
   "outputs": [
    {
     "name": "stdout",
     "output_type": "stream",
     "text": [
      "['The quick brown fox jumps over the lazy dog.']\n"
     ]
    }
   ],
   "source": [
    "text = \"The quick brown fox jumps over the lazy dog.\"\n",
    "text_ = text.split(r'\\s+')\n",
    "print(text_)"
   ]
  },
  {
   "cell_type": "code",
   "execution_count": null,
   "id": "f2ba1c1a7f4249f8",
   "metadata": {
    "ExecuteTime": {
     "end_time": "2023-11-03T14:38:21.089873Z",
     "start_time": "2023-11-03T14:38:21.084701Z"
    }
   },
   "outputs": [],
   "source": [
    "text = \"lazy. dog.\"\n",
    "text_ = text.split('.')\n",
    "print(text_)"
   ]
  },
  {
   "cell_type": "code",
   "execution_count": null,
   "id": "96511b4bf6e0699b",
   "metadata": {
    "ExecuteTime": {
     "end_time": "2023-11-03T14:39:04.156806Z",
     "start_time": "2023-11-03T14:39:04.148536Z"
    }
   },
   "outputs": [],
   "source": [
    "text = \"lazy. dog.\"\n",
    "split_words = re.split(r'\\.', text)\n",
    "print(split_words)"
   ]
  },
  {
   "cell_type": "markdown",
   "id": "8b27c24ccf2ff896",
   "metadata": {},
   "source": [
    "# Verbose"
   ]
  },
  {
   "cell_type": "code",
   "execution_count": 9,
   "id": "946095530ec78af2",
   "metadata": {
    "ExecuteTime": {
     "end_time": "2023-11-03T14:48:38.847810Z",
     "start_time": "2023-11-03T14:48:38.844080Z"
    }
   },
   "outputs": [],
   "source": [
    "addr = re.compile(r\"\"\"\n",
    "        \\s*             # possible leading white space\n",
    "        \\#?             # optional, use \\ before # to disambiguate from comment #\n",
    "        \\s*             # possible whitespace\n",
    "        (\\d+)           # capture apt number\n",
    "        \\s+             # at least one white space \n",
    "        (.*)?,          # capture street name, non-greedy sequence until ',', \n",
    "        \\s*             # possible whitespace\n",
    "        (.*)?,          # capture city name, non-greedy sequence until ',', \n",
    "        \\s*             # possible white space\n",
    "        ([A-Z]{2})      # capture state code\n",
    "        \\s*             # possible white space\n",
    "        (\\d{5})         # capture zip code\n",
    "        \\s*             # possible t railing whitespace\n",
    "        $               # end of string\n",
    "        \"\"\", re.VERBOSE)"
   ]
  },
  {
   "cell_type": "code",
   "execution_count": 11,
   "id": "773d97b43f606b66",
   "metadata": {
    "ExecuteTime": {
     "end_time": "2023-11-03T14:50:16.598020Z",
     "start_time": "2023-11-03T14:50:16.590351Z"
    }
   },
   "outputs": [],
   "source": [
    "addr = re.compile(r\" \\s*\\#?\\s*(\\d+)\\s+(.*)?,\\s*(.*)?,\\s*([A-Z]{2})\\s*(\\d{5})\\s*$\",)"
   ]
  },
  {
   "cell_type": "code",
   "execution_count": 12,
   "id": "e62a2363613c08dd",
   "metadata": {
    "ExecuteTime": {
     "end_time": "2023-11-03T14:50:17.628663Z",
     "start_time": "2023-11-03T14:50:17.621890Z"
    }
   },
   "outputs": [
    {
     "name": "stdout",
     "output_type": "stream",
     "text": [
      "25\n",
      "Infinite Loop\n",
      "Cupertino\n",
      "CA\n",
      "12345\n"
     ]
    }
   ],
   "source": [
    "res = addr.match(' # 25 Infinite Loop,Cupertino,CA 12345')\n",
    "if res:\n",
    "    for gr in res.groups():\n",
    "        print(gr)"
   ]
  },
  {
   "cell_type": "markdown",
   "id": "4c7ef362c232b03d",
   "metadata": {},
   "source": [
    "# Group with name"
   ]
  },
  {
   "cell_type": "code",
   "execution_count": 13,
   "id": "6c4b051f7d842ece",
   "metadata": {
    "ExecuteTime": {
     "end_time": "2023-11-03T15:04:45.882937Z",
     "start_time": "2023-11-03T15:04:45.879596Z"
    }
   },
   "outputs": [],
   "source": [
    "# Can give names to the captured fields for easier access, using ?P in group\n",
    "named_addr = re.compile(r\"\"\"\n",
    "        \\s*             # possible leading white space\n",
    "        \\#?             # optional, use \\ before # to disambiguate from comment #\n",
    "        \\s*             # possible whitespace\n",
    "        (?P<apt>\\d+)    # capture apt number\n",
    "        \\s+             # at least one white space \n",
    "        (?P<street>.*)?, # capture street name, non-greedy sequence until ',', \n",
    "        \\s*             # possible whitespace\n",
    "        (?P<city>.*)?,  # capture city name, non-greedy sequence until ',', \n",
    "        \\s*             # possible white space\n",
    "        (?P<state>[A-Z]{2})      # capture state code\n",
    "        \\s*             # possible white space\n",
    "        (?P<zip>\\d{5})  # capture zip code\n",
    "        \\s*             # possible trailing whitespace\n",
    "        $               # end of string\n",
    "        \"\"\", re.VERBOSE)"
   ]
  },
  {
   "cell_type": "code",
   "execution_count": 14,
   "id": "abe04ce496938485",
   "metadata": {
    "ExecuteTime": {
     "end_time": "2023-11-03T15:04:57.059163Z",
     "start_time": "2023-11-03T15:04:57.050368Z"
    }
   },
   "outputs": [
    {
     "data": {
      "text/plain": [
       "{'apt': '10',\n",
       " 'street': 'California Avenue',\n",
       " 'city': 'Palo Alto',\n",
       " 'state': 'CA',\n",
       " 'zip': '94304'}"
      ]
     },
     "execution_count": 14,
     "metadata": {},
     "output_type": "execute_result"
    }
   ],
   "source": [
    "res = named_addr.match(' # 10 California Avenue,Palo Alto,CA 94304')\n",
    "res.groupdict()"
   ]
  },
  {
   "cell_type": "markdown",
   "id": "373475cbf1137aeb",
   "metadata": {},
   "source": [
    "# Exercise"
   ]
  },
  {
   "cell_type": "markdown",
   "id": "7a6a164b25205315",
   "metadata": {},
   "source": [
    "## 1"
   ]
  },
  {
   "cell_type": "code",
   "execution_count": 30,
   "id": "2434c1b8c3408360",
   "metadata": {
    "ExecuteTime": {
     "end_time": "2023-11-03T13:32:42.113970Z",
     "start_time": "2023-11-03T13:32:42.109394Z"
    }
   },
   "outputs": [],
   "source": [
    "text = 'Daata'"
   ]
  },
  {
   "cell_type": "code",
   "execution_count": 31,
   "id": "initial_id",
   "metadata": {
    "ExecuteTime": {
     "end_time": "2023-11-03T13:32:42.327887Z",
     "start_time": "2023-11-03T13:32:42.326345Z"
    }
   },
   "outputs": [],
   "source": [
    "m = re.search(r'^(\\w+)[\\w\\s]+\\1', text)"
   ]
  },
  {
   "cell_type": "code",
   "execution_count": 32,
   "id": "4386811d4c275618",
   "metadata": {
    "ExecuteTime": {
     "end_time": "2023-11-03T13:32:42.509937Z",
     "start_time": "2023-11-03T13:32:42.508379Z"
    }
   },
   "outputs": [],
   "source": [
    "m"
   ]
  },
  {
   "cell_type": "code",
   "execution_count": 33,
   "id": "8829b3863335b09",
   "metadata": {
    "ExecuteTime": {
     "end_time": "2023-11-03T15:07:09.805981Z",
     "start_time": "2023-11-03T15:07:09.803399Z"
    }
   },
   "outputs": [
    {
     "name": "stdout",
     "output_type": "stream",
     "text": [
      "<re.Match object; span=(5, 19), match='air or hot air'>\n"
     ]
    }
   ],
   "source": [
    "# Captured string can be back referenced\n",
    "backref = re.compile(r\"\"\"\n",
    "            (?P<match1>air)     # capture the string 'air', name it as 'air'\n",
    "            .*               # greedy\n",
    "            (?P=match1)         # capture backreference to previous name 'air'\n",
    "            \"\"\", re.VERBOSE)\n",
    "res = backref.search('cool air or hot air today')\n",
    "print(res)"
   ]
  },
  {
   "cell_type": "code",
   "execution_count": 28,
   "id": "2707427a",
   "metadata": {},
   "outputs": [],
   "source": [
    "text = 'shds23d'\n",
    "m = re.search(r'^[\\w+\\d+]', text)"
   ]
  },
  {
   "cell_type": "code",
   "execution_count": 29,
   "id": "aca3c392",
   "metadata": {},
   "outputs": [
    {
     "data": {
      "text/plain": [
       "<re.Match object; span=(0, 1), match='s'>"
      ]
     },
     "execution_count": 29,
     "metadata": {},
     "output_type": "execute_result"
    }
   ],
   "source": [
    "m"
   ]
  },
  {
   "cell_type": "markdown",
   "id": "6c9c4180c9105cc",
   "metadata": {},
   "source": [
    "## 2"
   ]
  },
  {
   "cell_type": "code",
   "execution_count": null,
   "id": "f4e9ba92303fadde",
   "metadata": {
    "ExecuteTime": {
     "end_time": "2023-11-03T13:34:23.105607Z",
     "start_time": "2023-11-03T13:34:23.100017Z"
    }
   },
   "outputs": [],
   "source": [
    "text = 'bake sale on the 3rd'\n",
    "text = 'bake sale on the 3'"
   ]
  },
  {
   "cell_type": "code",
   "execution_count": null,
   "id": "2e9d2f9ecd0095ca",
   "metadata": {
    "ExecuteTime": {
     "end_time": "2023-11-03T13:34:26.357718Z",
     "start_time": "2023-11-03T13:34:26.352066Z"
    }
   },
   "outputs": [],
   "source": [
    "m = re.search(r'^[\\w+\\s]+\\d+$', text)"
   ]
  },
  {
   "cell_type": "code",
   "execution_count": null,
   "id": "8c6ec6255bee4d8f",
   "metadata": {
    "ExecuteTime": {
     "end_time": "2023-11-03T13:34:26.614735Z",
     "start_time": "2023-11-03T13:34:26.609695Z"
    }
   },
   "outputs": [],
   "source": [
    "m"
   ]
  },
  {
   "cell_type": "markdown",
   "id": "9f762e56bf1c9a44",
   "metadata": {},
   "source": [
    "## 3"
   ]
  },
  {
   "cell_type": "code",
   "execution_count": null,
   "id": "5889dcd62f77030a",
   "metadata": {
    "ExecuteTime": {
     "end_time": "2023-11-03T13:37:08.780004Z",
     "start_time": "2023-11-03T13:37:08.770970Z"
    }
   },
   "outputs": [],
   "source": [
    "res = re.search(r'^\\s*\\((\\d{3})\\)(\\d{3})-(\\d{4})', '(848)555-4321')"
   ]
  },
  {
   "cell_type": "code",
   "execution_count": null,
   "id": "c0ffd632733d6e5b",
   "metadata": {
    "ExecuteTime": {
     "end_time": "2023-11-03T13:37:10.362879Z",
     "start_time": "2023-11-03T13:37:10.354716Z"
    }
   },
   "outputs": [],
   "source": [
    "res"
   ]
  },
  {
   "cell_type": "code",
   "execution_count": null,
   "id": "875c7c9908c71148",
   "metadata": {
    "ExecuteTime": {
     "end_time": "2023-11-03T13:37:18.435261Z",
     "start_time": "2023-11-03T13:37:18.425395Z"
    }
   },
   "outputs": [],
   "source": [
    "print(res.group())  # for the whole thing\n",
    "print(res.groups()) # for all parts grouped with ( )\n",
    "print(res.group(0)) # entire thing\n",
    "print(res.group(1)) # first grouping with ( )\n",
    "print(res.group(2)) # second grouping with ( )\n",
    "print(res.group(3))"
   ]
  },
  {
   "cell_type": "code",
   "execution_count": null,
   "id": "3fa5013e82599661",
   "metadata": {
    "ExecuteTime": {
     "end_time": "2023-11-03T13:41:48.516687Z",
     "start_time": "2023-11-03T13:41:48.507348Z"
    }
   },
   "outputs": [],
   "source": [
    "# alternatively, you can index into the groups() tuple\n",
    "print(res.groups()[0])\n",
    "print(res.groups()[1])"
   ]
  },
  {
   "cell_type": "markdown",
   "id": "14281cd44b4e9521",
   "metadata": {},
   "source": [
    "## 4"
   ]
  },
  {
   "cell_type": "markdown",
   "id": "32ae84dbfa947ee9",
   "metadata": {},
   "source": [
    "- At least one lowercase and one uppercase letter.\n",
    "- At least one special symbol.\n",
    "- The uppercase letter cannot be the first character.\n",
    "- At least 9 characters in length."
   ]
  },
  {
   "cell_type": "code",
   "execution_count": null,
   "id": "82b0493a",
   "metadata": {},
   "outputs": [],
   "source": [
    "'aasS!w2orda'"
   ]
  },
  {
   "cell_type": "code",
   "execution_count": null,
   "id": "2932886c",
   "metadata": {},
   "outputs": [],
   "source": [
    "'AasS!w2orda'"
   ]
  },
  {
   "cell_type": "code",
   "execution_count": null,
   "id": "f901bc7d",
   "metadata": {},
   "outputs": [],
   "source": [
    "'aasSsw2orda'"
   ]
  },
  {
   "cell_type": "code",
   "execution_count": null,
   "id": "553141e7",
   "metadata": {},
   "outputs": [],
   "source": [
    "'aaspsw2ord@'"
   ]
  },
  {
   "cell_type": "code",
   "execution_count": null,
   "id": "e785e485",
   "metadata": {},
   "outputs": [],
   "source": []
  },
  {
   "cell_type": "code",
   "execution_count": null,
   "id": "6a9742c1",
   "metadata": {},
   "outputs": [],
   "source": []
  },
  {
   "cell_type": "code",
   "execution_count": null,
   "id": "d87e4143",
   "metadata": {},
   "outputs": [],
   "source": []
  },
  {
   "cell_type": "code",
   "execution_count": null,
   "id": "f9d244fa",
   "metadata": {},
   "outputs": [],
   "source": []
  },
  {
   "cell_type": "code",
   "execution_count": null,
   "id": "c7586b3e",
   "metadata": {},
   "outputs": [],
   "source": []
  },
  {
   "cell_type": "code",
   "execution_count": null,
   "id": "5cfd5422",
   "metadata": {},
   "outputs": [],
   "source": []
  },
  {
   "cell_type": "code",
   "execution_count": null,
   "id": "dcaa5ed5",
   "metadata": {},
   "outputs": [],
   "source": []
  },
  {
   "cell_type": "code",
   "execution_count": null,
   "id": "09490405",
   "metadata": {},
   "outputs": [],
   "source": []
  },
  {
   "cell_type": "code",
   "execution_count": null,
   "id": "58695b61",
   "metadata": {},
   "outputs": [],
   "source": []
  },
  {
   "cell_type": "code",
   "execution_count": 39,
   "id": "27d25f831a9f0b29",
   "metadata": {
    "ExecuteTime": {
     "end_time": "2023-11-03T15:43:09.337823Z",
     "start_time": "2023-11-03T15:43:09.332130Z"
    }
   },
   "outputs": [
    {
     "name": "stdout",
     "output_type": "stream",
     "text": [
      "'aasS!w2orda': Valid password\n"
     ]
    }
   ],
   "source": [
    "import re\n",
    "\n",
    "# Define the regex pattern\n",
    "password_pattern = r\"\"\"\n",
    "^(?=.*[a-z])                # at least one lowercase letter\n",
    "(?=.*[A-Z])(?!^[A-Z])       # at least one uppercase letter, but not at the start\n",
    "(?=.*[!@#$%^&*()\\-_+=])     # at least one special symbol\n",
    ".{9,}$                      # at least 9 total characters\n",
    "\"\"\"\n",
    "\n",
    "# Example password to test\n",
    "password = \"aasS!w2orda\"\n",
    "\n",
    "# Check the password\n",
    "if re.match(password_pattern, password, re.VERBOSE):\n",
    "    print(f\"'{password}': Valid password\")\n",
    "else:\n",
    "    print(f\"'{password}': Invalid password\")\n"
   ]
  },
  {
   "cell_type": "code",
   "execution_count": null,
   "id": "a5108dc2d441be2f",
   "metadata": {},
   "outputs": [],
   "source": []
  }
 ],
 "metadata": {
  "kernelspec": {
   "display_name": "Python 3 (ipykernel)",
   "language": "python",
   "name": "python3"
  },
  "language_info": {
   "codemirror_mode": {
    "name": "ipython",
    "version": 3
   },
   "file_extension": ".py",
   "mimetype": "text/x-python",
   "name": "python",
   "nbconvert_exporter": "python",
   "pygments_lexer": "ipython3",
   "version": "3.9.16"
  }
 },
 "nbformat": 4,
 "nbformat_minor": 5
}
