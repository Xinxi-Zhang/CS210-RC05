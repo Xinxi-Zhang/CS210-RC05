{
 "cells": [
  {
   "cell_type": "markdown",
   "metadata": {
    "slideshow": {
     "slide_type": "slide"
    }
   },
   "source": [
    "## CS 210 Fall 2023\n",
    "#### Lecture 15"
   ]
  },
  {
   "cell_type": "code",
   "execution_count": 1,
   "metadata": {
    "slideshow": {
     "slide_type": "skip"
    }
   },
   "outputs": [],
   "source": [
    "import re\n",
    "\n",
    "# if you restart the kernel,\n",
    "# don't forget to re-import"
   ]
  },
  {
   "cell_type": "markdown",
   "metadata": {
    "slideshow": {
     "slide_type": "-"
    }
   },
   "source": [
    "### <font color=\"purple\">Reg</font><font color=\"green\">ul</font><font color=\"red\">ar</font> <font color=\"purple\">Ex</font><font color=\"blue\">press</font><font color=\"orange\">ions</font>\n",
    "\n",
    "- literal characters match literal characters\n",
    "- . matches any character (except newlines)\n",
    "- R* matches 0 or more copies of R\n",
    "- R+ matches 1 or more copies of R\n",
    "- R? matches 0 or 1 copy of R\n",
    "- [] is used to match a class of characters (e.g., [a-zA-Z0-9])\n",
    "- ^ matches start of target string\n",
    "  (outside of a [ ] class)\n",
    "- $ matches end of target string\n",
    "- | is used for alternative match, usually with ( )\n",
    "- { } used for specific number of instances\n",
    "- ^ negates when used as *first* character inside a class [ ]"
   ]
  },
  {
   "cell_type": "markdown",
   "metadata": {
    "slideshow": {
     "slide_type": "slide"
    }
   },
   "source": [
    "### Exercise\n",
    "\n",
    "Match or No Match? "
   ]
  },
  {
   "cell_type": "code",
   "execution_count": 2,
   "metadata": {},
   "outputs": [],
   "source": [
    "m = re.search('^[a][a-z]{3,}$', 'artificial')"
   ]
  },
  {
   "cell_type": "code",
   "execution_count": 3,
   "metadata": {
    "slideshow": {
     "slide_type": "fragment"
    }
   },
   "outputs": [
    {
     "name": "stdout",
     "output_type": "stream",
     "text": [
      "<re.Match object; span=(0, 10), match='artificial'>\n"
     ]
    }
   ],
   "source": [
    "print(m)"
   ]
  },
  {
   "cell_type": "markdown",
   "metadata": {
    "slideshow": {
     "slide_type": "slide"
    }
   },
   "source": [
    "### Exercise\n",
    "\n",
    "Match or No Match? "
   ]
  },
  {
   "cell_type": "code",
   "execution_count": 4,
   "metadata": {},
   "outputs": [],
   "source": [
    "m = re.search('^[^a][a-z]+', 'artificial')"
   ]
  },
  {
   "cell_type": "code",
   "execution_count": 5,
   "metadata": {
    "slideshow": {
     "slide_type": "fragment"
    }
   },
   "outputs": [
    {
     "name": "stdout",
     "output_type": "stream",
     "text": [
      "None\n"
     ]
    }
   ],
   "source": [
    "print(m)"
   ]
  },
  {
   "cell_type": "markdown",
   "metadata": {
    "slideshow": {
     "slide_type": "slide"
    }
   },
   "source": [
    "### Exercise\n",
    "\n",
    "Match or No Match? "
   ]
  },
  {
   "cell_type": "code",
   "execution_count": 6,
   "metadata": {},
   "outputs": [],
   "source": [
    "m = re.search('^a[a-z]+tion$', 'attention')"
   ]
  },
  {
   "cell_type": "code",
   "execution_count": 7,
   "metadata": {
    "slideshow": {
     "slide_type": "fragment"
    }
   },
   "outputs": [
    {
     "name": "stdout",
     "output_type": "stream",
     "text": [
      "<re.Match object; span=(0, 9), match='attention'>\n"
     ]
    }
   ],
   "source": [
    "print(m)"
   ]
  },
  {
   "cell_type": "markdown",
   "metadata": {
    "slideshow": {
     "slide_type": "slide"
    }
   },
   "source": [
    "### Exercise\n",
    "\n",
    "Match or No Match? "
   ]
  },
  {
   "cell_type": "code",
   "execution_count": 8,
   "metadata": {},
   "outputs": [],
   "source": [
    "m = re.search('a[a-z]+tion$', 'distraction')"
   ]
  },
  {
   "cell_type": "code",
   "execution_count": 9,
   "metadata": {
    "slideshow": {
     "slide_type": "fragment"
    }
   },
   "outputs": [
    {
     "name": "stdout",
     "output_type": "stream",
     "text": [
      "<re.Match object; span=(5, 11), match='action'>\n"
     ]
    }
   ],
   "source": [
    "print(m)"
   ]
  },
  {
   "cell_type": "code",
   "execution_count": 10,
   "metadata": {
    "slideshow": {
     "slide_type": "skip"
    }
   },
   "outputs": [],
   "source": [
    "def search_strings(pattern, test_strings): \n",
    "    for s in test_strings: \n",
    "        res = re.search(pattern, s)\n",
    "        if res is None:\n",
    "            print(f\"'{s}' does not match\")\n",
    "        else:\n",
    "            span = res.span()\n",
    "            print(f\"'{s}' matches '{s[span[0]:span[1]]}'\")"
   ]
  },
  {
   "cell_type": "markdown",
   "metadata": {
    "slideshow": {
     "slide_type": "slide"
    }
   },
   "source": [
    "**Example**\n",
    "Want to match the sequence 'a\\y' or 'ay', i.e. one or zero occurence of '\\\\' between 'a' and 'y'"
   ]
  },
  {
   "cell_type": "code",
   "execution_count": 11,
   "metadata": {},
   "outputs": [
    {
     "name": "stdout",
     "output_type": "stream",
     "text": [
      "'ay' does not match\n",
      "'a\\y' does not match\n",
      "'ay' does not match\n",
      "'a\\y' does not match\n",
      "'ay' matches 'ay'\n",
      "'a\\y' matches 'a\\y'\n"
     ]
    }
   ],
   "source": [
    "test_strings = ['ay', 'a\\y']\n",
    "search_strings('a\\?y', test_strings)\n",
    "search_strings('a\\\\?y', test_strings)\n",
    "search_strings('a\\\\\\\\?y', test_strings)"
   ]
  },
  {
   "cell_type": "markdown",
   "metadata": {
    "slideshow": {
     "slide_type": "slide"
    }
   },
   "source": [
    "**Example**\n",
    "Want to match the sequence 'a\\t' or 'at', i.e. one or zero occurence of '\\\\' between 'a' and 't'"
   ]
  },
  {
   "cell_type": "code",
   "execution_count": 12,
   "metadata": {},
   "outputs": [
    {
     "name": "stdout",
     "output_type": "stream",
     "text": [
      "'at' does not match\n",
      "'a\t' matches 'a\t'\n",
      "'a\\t' does not match\n",
      "'at' does not match\n",
      "'a\t' matches 'a\t'\n",
      "'a\\t' does not match\n",
      "'at' does not match\n",
      "'a\t' does not match\n",
      "'a\\t' does not match\n",
      "'at' does not match\n",
      "'a\t' does not match\n",
      "'a\\t' does not match\n",
      "'at' matches 'at'\n",
      "'a\t' does not match\n",
      "'a\\t' matches 'a\\t'\n",
      "'at' does not match\n",
      "'a\t' does not match\n",
      "'a\\t' does not match\n"
     ]
    }
   ],
   "source": [
    "test_strings = ['at', 'a\\t', 'a\\\\t']\n",
    "search_strings('a\\t', test_strings)\n",
    "search_strings('a\\\\t', test_strings)\n",
    "search_strings('a\\?t', test_strings)\n",
    "search_strings('a\\\\?t', test_strings)\n",
    "search_strings('a\\\\\\\\?t', test_strings)\n",
    "search_strings(r'a\\?t', test_strings)"
   ]
  },
  {
   "cell_type": "markdown",
   "metadata": {
    "slideshow": {
     "slide_type": "slide"
    }
   },
   "source": [
    "\n",
    "**Workaround: tag the pattern as a RAW string, with an 'r' in front**\n",
    "\n",
    "**Python leaves it alone and sends it as-is to the search function**"
   ]
  },
  {
   "cell_type": "code",
   "execution_count": 13,
   "metadata": {},
   "outputs": [
    {
     "name": "stdout",
     "output_type": "stream",
     "text": [
      "<re.Match object; span=(0, 3), match='a\\\\y'>\n"
     ]
    }
   ],
   "source": [
    "# Use r in front of target string as well\n",
    "print(re.search(r'a\\\\?y','a\\y'))"
   ]
  },
  {
   "cell_type": "code",
   "execution_count": 14,
   "metadata": {},
   "outputs": [
    {
     "name": "stdout",
     "output_type": "stream",
     "text": [
      "<re.Match object; span=(0, 3), match='a?y'>\n",
      "None\n"
     ]
    }
   ],
   "source": [
    "# with r in front of regexp string, single '\\' still retains its special meaning\n",
    "print(re.search(r'a\\?y','a?y'))\n",
    "print(re.search(r'a\\?y','a\\y'))"
   ]
  },
  {
   "cell_type": "markdown",
   "metadata": {},
   "source": [
    "#### Always use r'...' for the regular expression if it has an escape '\\\\' character"
   ]
  },
  {
   "cell_type": "markdown",
   "metadata": {
    "slideshow": {
     "slide_type": "slide"
    }
   },
   "source": [
    "**One final obstacle: Python special characters**\n",
    "\n",
    "**written with a '\\\\' in front of them. E.g., '\\\\n', '\\\\t', etc.**\n",
    "\n",
    "See https://chercher.tech/python-programming/python-special-characters"
   ]
  },
  {
   "cell_type": "code",
   "execution_count": 15,
   "metadata": {},
   "outputs": [
    {
     "name": "stdout",
     "output_type": "stream",
     "text": [
      "<re.Match object; span=(0, 3), match='a\\\\y'>\n"
     ]
    }
   ],
   "source": [
    "print(re.search(r'a\\\\?y','a\\y'))"
   ]
  },
  {
   "cell_type": "code",
   "execution_count": 16,
   "metadata": {},
   "outputs": [
    {
     "name": "stdout",
     "output_type": "stream",
     "text": [
      "None\n"
     ]
    }
   ],
   "source": [
    "print(re.search(r'a\\\\?t','a\\t'))"
   ]
  },
  {
   "cell_type": "markdown",
   "metadata": {},
   "source": [
    "Why doesn't this code work?"
   ]
  },
  {
   "cell_type": "markdown",
   "metadata": {
    "slideshow": {
     "slide_type": "slide"
    }
   },
   "source": [
    "**We will need to escape the '\\\\' in the target string as well**"
   ]
  },
  {
   "cell_type": "code",
   "execution_count": 17,
   "metadata": {
    "slideshow": {
     "slide_type": "-"
    }
   },
   "outputs": [
    {
     "name": "stdout",
     "output_type": "stream",
     "text": [
      "<re.Match object; span=(0, 3), match='a\\\\t'>\n"
     ]
    }
   ],
   "source": [
    "print(re.search(r'a\\\\?t','a\\\\t'))"
   ]
  },
  {
   "cell_type": "markdown",
   "metadata": {
    "slideshow": {
     "slide_type": "slide"
    }
   },
   "source": [
    "**Easy workaround is to write the target as r'...' as well**"
   ]
  },
  {
   "cell_type": "code",
   "execution_count": 18,
   "metadata": {},
   "outputs": [
    {
     "name": "stdout",
     "output_type": "stream",
     "text": [
      "<re.Match object; span=(0, 3), match='a\\\\t'>\n"
     ]
    }
   ],
   "source": [
    "print(re.search(r'a\\\\?t',r'a\\t'))"
   ]
  },
  {
   "cell_type": "code",
   "execution_count": 19,
   "metadata": {},
   "outputs": [
    {
     "name": "stdout",
     "output_type": "stream",
     "text": [
      "<re.Match object; span=(0, 2), match='at'>\n"
     ]
    }
   ],
   "source": [
    "print(re.search(r'a\\\\?t',r'at'))"
   ]
  },
  {
   "cell_type": "markdown",
   "metadata": {
    "slideshow": {
     "slide_type": "slide"
    }
   },
   "source": [
    "#### Greedy and non-greedy matching"
   ]
  },
  {
   "cell_type": "markdown",
   "metadata": {
    "slideshow": {
     "slide_type": "-"
    }
   },
   "source": [
    "What should the following search return?"
   ]
  },
  {
   "cell_type": "code",
   "execution_count": 20,
   "metadata": {
    "scrolled": true
   },
   "outputs": [
    {
     "name": "stdout",
     "output_type": "stream",
     "text": [
      "<re.Match object; span=(1, 8), match='aaaaaaa'>\n"
     ]
    }
   ],
   "source": [
    "myRegex = 'a+'\n",
    "myString = 'caaaaaaat'\n",
    "\n",
    "res = re.search(myRegex, myString)\n",
    "print(res)"
   ]
  },
  {
   "cell_type": "code",
   "execution_count": 21,
   "metadata": {
    "slideshow": {
     "slide_type": "slide"
    }
   },
   "outputs": [
    {
     "name": "stdout",
     "output_type": "stream",
     "text": [
      "<re.Match object; span=(0, 40), match='<p class=\"para\">This is a paragraph.</p>'>\n"
     ]
    }
   ],
   "source": [
    "# greedy matching\n",
    "# * matches longest possible sequence \n",
    "res = re.search('<.*>', '<p class=\"para\">This is a paragraph.</p>')\n",
    "print(res)"
   ]
  },
  {
   "cell_type": "code",
   "execution_count": 22,
   "metadata": {
    "slideshow": {
     "slide_type": "slide"
    }
   },
   "outputs": [
    {
     "name": "stdout",
     "output_type": "stream",
     "text": [
      "<re.Match object; span=(0, 16), match='<p class=\"para\">'>\n",
      "<re.Match object; span=(0, 1), match='.'>\n"
     ]
    }
   ],
   "source": [
    "# non-greedy matching with ?\n",
    "res = re.search('<.*?>', '<p class=\"para\">This is a paragraph.</p>')\n",
    "print(res)\n",
    "res = re.search('^[,.();]+?', '...;,;,,')\n",
    "print(res)"
   ]
  },
  {
   "cell_type": "markdown",
   "metadata": {},
   "source": [
    "**In the above, the search stops as soon as the first '>' is seen**"
   ]
  },
  {
   "cell_type": "markdown",
   "metadata": {},
   "source": [
    "Note: ? following * or +, is different from ? following a character"
   ]
  },
  {
   "cell_type": "code",
   "execution_count": 23,
   "metadata": {
    "slideshow": {
     "slide_type": "slide"
    }
   },
   "outputs": [
    {
     "name": "stdout",
     "output_type": "stream",
     "text": [
      "<re.Match object; span=(0, 16), match='<p class=\"para\">'>\n",
      "<re.Match object; span=(0, 5), match='(abc)'>\n"
     ]
    }
   ],
   "source": [
    "# or, we can use negation to prevent < or > characters in between\n",
    "print(re.search(r'<[^<>]*>','<p class=\"para\">This is a paragraph.</p>'))\n",
    "print(re.search(r'\\([^()]*\\)','(abc)(def)'))"
   ]
  },
  {
   "cell_type": "markdown",
   "metadata": {
    "slideshow": {
     "slide_type": "slide"
    }
   },
   "source": [
    "#### Special regular expression sequences to match predefined sets of characters\n",
    "1. Whitespace: \\\\s, \\\\S\n",
    "2. Word (alphanumeric, plus underscore) characters: \\\\w, \\\\W\n",
    "3. Digits: \\\\d, \\\\D\n",
    "4. Word Boundary: \\\\b"
   ]
  },
  {
   "cell_type": "markdown",
   "metadata": {
    "slideshow": {
     "slide_type": "slide"
    }
   },
   "source": [
    "**Whitespace**\n",
    "- \\\\s : matches any whitespace character (including tab and newline)\n",
    "- \\\\S : matches any non-whitespace character "
   ]
  },
  {
   "cell_type": "code",
   "execution_count": 24,
   "metadata": {},
   "outputs": [],
   "source": [
    "pattern = r'[.?!]{2,}\\s+'\n",
    "test_strings = [\"...What's going on??? \",\n",
    "                \"... What's going on?\",\n",
    "                \"...  What's going on?\", \n",
    "                \"What's going on?! Hey...\"]"
   ]
  },
  {
   "cell_type": "code",
   "execution_count": 25,
   "metadata": {},
   "outputs": [
    {
     "name": "stdout",
     "output_type": "stream",
     "text": [
      "'...What's going on??? ' matches '??? '\n",
      "'... What's going on?' matches '... '\n",
      "'...  What's going on?' matches '...  '\n",
      "'What's going on?! Hey...' matches '?! '\n"
     ]
    }
   ],
   "source": [
    "search_strings(pattern, test_strings)"
   ]
  },
  {
   "cell_type": "code",
   "execution_count": 31,
   "metadata": {
    "slideshow": {
     "slide_type": "slide"
    }
   },
   "outputs": [
    {
     "name": "stdout",
     "output_type": "stream",
     "text": [
      "<re.Match object; span=(4, 10), match='quick '>\n"
     ]
    }
   ],
   "source": [
    "# at least 4 non-whitespace characters followed by at least one whitespace\n",
    "res = re.search(r'\\S{4,}\\s+','The quick brown fox...')\n",
    "print(res)"
   ]
  },
  {
   "cell_type": "code",
   "execution_count": 32,
   "metadata": {},
   "outputs": [
    {
     "name": "stdout",
     "output_type": "stream",
     "text": [
      "'... What the?' matches '... '\n",
      "'What the?!\n",
      "Hey!!' matches '?!\n",
      "'\n",
      "'.?.?.?\tWhat? ' matches '.?.?.?\t'\n"
     ]
    }
   ],
   "source": [
    "# can specify whitspace alternatively by using [] class with space, tab, and newline\n",
    "pattern = r'[.?!]{2,}[ \\t\\n]+'\n",
    "test_strings = [\"... What the?\",\n",
    "                \"What the?!\\nHey!!\",\n",
    "                \".?.?.?\\tWhat? \"]\n",
    "search_strings(pattern, test_strings)"
   ]
  },
  {
   "cell_type": "code",
   "execution_count": 33,
   "metadata": {
    "slideshow": {
     "slide_type": "subslide"
    }
   },
   "outputs": [
    {
     "name": "stdout",
     "output_type": "stream",
     "text": [
      "'0-9' matches '0-9'\n",
      "'0+9' matches '0+9'\n",
      "'09' matches '09'\n",
      "'0^9' matches '0^9'\n",
      "'0\\9' does not match\n"
     ]
    }
   ],
   "source": [
    "# from last time... to match a '-' in a character class, use '\\'\n",
    "# or put it first or last\n",
    "pattern = \"0[-+^]?9\"\n",
    "test_strings = ['0-9','0+9', '09', '0^9', '0\\9']\n",
    "search_strings(pattern, test_strings)"
   ]
  },
  {
   "cell_type": "markdown",
   "metadata": {
    "slideshow": {
     "slide_type": "slide"
    }
   },
   "source": [
    "**\"Word\": characters (alphanumeric)**\n",
    "\n",
    "- \\\\w : matches any alphanumeric character => [a-zA-Z0-9_]  (includes underscore)\n",
    "- \\\\W : matches any non-alphanumeric character => [^a-zA-Z0-9_]  "
   ]
  },
  {
   "cell_type": "code",
   "execution_count": 34,
   "metadata": {},
   "outputs": [
    {
     "name": "stdout",
     "output_type": "stream",
     "text": [
      "None\n"
     ]
    }
   ],
   "source": [
    "# want at least 4 word characters followed by at least one whitespace\n",
    "res = re.search(r'\\w{4,}\\s+',\"Hey! What's up?\")\n",
    "print(res)"
   ]
  },
  {
   "cell_type": "code",
   "execution_count": 35,
   "metadata": {},
   "outputs": [
    {
     "name": "stdout",
     "output_type": "stream",
     "text": [
      "<re.Match object; span=(15, 24), match='with_you '>\n"
     ]
    }
   ],
   "source": [
    "# want at least 4 word characters followed by at least one whitespace\n",
    "res = re.search(r'\\w{4,}\\s+',\"Hey! What's up with_you today?\")\n",
    "print(res)"
   ]
  },
  {
   "cell_type": "markdown",
   "metadata": {
    "slideshow": {
     "slide_type": "slide"
    }
   },
   "source": [
    "**Digits**\n",
    "\n",
    "- \\\\d : matches any digit character => [0-9]\n",
    "- \\\\D : matches any non-digit character => [^0-9]"
   ]
  },
  {
   "cell_type": "markdown",
   "metadata": {
    "slideshow": {
     "slide_type": "slide"
    }
   },
   "source": [
    "### Exercise 1:\n",
    "Write a regular expression to determine if a given string is an acceptable phone number.\n",
    "Following are the acceptable phone number formats (d stands for digit):\n",
    "\n",
    "- (ddd)ddddddd\n",
    "- (ddd)ddd-dddd\n",
    "\n",
    "```\n",
    "[In]:\n",
    "test_strings = [\"(123)4567890\", \n",
    "                \"(123)456-7890\", \n",
    "                \"1234567890\", \n",
    "                \"999-9999\"]\n",
    "\n",
    "phone_pattern_1 = # YOUR PATTERN HERE\n",
    "search_strings(phone_pattern_1, test_strings)\n",
    "\n",
    "[Out]:\n",
    "'(123)4567890' matches '(123)4567890'\n",
    "'(123)456-7890' matches '(123)456-7890'\n",
    "'1234567890' does not match\n",
    "'999-9999' does not match\n",
    "```"
   ]
  },
  {
   "cell_type": "code",
   "execution_count": 39,
   "metadata": {},
   "outputs": [
    {
     "name": "stdout",
     "output_type": "stream",
     "text": [
      "'(123)4567890' matches '(123)4567890'\n",
      "'(123)456-7890' matches '(123)456-7890'\n",
      "'1234567890' does not match\n",
      "'999-9999' does not match\n"
     ]
    }
   ],
   "source": [
    "test_strings = [\"(123)4567890\", \n",
    "                \"(123)456-7890\", \n",
    "                \"1234567890\", \n",
    "                \"999-9999\"]\n",
    "#phone_pattern_1 = ''\n",
    "search_strings(phone_pattern_1, test_strings)\n"
   ]
  },
  {
   "cell_type": "markdown",
   "metadata": {
    "slideshow": {
     "slide_type": "slide"
    }
   },
   "source": [
    "**Next, let's strengthen the above with the ability to handle leading/trailing whitespaces**"
   ]
  },
  {
   "cell_type": "code",
   "execution_count": 88,
   "metadata": {},
   "outputs": [
    {
     "name": "stdout",
     "output_type": "stream",
     "text": [
      "match\n"
     ]
    }
   ],
   "source": [
    "pat = r'\\s*'+phone_pattern_1+'\\s*'\n",
    "res = re.search(pat, '      (123)456-7890    ')\n",
    "print('match') if res else print('no match')"
   ]
  },
  {
   "cell_type": "markdown",
   "metadata": {
    "slideshow": {
     "slide_type": "slide"
    }
   },
   "source": [
    "**For the non '( )' variants, we can't have a single pattern using -? for each of the - positions because it will match even if only one dash is present, and the other is not**\n",
    "\n",
    "- ddd-ddd-dddd\n",
    "- dddddddddd\n"
   ]
  },
  {
   "cell_type": "code",
   "execution_count": 41,
   "metadata": {},
   "outputs": [
    {
     "name": "stdout",
     "output_type": "stream",
     "text": [
      "<re.Match object; span=(0, 14), match='  848-555-4321'>\n"
     ]
    }
   ],
   "source": [
    "# so, for instance, it will work for this string\n",
    "res = re.search(r'^\\s*\\d{3}-?\\d{3}-?\\d{4}\\s*$','  848-555-4321')\n",
    "print(res)"
   ]
  },
  {
   "cell_type": "code",
   "execution_count": 42,
   "metadata": {},
   "outputs": [
    {
     "name": "stdout",
     "output_type": "stream",
     "text": [
      "None\n"
     ]
    }
   ],
   "source": [
    "# but also for this string, which is not an acceptable variant\n",
    "res = re.search(r'^\\s*\\d{3}-?\\d{3 }-?\\d{4}\\s*$','  848-5554321')\n",
    "print(res) "
   ]
  },
  {
   "cell_type": "markdown",
   "metadata": {
    "slideshow": {
     "slide_type": "slide"
    }
   },
   "source": [
    "**So let's do one pattern to catch both dashes**"
   ]
  },
  {
   "cell_type": "code",
   "execution_count": 43,
   "metadata": {},
   "outputs": [
    {
     "name": "stdout",
     "output_type": "stream",
     "text": [
      "None\n"
     ]
    }
   ],
   "source": [
    "# both dashes\n",
    "print(re.search(r'^\\s*\\d{3}(-\\d{3}-|\\d{3})\\d{4}\\s*$',' hi my name is 848-555-4321   '))"
   ]
  },
  {
   "cell_type": "markdown",
   "metadata": {
    "slideshow": {
     "slide_type": "slide"
    }
   },
   "source": [
    "**And another pattern to catch a straight sequence of 10 digits**"
   ]
  },
  {
   "cell_type": "code",
   "execution_count": 44,
   "metadata": {},
   "outputs": [
    {
     "name": "stdout",
     "output_type": "stream",
     "text": [
      "<re.Match object; span=(0, 15), match='  8485554321   '>\n"
     ]
    }
   ],
   "source": [
    "# 10 digits in sequence\n",
    "print(re.search(r'^\\s*\\d{10}\\s*$','  8485554321   '))"
   ]
  },
  {
   "cell_type": "markdown",
   "metadata": {
    "slideshow": {
     "slide_type": "slide"
    }
   },
   "source": [
    "**Final solution, single regexp to catch all variants**"
   ]
  },
  {
   "cell_type": "code",
   "execution_count": 45,
   "metadata": {},
   "outputs": [
    {
     "name": "stdout",
     "output_type": "stream",
     "text": [
      "'(123)4567890' matches '(123)4567890'\n",
      "'(123)456-7890' matches '(123)456-7890'\n",
      "'1234567890' matches '1234567890'\n",
      "'123-999-9999' matches '123-999-9999'\n",
      "'123999-1234' does not match\n",
      "'222(333)4444' does not match\n"
     ]
    }
   ],
   "source": [
    "phone_pattern = r'^\\s*(\\(\\d{3}\\)\\d{3}-?\\d{4}|\\d{3}-\\d{3}-\\d{4}|\\d{10})\\s*$'\n",
    "test_strings = [\"(123)4567890\", \n",
    "                \"(123)456-7890\", \n",
    "                \"1234567890\", \n",
    "                \"123-999-9999\",\n",
    "                \"123999-1234\",\n",
    "                \"222(333)4444\"]\n",
    "search_strings(phone_pattern, test_strings)\n"
   ]
  },
  {
   "cell_type": "markdown",
   "metadata": {
    "slideshow": {
     "slide_type": "slide"
    }
   },
   "source": [
    "**Word boundary**\n",
    "- \\\\b : matches only at word boundary (doesn't actually match any character, just sets the rule).\n",
    "(Remember, a word is a sequence of alphanumeric characters plus underscore.)"
   ]
  },
  {
   "cell_type": "code",
   "execution_count": 46,
   "metadata": {},
   "outputs": [
    {
     "name": "stdout",
     "output_type": "stream",
     "text": [
      "'I'm going to a party tomorrow' does not match\n",
      "'This is the best part of the movie.' matches 'part'\n",
      "'This is a big apartment.' does not match\n",
      "'Til death do us part' matches 'part'\n"
     ]
    }
   ],
   "source": [
    "# check if a string contains the word 'part'\n",
    "pattern = r'\\b[pP]art\\b'\n",
    "test_strings = [\"I'm going to a party tomorrow\", \n",
    "                \"This is the best part of the movie.\",\n",
    "                \"This is a big apartment.\",\n",
    "                'Til death do us part'] # end of string is also word boundary\n",
    "search_strings(pattern, test_strings)"
   ]
  },
  {
   "cell_type": "code",
   "execution_count": 47,
   "metadata": {},
   "outputs": [
    {
     "name": "stdout",
     "output_type": "stream",
     "text": [
      "None\n",
      "<re.Match object; span=(0, 7), match='Episode'>\n",
      "<re.Match object; span=(0, 7), match='Episode'>\n"
     ]
    }
   ],
   "source": [
    "res = re.search(r'\\b[eE]pisode\\b',\"Episode3 has a high rating.\") \n",
    "print(res)\n",
    "res = re.search(r'\\b[eE]pisode\\b',\"Episode-3 has a high rating.\") \n",
    "print(res)\n",
    "res = re.search(r'\\b[eE]pisode\\b',\"Episode 3 has a high rating.\") \n",
    "print(res)"
   ]
  },
  {
   "cell_type": "markdown",
   "metadata": {},
   "source": [
    "**In the above, since word includes digits, the '3' is not a word boundary**"
   ]
  },
  {
   "cell_type": "markdown",
   "metadata": {
    "slideshow": {
     "slide_type": "slide"
    }
   },
   "source": [
    "#### Using the match function\n",
    "**The match function always starts matching from the beginning of string**"
   ]
  },
  {
   "cell_type": "code",
   "execution_count": 48,
   "metadata": {},
   "outputs": [
    {
     "name": "stdout",
     "output_type": "stream",
     "text": [
      "<re.Match object; span=(1, 3), match='ar'>\n",
      "None\n"
     ]
    }
   ],
   "source": [
    "print(re.search('ar','barbaric')) # 'ar' is in 'barbaric'\n",
    "print(re.match('ar','barbaric')) # but 'barbaric' doesn't begin with 'ar'"
   ]
  },
  {
   "cell_type": "code",
   "execution_count": 49,
   "metadata": {},
   "outputs": [
    {
     "name": "stdout",
     "output_type": "stream",
     "text": [
      "<re.Match object; span=(0, 6), match='arrest'>\n",
      "<re.Match object; span=(0, 6), match='arrest'>\n"
     ]
    }
   ],
   "source": [
    "# match all strings that start with ar, end with t, \n",
    "# and have at least one lowercase letter between\n",
    "\n",
    "res = re.search('^ar[a-z]+t$', 'arrest')  # version 1, using search\n",
    "print(res)\n",
    "res = re.match('ar[a-z]+t$', 'arrest')  # version 2, using match   \n",
    "print(res)"
   ]
  },
  {
   "cell_type": "markdown",
   "metadata": {},
   "source": [
    "**Note that if you want to match an entire string with the match function, you will still need to use $ at the end**"
   ]
  },
  {
   "cell_type": "markdown",
   "metadata": {
    "slideshow": {
     "slide_type": "slide"
    }
   },
   "source": [
    "#### Using the match object returned by search/match\n",
    "**Applying the methods group(), span(), start(), end()**"
   ]
  },
  {
   "cell_type": "code",
   "execution_count": 50,
   "metadata": {},
   "outputs": [
    {
     "data": {
      "text/plain": [
       "<re.Match object; span=(1, 3), match='at'>"
      ]
     },
     "execution_count": 50,
     "metadata": {},
     "output_type": "execute_result"
    }
   ],
   "source": [
    "res = re.search('at', 'catch')  # returned Match object is stored in res \n",
    "res"
   ]
  },
  {
   "cell_type": "markdown",
   "metadata": {
    "slideshow": {
     "slide_type": "slide"
    }
   },
   "source": [
    "**group() returns the matched result string**"
   ]
  },
  {
   "cell_type": "code",
   "execution_count": 51,
   "metadata": {},
   "outputs": [
    {
     "name": "stdout",
     "output_type": "stream",
     "text": [
      "at\n"
     ]
    }
   ],
   "source": [
    "print(res.group())"
   ]
  },
  {
   "cell_type": "markdown",
   "metadata": {
    "slideshow": {
     "slide_type": "slide"
    }
   },
   "source": [
    "**span() returns the range tuple (start,end) indices of matching part of original string**"
   ]
  },
  {
   "cell_type": "code",
   "execution_count": 52,
   "metadata": {},
   "outputs": [
    {
     "name": "stdout",
     "output_type": "stream",
     "text": [
      "(1, 3)\n"
     ]
    }
   ],
   "source": [
    "print(res.span())"
   ]
  },
  {
   "cell_type": "markdown",
   "metadata": {
    "slideshow": {
     "slide_type": "slide"
    }
   },
   "source": [
    "**start() and end() return starting and ending indices of matching part of original string**"
   ]
  },
  {
   "cell_type": "code",
   "execution_count": 53,
   "metadata": {},
   "outputs": [
    {
     "name": "stdout",
     "output_type": "stream",
     "text": [
      "1\n",
      "3\n"
     ]
    }
   ],
   "source": [
    "print(res.start()) \n",
    "print(res.end()) "
   ]
  },
  {
   "cell_type": "markdown",
   "metadata": {
    "slideshow": {
     "slide_type": "slide"
    }
   },
   "source": [
    "**of course, you can get these same values from the tuple returned by span()**"
   ]
  },
  {
   "cell_type": "code",
   "execution_count": 54,
   "metadata": {},
   "outputs": [
    {
     "name": "stdout",
     "output_type": "stream",
     "text": [
      "1 , 3\n"
     ]
    }
   ],
   "source": [
    "start,end = res.span()\n",
    "print(start,',',end)"
   ]
  },
  {
   "cell_type": "markdown",
   "metadata": {
    "slideshow": {
     "slide_type": "slide"
    }
   },
   "source": [
    "**By definition, re.match() will always return a span that starts at 0 (if a match is found)**"
   ]
  },
  {
   "cell_type": "code",
   "execution_count": 55,
   "metadata": {},
   "outputs": [
    {
     "name": "stdout",
     "output_type": "stream",
     "text": [
      "<span>\n",
      "(0, 6)\n",
      "0\n",
      "6\n"
     ]
    }
   ],
   "source": [
    "res = re.match(r'<.*?>','<span>This is within a span tag in html</span>')  # non-greedy\n",
    "print(res.group())\n",
    "print(res.span())\n",
    "print(res.start())\n",
    "print(res.end())"
   ]
  },
  {
   "cell_type": "code",
   "execution_count": 56,
   "metadata": {},
   "outputs": [
    {
     "name": "stdout",
     "output_type": "stream",
     "text": [
      "<span>This is within a span tag in html</span>\n",
      "(0, 46)\n",
      "0\n",
      "46\n"
     ]
    }
   ],
   "source": [
    "res = re.match(r'<.*>','<span>This is within a span tag in html</span>')  # greedy\n",
    "print(res.group())\n",
    "print(res.span())\n",
    "print(res.start())\n",
    "print(res.end())"
   ]
  },
  {
   "cell_type": "markdown",
   "metadata": {
    "slideshow": {
     "slide_type": "slide"
    }
   },
   "source": [
    "**Be careful to check for existence of returned match object before applying methods!**"
   ]
  },
  {
   "cell_type": "code",
   "execution_count": 57,
   "metadata": {},
   "outputs": [
    {
     "ename": "AttributeError",
     "evalue": "'NoneType' object has no attribute 'group'",
     "output_type": "error",
     "traceback": [
      "\u001B[0;31m---------------------------------------------------------------------------\u001B[0m",
      "\u001B[0;31mAttributeError\u001B[0m                            Traceback (most recent call last)",
      "Cell \u001B[0;32mIn[57], line 2\u001B[0m\n\u001B[1;32m      1\u001B[0m res \u001B[38;5;241m=\u001B[39m re\u001B[38;5;241m.\u001B[39mmatch(\u001B[38;5;124m'\u001B[39m\u001B[38;5;124mbar\u001B[39m\u001B[38;5;124m'\u001B[39m,\u001B[38;5;124m'\u001B[39m\u001B[38;5;124msandbar\u001B[39m\u001B[38;5;124m'\u001B[39m)\n\u001B[0;32m----> 2\u001B[0m \u001B[38;5;28mprint\u001B[39m(\u001B[43mres\u001B[49m\u001B[38;5;241;43m.\u001B[39;49m\u001B[43mgroup\u001B[49m())\n",
      "\u001B[0;31mAttributeError\u001B[0m: 'NoneType' object has no attribute 'group'"
     ]
    }
   ],
   "source": [
    "res = re.match('bar','sandbar')\n",
    "print(res.group())"
   ]
  },
  {
   "cell_type": "code",
   "execution_count": 58,
   "metadata": {},
   "outputs": [
    {
     "name": "stdout",
     "output_type": "stream",
     "text": [
      "No match\n"
     ]
    }
   ],
   "source": [
    "res = re.match('bar','sandbar')\n",
    "print(res.group()) if res else print('No match')"
   ]
  },
  {
   "cell_type": "markdown",
   "metadata": {
    "slideshow": {
     "slide_type": "slide"
    }
   },
   "source": [
    "**Typical usage is to store in Match object, check if it exists (not None), and then get matched string with group**"
   ]
  },
  {
   "cell_type": "code",
   "execution_count": 59,
   "metadata": {},
   "outputs": [
    {
     "name": "stdout",
     "output_type": "stream",
     "text": [
      "Match: arasit\n",
      "Match: artist\n",
      "No match\n"
     ]
    }
   ],
   "source": [
    "# find out if a string contains any sequence that starts with ar, ends with t, \n",
    "# and has at least one lowercase letter between\n",
    "def substr(astr):\n",
    "    res = re.search('ar[a-z]+t',astr)  \n",
    "    print('Match:',res.group()) if res else print('No match')\n",
    "        \n",
    "substr('parasite')\n",
    "substr('artist')\n",
    "substr('part')"
   ]
  },
  {
   "cell_type": "markdown",
   "metadata": {
    "slideshow": {
     "slide_type": "slide"
    }
   },
   "source": [
    "#### Splitting a string with split function"
   ]
  },
  {
   "cell_type": "code",
   "execution_count": 60,
   "metadata": {},
   "outputs": [
    {
     "data": {
      "text/plain": [
       "['ab', 'cd']"
      ]
     },
     "execution_count": 60,
     "metadata": {},
     "output_type": "execute_result"
    }
   ],
   "source": [
    "s = 'ab;cd'\n",
    "re.split(';',s)"
   ]
  },
  {
   "cell_type": "code",
   "execution_count": 61,
   "metadata": {},
   "outputs": [
    {
     "data": {
      "text/plain": [
       "['ab', 'cd']"
      ]
     },
     "execution_count": 61,
     "metadata": {},
     "output_type": "execute_result"
    }
   ],
   "source": [
    "s.split(';')"
   ]
  },
  {
   "cell_type": "code",
   "execution_count": 62,
   "metadata": {},
   "outputs": [
    {
     "data": {
      "text/plain": [
       "['Really', ' I mean, really', '', '']"
      ]
     },
     "execution_count": 62,
     "metadata": {},
     "output_type": "execute_result"
    }
   ],
   "source": [
    "s = 'Really? I mean, really?!'\n",
    "re.split('[?!]',s)"
   ]
  },
  {
   "cell_type": "markdown",
   "metadata": {
    "slideshow": {
     "slide_type": "slide"
    }
   },
   "source": [
    "**Regexp split will split separately on each of the characters in the given class.\n",
    "Also, notice the empty string returned between consecutive split characters,\n",
    "and between consecutive split character and end of string**"
   ]
  },
  {
   "cell_type": "code",
   "execution_count": 63,
   "metadata": {},
   "outputs": [
    {
     "data": {
      "text/plain": [
       "['Really? I mean, really', '']"
      ]
     },
     "execution_count": 63,
     "metadata": {},
     "output_type": "execute_result"
    }
   ],
   "source": [
    "s.split('?!')"
   ]
  },
  {
   "cell_type": "markdown",
   "metadata": {
    "slideshow": {
     "slide_type": "slide"
    }
   },
   "source": [
    "**But `str.split` will only split on ALL characters in the given set as a group.\n",
    "Empty string returned as in regexpt split**"
   ]
  },
  {
   "cell_type": "code",
   "execution_count": 64,
   "metadata": {},
   "outputs": [
    {
     "name": "stdout",
     "output_type": "stream",
     "text": [
      "['This', 'is', 'a', 'bunch', 'of', 'words', '']\n"
     ]
    }
   ],
   "source": [
    "# split into words, using \\W (non-word character) as delimiter\n",
    "res = re.split('\\W+','This   is  a bunch of words!')\n",
    "print(res)"
   ]
  },
  {
   "cell_type": "markdown",
   "metadata": {
    "slideshow": {
     "slide_type": "slide"
    }
   },
   "source": [
    "#### Substituting in a string with sub function"
   ]
  },
  {
   "cell_type": "code",
   "execution_count": 65,
   "metadata": {},
   "outputs": [
    {
     "data": {
      "text/plain": [
       "'Account number ##########'"
      ]
     },
     "execution_count": 65,
     "metadata": {},
     "output_type": "execute_result"
    }
   ],
   "source": [
    "# substitute all digits in 'Account number 1223456789' with '#'\n",
    "re.sub('\\d','#','Account number 1223456789')"
   ]
  },
  {
   "cell_type": "code",
   "execution_count": 66,
   "metadata": {},
   "outputs": [
    {
     "data": {
      "text/plain": [
       "'Account number 1223456###'"
      ]
     },
     "execution_count": 66,
     "metadata": {},
     "output_type": "execute_result"
    }
   ],
   "source": [
    "# substitute last 3 digits with '#'\n",
    "re.sub('\\d{3}$','###','Account number 1223456789')"
   ]
  },
  {
   "cell_type": "code",
   "execution_count": 67,
   "metadata": {
    "slideshow": {
     "slide_type": "slide"
    }
   },
   "outputs": [
    {
     "name": "stdout",
     "output_type": "stream",
     "text": [
      "Before comment..., and after comment\n"
     ]
    }
   ],
   "source": [
    "# removing comments from html\n",
    "# <!-- this is a comment -->\n",
    "\n",
    "htmlstr = 'Before comment...<!-- This is a comment -->, and after comment'\n",
    "res = re.sub('<!--.*-->','',htmlstr) # replace comment with nothing\n",
    "print(res)"
   ]
  },
  {
   "cell_type": "code",
   "execution_count": 68,
   "metadata": {
    "slideshow": {
     "slide_type": "slide"
    }
   },
   "outputs": [
    {
     "name": "stdout",
     "output_type": "stream",
     "text": [
      "Before first...  ... after second\n"
     ]
    }
   ],
   "source": [
    "# Careful with greedy regexes!\n",
    "htmlstr = 'Before first... <!-- comment1 -->between first and second <!-- comment2--> ... after second'\n",
    "res = re.sub('<!--.*-->','', htmlstr)  # replace comment with nothing\n",
    "print(res)"
   ]
  },
  {
   "cell_type": "markdown",
   "metadata": {},
   "source": [
    "**Since the regexp above does a greedy match, everything from the first '<' to the last '>' is matched,\n",
    "including the string between the two comment sections**"
   ]
  },
  {
   "cell_type": "code",
   "execution_count": 69,
   "metadata": {
    "slideshow": {
     "slide_type": "slide"
    }
   },
   "outputs": [
    {
     "name": "stdout",
     "output_type": "stream",
     "text": [
      "Before first... between first and second  ... after second\n",
      "Before first... between first and second  ... after second\n"
     ]
    }
   ],
   "source": [
    "# make it non-greedy\n",
    "htmlstr = 'Before first... <!-- comment1 -->between first and second <!-- comment2--> ... after second'\n",
    "res = re.sub('<!--.*?-->','', htmlstr)  # replace comment with nothing\n",
    "print(res)\n",
    "res = re.sub('<!--[^>-]*-->','', htmlstr)  # replace comment with nothing\n",
    "print(res)"
   ]
  },
  {
   "cell_type": "code",
   "execution_count": 70,
   "metadata": {
    "slideshow": {
     "slide_type": "slide"
    }
   },
   "outputs": [
    {
     "name": "stdout",
     "output_type": "stream",
     "text": [
      "<!-- first \n",
      "comment -->Not a comment\n"
     ]
    }
   ],
   "source": [
    "# does it work with a multiline string?\n",
    "htmlstr2 = \"\"\"<!-- first \n",
    "comment -->Not a comment<!-- comment2 -->\"\"\"\n",
    "res = re.sub('<!--.*?-->','', htmlstr2)  # replace comment with nothing\n",
    "print(res)"
   ]
  },
  {
   "cell_type": "markdown",
   "metadata": {},
   "source": [
    "**The '.' metacharacter does not match a newline**"
   ]
  },
  {
   "cell_type": "code",
   "execution_count": 71,
   "metadata": {
    "slideshow": {
     "slide_type": "slide"
    }
   },
   "outputs": [
    {
     "name": "stdout",
     "output_type": "stream",
     "text": [
      "Not a comment\n"
     ]
    }
   ],
   "source": [
    "res = re.sub('<!--[^>-]*-->','', htmlstr2)  # replace comment with nothing\n",
    "print(res)"
   ]
  },
  {
   "cell_type": "markdown",
   "metadata": {
    "slideshow": {
     "slide_type": "slide"
    }
   },
   "source": [
    "#### Grouping/Capturing"
   ]
  },
  {
   "cell_type": "code",
   "execution_count": 72,
   "metadata": {},
   "outputs": [],
   "source": [
    "# want to extract (\"capture\") area code and local part from phone number\n",
    "# assume format (ddd)ddd-dddd\n",
    "\n",
    "res = re.match(r'\\s*\\((\\d{3})\\)(\\d{3})-(\\d{4})', '(848)555-4321')"
   ]
  },
  {
   "cell_type": "markdown",
   "metadata": {},
   "source": [
    "**Notice the grouping/capturing with parentheses around the area code part, as in (\\d{3})\n",
    "and likewise for the entire non-area code part**"
   ]
  },
  {
   "cell_type": "code",
   "execution_count": 73,
   "metadata": {
    "slideshow": {
     "slide_type": "slide"
    }
   },
   "outputs": [
    {
     "name": "stdout",
     "output_type": "stream",
     "text": [
      "(848)555-4321\n",
      "('848', '555', '4321')\n",
      "(848)555-4321\n",
      "848\n",
      "555\n",
      "4321\n"
     ]
    }
   ],
   "source": [
    "print(res.group())  # for the whole thing\n",
    "print(res.groups()) # for all parts captured with ( )\n",
    "print(res.group(0)) # entire thing\n",
    "print(res.group(1)) # first grouping with ( )\n",
    "print(res.group(2)) # second grouping with ( )\n",
    "print(res.group(3))"
   ]
  },
  {
   "cell_type": "code",
   "execution_count": 2,
   "outputs": [],
   "source": [
    "import re"
   ],
   "metadata": {
    "collapsed": false,
    "ExecuteTime": {
     "end_time": "2023-10-27T15:44:20.922084Z",
     "start_time": "2023-10-27T15:44:20.899214Z"
    }
   }
  },
  {
   "cell_type": "code",
   "execution_count": 3,
   "metadata": {
    "slideshow": {
     "slide_type": "slide"
    },
    "ExecuteTime": {
     "end_time": "2023-10-27T15:44:21.047177Z",
     "start_time": "2023-10-27T15:44:21.031345Z"
    }
   },
   "outputs": [],
   "source": [
    "# equally, you can use search instead of match, just make sure to use ^ for start of string\n",
    "res = re.search(r'^\\s*\\((\\d{3})\\)(\\d{3})-(\\d{4})', '(848)555-4321')"
   ]
  },
  {
   "cell_type": "code",
   "execution_count": 4,
   "metadata": {
    "ExecuteTime": {
     "end_time": "2023-10-27T15:44:21.577251Z",
     "start_time": "2023-10-27T15:44:21.555165Z"
    }
   },
   "outputs": [
    {
     "name": "stdout",
     "output_type": "stream",
     "text": [
      "(848)555-4321\n",
      "('848', '555', '4321')\n",
      "(848)555-4321\n",
      "848\n",
      "555\n",
      "4321\n"
     ]
    }
   ],
   "source": [
    "print(res.group())  # for the whole thing\n",
    "print(res.groups()) # for all parts grouped with ( )\n",
    "print(res.group(0)) # entire thing\n",
    "print(res.group(1)) # first grouping with ( )\n",
    "print(res.group(2)) # second grouping with ( )\n",
    "print(res.group(3))"
   ]
  },
  {
   "cell_type": "code",
   "execution_count": 76,
   "metadata": {
    "slideshow": {
     "slide_type": "slide"
    }
   },
   "outputs": [
    {
     "name": "stdout",
     "output_type": "stream",
     "text": [
      "848\n",
      "555\n"
     ]
    }
   ],
   "source": [
    "# alternatively, you can index into the groups() tuple\n",
    "print(res.groups()[0])\n",
    "print(res.groups()[1])"
   ]
  },
  {
   "cell_type": "code",
   "execution_count": 77,
   "metadata": {
    "slideshow": {
     "slide_type": "slide"
    }
   },
   "outputs": [
    {
     "name": "stdout",
     "output_type": "stream",
     "text": [
      "848\n",
      "555\n",
      "4321\n"
     ]
    }
   ],
   "source": [
    "# iterate through all the groups\n",
    "res = re.match(r'\\s*\\((\\d{3})\\)(\\d{3})-(\\d{4})', '(848)555-4321')\n",
    "if res:\n",
    "    for gr in res.groups():\n",
    "        print(gr)"
   ]
  },
  {
   "cell_type": "markdown",
   "metadata": {
    "slideshow": {
     "slide_type": "slide"
    }
   },
   "source": [
    "**Numbering and back-referencing capture groups**"
   ]
  },
  {
   "cell_type": "code",
   "execution_count": 78,
   "metadata": {},
   "outputs": [
    {
     "name": "stdout",
     "output_type": "stream",
     "text": [
      "<re.Match object; span=(0, 11), match='123-456-456'>\n"
     ]
    }
   ],
   "source": [
    "# captures can be numbered, and backreferenced using numbers\n",
    "res = re.search(r'(\\d+)-(.*)-\\2','123-456-4567')\n",
    "print(res)"
   ]
  },
  {
   "cell_type": "code",
   "execution_count": 79,
   "metadata": {},
   "outputs": [
    {
     "name": "stdout",
     "output_type": "stream",
     "text": [
      "<re.Match object; span=(5, 19), match='air or hot air'>\n"
     ]
    }
   ],
   "source": [
    "# captures can be numbered, and backreferenced using numbers\n",
    "res = re.search(r'(air).*\\1','cool air or hot air')\n",
    "print(res)"
   ]
  },
  {
   "cell_type": "markdown",
   "metadata": {
    "slideshow": {
     "slide_type": "slide"
    }
   },
   "source": [
    "**When using back references, make sure to use raw string for the regexp, otherwise it won't work, see below**"
   ]
  },
  {
   "cell_type": "code",
   "execution_count": 80,
   "metadata": {},
   "outputs": [
    {
     "name": "stdout",
     "output_type": "stream",
     "text": [
      "None\n",
      "<re.Match object; span=(5, 19), match='air or hot air'>\n"
     ]
    }
   ],
   "source": [
    "# same as 2 cells above, but without using raw string\n",
    "res = re.search('(air).*\\1','cool air or hot air')\n",
    "print(res)\n",
    "res = re.search('(air).*\\\\1','cool air or hot air')\n",
    "print(res)"
   ]
  },
  {
   "cell_type": "markdown",
   "metadata": {
    "slideshow": {
     "slide_type": "slide"
    }
   },
   "source": [
    "#### Pre-compiling a regular expression"
   ]
  },
  {
   "cell_type": "markdown",
   "metadata": {},
   "source": [
    "**Sometimes it's easier to \"compile\" a regular expression and use it several times later**"
   ]
  },
  {
   "cell_type": "code",
   "execution_count": 81,
   "metadata": {},
   "outputs": [
    {
     "name": "stdout",
     "output_type": "stream",
     "text": [
      "('848', '555-4321')\n"
     ]
    }
   ],
   "source": [
    "pattrn = re.compile(r'\\s*\\((\\d{3})\\)(\\d{3}-\\d{4})')\n",
    "res = pattrn.match('(848)555-4321')\n",
    "print(res.groups())"
   ]
  },
  {
   "cell_type": "code",
   "execution_count": 82,
   "metadata": {
    "slideshow": {
     "slide_type": "slide"
    }
   },
   "outputs": [
    {
     "name": "stdout",
     "output_type": "stream",
     "text": [
      "('25',)\n",
      "('25',)\n",
      "('25',)\n"
     ]
    }
   ],
   "source": [
    "patt = re.compile(r'\\s*#?\\s*(\\d+)')\n",
    "res = patt.match('#25 Infinite Loop,Cupertino,CA 12345')\n",
    "print(res.groups())\n",
    "res = patt.match(' # 25 Infinite Loop,Cupertino,CA 12345')\n",
    "print(res.groups())\n",
    "res = patt.match(' 25 Infinite Loop,Cupertino,CA 12345')\n",
    "print(res.groups())"
   ]
  },
  {
   "cell_type": "markdown",
   "metadata": {
    "slideshow": {
     "slide_type": "slide"
    }
   },
   "source": [
    "**Exercise 2**\n",
    "<pre>\n",
    "Given a string of the form:\n",
    "     '\"&lt;last name>, &lt;first name>\",&lt;netid>'\n",
    "\n",
    "Output the string:\n",
    "     '&lt;first name>,&lt;last name>,&lt;netid>'\n",
    "\n",
    "e.g. '\"  Smith,   Bob \", bs123 ' => 'Bob,Smith,bs123@rutgers.edu'\n",
    "</pre>"
   ]
  },
  {
   "cell_type": "code",
   "execution_count": 83,
   "metadata": {},
   "outputs": [],
   "source": [
    "#ex2_pattern = r''. # search pattern here\n",
    "#ex2_sub = r'' # your substition pattern here"
   ]
  },
  {
   "cell_type": "code",
   "execution_count": 84,
   "metadata": {},
   "outputs": [
    {
     "name": "stdout",
     "output_type": "stream",
     "text": [
      "Bob,Smith,bs123@rutgers.edu\n"
     ]
    }
   ],
   "source": [
    "student_str = '\"  Smith ,   Bob \" , bs123 '\n",
    "res = re.sub(ex2_pattern, ex2_sub, student_str)\n",
    "print(res)"
   ]
  },
  {
   "cell_type": "code",
   "execution_count": 85,
   "metadata": {
    "slideshow": {
     "slide_type": "slide"
    }
   },
   "outputs": [
    {
     "ename": "error",
     "evalue": "invalid group reference 2 at position 1",
     "output_type": "error",
     "traceback": [
      "\u001B[0;31m---------------------------------------------------------------------------\u001B[0m",
      "\u001B[0;31merror\u001B[0m                                     Traceback (most recent call last)",
      "Cell \u001B[0;32mIn[85], line 4\u001B[0m\n\u001B[1;32m      2\u001B[0m student_str \u001B[38;5;241m=\u001B[39m \u001B[38;5;124m'\u001B[39m\u001B[38;5;124m\"\u001B[39m\u001B[38;5;124m  Smith,   Bob \u001B[39m\u001B[38;5;124m\"\u001B[39m\u001B[38;5;124m, bs123 \u001B[39m\u001B[38;5;124m'\u001B[39m\n\u001B[1;32m      3\u001B[0m target \u001B[38;5;241m=\u001B[39m re\u001B[38;5;241m.\u001B[39mcompile(ex2_pattern)\n\u001B[0;32m----> 4\u001B[0m repl \u001B[38;5;241m=\u001B[39m \u001B[43mre\u001B[49m\u001B[38;5;241;43m.\u001B[39;49m\u001B[43mcompile\u001B[49m\u001B[43m(\u001B[49m\u001B[43mex2_sub\u001B[49m\u001B[43m)\u001B[49m\n\u001B[1;32m      5\u001B[0m res \u001B[38;5;241m=\u001B[39m re\u001B[38;5;241m.\u001B[39msub(target,repl,student_str)\n\u001B[1;32m      6\u001B[0m \u001B[38;5;28mprint\u001B[39m(res)\n",
      "File \u001B[0;32m/opt/anaconda3/envs/cs210/lib/python3.10/re.py:251\u001B[0m, in \u001B[0;36mcompile\u001B[0;34m(pattern, flags)\u001B[0m\n\u001B[1;32m    249\u001B[0m \u001B[38;5;28;01mdef\u001B[39;00m \u001B[38;5;21mcompile\u001B[39m(pattern, flags\u001B[38;5;241m=\u001B[39m\u001B[38;5;241m0\u001B[39m):\n\u001B[1;32m    250\u001B[0m     \u001B[38;5;124m\"\u001B[39m\u001B[38;5;124mCompile a regular expression pattern, returning a Pattern object.\u001B[39m\u001B[38;5;124m\"\u001B[39m\n\u001B[0;32m--> 251\u001B[0m     \u001B[38;5;28;01mreturn\u001B[39;00m \u001B[43m_compile\u001B[49m\u001B[43m(\u001B[49m\u001B[43mpattern\u001B[49m\u001B[43m,\u001B[49m\u001B[43m \u001B[49m\u001B[43mflags\u001B[49m\u001B[43m)\u001B[49m\n",
      "File \u001B[0;32m/opt/anaconda3/envs/cs210/lib/python3.10/re.py:303\u001B[0m, in \u001B[0;36m_compile\u001B[0;34m(pattern, flags)\u001B[0m\n\u001B[1;32m    301\u001B[0m \u001B[38;5;28;01mif\u001B[39;00m \u001B[38;5;129;01mnot\u001B[39;00m sre_compile\u001B[38;5;241m.\u001B[39misstring(pattern):\n\u001B[1;32m    302\u001B[0m     \u001B[38;5;28;01mraise\u001B[39;00m \u001B[38;5;167;01mTypeError\u001B[39;00m(\u001B[38;5;124m\"\u001B[39m\u001B[38;5;124mfirst argument must be string or compiled pattern\u001B[39m\u001B[38;5;124m\"\u001B[39m)\n\u001B[0;32m--> 303\u001B[0m p \u001B[38;5;241m=\u001B[39m \u001B[43msre_compile\u001B[49m\u001B[38;5;241;43m.\u001B[39;49m\u001B[43mcompile\u001B[49m\u001B[43m(\u001B[49m\u001B[43mpattern\u001B[49m\u001B[43m,\u001B[49m\u001B[43m \u001B[49m\u001B[43mflags\u001B[49m\u001B[43m)\u001B[49m\n\u001B[1;32m    304\u001B[0m \u001B[38;5;28;01mif\u001B[39;00m \u001B[38;5;129;01mnot\u001B[39;00m (flags \u001B[38;5;241m&\u001B[39m DEBUG):\n\u001B[1;32m    305\u001B[0m     \u001B[38;5;28;01mif\u001B[39;00m \u001B[38;5;28mlen\u001B[39m(_cache) \u001B[38;5;241m>\u001B[39m\u001B[38;5;241m=\u001B[39m _MAXCACHE:\n\u001B[1;32m    306\u001B[0m         \u001B[38;5;66;03m# Drop the oldest item\u001B[39;00m\n",
      "File \u001B[0;32m/opt/anaconda3/envs/cs210/lib/python3.10/sre_compile.py:788\u001B[0m, in \u001B[0;36mcompile\u001B[0;34m(p, flags)\u001B[0m\n\u001B[1;32m    786\u001B[0m \u001B[38;5;28;01mif\u001B[39;00m isstring(p):\n\u001B[1;32m    787\u001B[0m     pattern \u001B[38;5;241m=\u001B[39m p\n\u001B[0;32m--> 788\u001B[0m     p \u001B[38;5;241m=\u001B[39m \u001B[43msre_parse\u001B[49m\u001B[38;5;241;43m.\u001B[39;49m\u001B[43mparse\u001B[49m\u001B[43m(\u001B[49m\u001B[43mp\u001B[49m\u001B[43m,\u001B[49m\u001B[43m \u001B[49m\u001B[43mflags\u001B[49m\u001B[43m)\u001B[49m\n\u001B[1;32m    789\u001B[0m \u001B[38;5;28;01melse\u001B[39;00m:\n\u001B[1;32m    790\u001B[0m     pattern \u001B[38;5;241m=\u001B[39m \u001B[38;5;28;01mNone\u001B[39;00m\n",
      "File \u001B[0;32m/opt/anaconda3/envs/cs210/lib/python3.10/sre_parse.py:955\u001B[0m, in \u001B[0;36mparse\u001B[0;34m(str, flags, state)\u001B[0m\n\u001B[1;32m    952\u001B[0m state\u001B[38;5;241m.\u001B[39mstr \u001B[38;5;241m=\u001B[39m \u001B[38;5;28mstr\u001B[39m\n\u001B[1;32m    954\u001B[0m \u001B[38;5;28;01mtry\u001B[39;00m:\n\u001B[0;32m--> 955\u001B[0m     p \u001B[38;5;241m=\u001B[39m \u001B[43m_parse_sub\u001B[49m\u001B[43m(\u001B[49m\u001B[43msource\u001B[49m\u001B[43m,\u001B[49m\u001B[43m \u001B[49m\u001B[43mstate\u001B[49m\u001B[43m,\u001B[49m\u001B[43m \u001B[49m\u001B[43mflags\u001B[49m\u001B[43m \u001B[49m\u001B[38;5;241;43m&\u001B[39;49m\u001B[43m \u001B[49m\u001B[43mSRE_FLAG_VERBOSE\u001B[49m\u001B[43m,\u001B[49m\u001B[43m \u001B[49m\u001B[38;5;241;43m0\u001B[39;49m\u001B[43m)\u001B[49m\n\u001B[1;32m    956\u001B[0m \u001B[38;5;28;01mexcept\u001B[39;00m Verbose:\n\u001B[1;32m    957\u001B[0m     \u001B[38;5;66;03m# the VERBOSE flag was switched on inside the pattern.  to be\u001B[39;00m\n\u001B[1;32m    958\u001B[0m     \u001B[38;5;66;03m# on the safe side, we'll parse the whole thing again...\u001B[39;00m\n\u001B[1;32m    959\u001B[0m     state \u001B[38;5;241m=\u001B[39m State()\n",
      "File \u001B[0;32m/opt/anaconda3/envs/cs210/lib/python3.10/sre_parse.py:444\u001B[0m, in \u001B[0;36m_parse_sub\u001B[0;34m(source, state, verbose, nested)\u001B[0m\n\u001B[1;32m    442\u001B[0m start \u001B[38;5;241m=\u001B[39m source\u001B[38;5;241m.\u001B[39mtell()\n\u001B[1;32m    443\u001B[0m \u001B[38;5;28;01mwhile\u001B[39;00m \u001B[38;5;28;01mTrue\u001B[39;00m:\n\u001B[0;32m--> 444\u001B[0m     itemsappend(\u001B[43m_parse\u001B[49m\u001B[43m(\u001B[49m\u001B[43msource\u001B[49m\u001B[43m,\u001B[49m\u001B[43m \u001B[49m\u001B[43mstate\u001B[49m\u001B[43m,\u001B[49m\u001B[43m \u001B[49m\u001B[43mverbose\u001B[49m\u001B[43m,\u001B[49m\u001B[43m \u001B[49m\u001B[43mnested\u001B[49m\u001B[43m \u001B[49m\u001B[38;5;241;43m+\u001B[39;49m\u001B[43m \u001B[49m\u001B[38;5;241;43m1\u001B[39;49m\u001B[43m,\u001B[49m\n\u001B[1;32m    445\u001B[0m \u001B[43m                       \u001B[49m\u001B[38;5;129;43;01mnot\u001B[39;49;00m\u001B[43m \u001B[49m\u001B[43mnested\u001B[49m\u001B[43m \u001B[49m\u001B[38;5;129;43;01mand\u001B[39;49;00m\u001B[43m \u001B[49m\u001B[38;5;129;43;01mnot\u001B[39;49;00m\u001B[43m \u001B[49m\u001B[43mitems\u001B[49m\u001B[43m)\u001B[49m)\n\u001B[1;32m    446\u001B[0m     \u001B[38;5;28;01mif\u001B[39;00m \u001B[38;5;129;01mnot\u001B[39;00m sourcematch(\u001B[38;5;124m\"\u001B[39m\u001B[38;5;124m|\u001B[39m\u001B[38;5;124m\"\u001B[39m):\n\u001B[1;32m    447\u001B[0m         \u001B[38;5;28;01mbreak\u001B[39;00m\n",
      "File \u001B[0;32m/opt/anaconda3/envs/cs210/lib/python3.10/sre_parse.py:526\u001B[0m, in \u001B[0;36m_parse\u001B[0;34m(source, state, verbose, nested, first)\u001B[0m\n\u001B[1;32m    523\u001B[0m         \u001B[38;5;28;01mcontinue\u001B[39;00m\n\u001B[1;32m    525\u001B[0m \u001B[38;5;28;01mif\u001B[39;00m this[\u001B[38;5;241m0\u001B[39m] \u001B[38;5;241m==\u001B[39m \u001B[38;5;124m\"\u001B[39m\u001B[38;5;130;01m\\\\\u001B[39;00m\u001B[38;5;124m\"\u001B[39m:\n\u001B[0;32m--> 526\u001B[0m     code \u001B[38;5;241m=\u001B[39m \u001B[43m_escape\u001B[49m\u001B[43m(\u001B[49m\u001B[43msource\u001B[49m\u001B[43m,\u001B[49m\u001B[43m \u001B[49m\u001B[43mthis\u001B[49m\u001B[43m,\u001B[49m\u001B[43m \u001B[49m\u001B[43mstate\u001B[49m\u001B[43m)\u001B[49m\n\u001B[1;32m    527\u001B[0m     subpatternappend(code)\n\u001B[1;32m    529\u001B[0m \u001B[38;5;28;01melif\u001B[39;00m this \u001B[38;5;129;01mnot\u001B[39;00m \u001B[38;5;129;01min\u001B[39;00m SPECIAL_CHARS:\n",
      "File \u001B[0;32m/opt/anaconda3/envs/cs210/lib/python3.10/sre_parse.py:424\u001B[0m, in \u001B[0;36m_escape\u001B[0;34m(source, escape, state)\u001B[0m\n\u001B[1;32m    422\u001B[0m         state\u001B[38;5;241m.\u001B[39mchecklookbehindgroup(group, source)\n\u001B[1;32m    423\u001B[0m         \u001B[38;5;28;01mreturn\u001B[39;00m GROUPREF, group\n\u001B[0;32m--> 424\u001B[0m     \u001B[38;5;28;01mraise\u001B[39;00m source\u001B[38;5;241m.\u001B[39merror(\u001B[38;5;124m\"\u001B[39m\u001B[38;5;124minvalid group reference \u001B[39m\u001B[38;5;132;01m%d\u001B[39;00m\u001B[38;5;124m\"\u001B[39m \u001B[38;5;241m%\u001B[39m group, \u001B[38;5;28mlen\u001B[39m(escape) \u001B[38;5;241m-\u001B[39m \u001B[38;5;241m1\u001B[39m)\n\u001B[1;32m    425\u001B[0m \u001B[38;5;28;01mif\u001B[39;00m \u001B[38;5;28mlen\u001B[39m(escape) \u001B[38;5;241m==\u001B[39m \u001B[38;5;241m2\u001B[39m:\n\u001B[1;32m    426\u001B[0m     \u001B[38;5;28;01mif\u001B[39;00m c \u001B[38;5;129;01min\u001B[39;00m ASCIILETTERS:\n",
      "\u001B[0;31merror\u001B[0m: invalid group reference 2 at position 1"
     ]
    }
   ],
   "source": [
    "# what if try pre-compiling both the strings?\n",
    "student_str = '\"  Smith,   Bob \", bs123 '\n",
    "target = re.compile(ex2_pattern)\n",
    "repl = re.compile(ex2_sub)\n",
    "res = re.sub(target,repl,student_str)\n",
    "print(res)"
   ]
  },
  {
   "cell_type": "markdown",
   "metadata": {
    "slideshow": {
     "slide_type": "subslide"
    }
   },
   "source": [
    "**The above doesn't work: the context of the pattern is restricted to the target variable, so the references to the captured groups in the repl variable are out of context**"
   ]
  },
  {
   "cell_type": "markdown",
   "metadata": {
    "slideshow": {
     "slide_type": "skip"
    }
   },
   "source": [
    "**Solutions to Exercises**"
   ]
  },
  {
   "cell_type": "code",
   "execution_count": 86,
   "metadata": {},
   "outputs": [],
   "source": [
    "phone_pattern_1 = r'\\(\\d{3}\\)\\d{3}-?\\d{4}'"
   ]
  },
  {
   "cell_type": "code",
   "execution_count": 38,
   "metadata": {},
   "outputs": [],
   "source": [
    "ex2_pattern = r'\"\\s*(\\S+)\\s*,\\s*(\\S+)\\s*\"\\s*,\\s*(\\w+)\\s*'\n",
    "ex2_sub = r'\\2,\\1,\\3@rutgers.edu'"
   ]
  },
  {
   "cell_type": "code",
   "execution_count": null,
   "metadata": {},
   "outputs": [],
   "source": []
  }
 ],
 "metadata": {
  "celltoolbar": "Slideshow",
  "kernelspec": {
   "display_name": "Python 3 (ipykernel)",
   "language": "python",
   "name": "python3"
  },
  "language_info": {
   "codemirror_mode": {
    "name": "ipython",
    "version": 3
   },
   "file_extension": ".py",
   "mimetype": "text/x-python",
   "name": "python",
   "nbconvert_exporter": "python",
   "pygments_lexer": "ipython3",
   "version": "3.10.12"
  },
  "rise": {
   "controls": false,
   "enable_chalkboard": true,
   "scroll": true,
   "show_buttons_on_startup": false,
   "slideNumber": "c",
   "theme": "solarized",
   "transition": "none"
  }
 },
 "nbformat": 4,
 "nbformat_minor": 4
}
