{
 "cells": [
  {
   "cell_type": "markdown",
   "id": "1d37e374",
   "metadata": {
    "slideshow": {
     "slide_type": "slide"
    }
   },
   "source": [
    "### Exercise\n",
    "\n",
    "Match or No Match? "
   ]
  },
  {
   "cell_type": "code",
   "execution_count": 8,
   "id": "e38f7d4f",
   "metadata": {
    "ExecuteTime": {
     "end_time": "2023-10-27T14:29:33.587894Z",
     "start_time": "2023-10-27T14:29:33.571278Z"
    }
   },
   "outputs": [],
   "source": [
    "m = re.search('ac[A-Za-x]+t', \"acyt\")"
   ]
  },
  {
   "cell_type": "code",
   "execution_count": 9,
   "id": "9c40edda",
   "metadata": {
    "slideshow": {
     "slide_type": "fragment"
    },
    "ExecuteTime": {
     "end_time": "2023-10-27T14:29:33.795077Z",
     "start_time": "2023-10-27T14:29:33.776942Z"
    }
   },
   "outputs": [
    {
     "name": "stdout",
     "output_type": "stream",
     "text": [
      "No Match\n"
     ]
    }
   ],
   "source": [
    "print(\"Match\") if m is not None else print(\"No Match\")"
   ]
  },
  {
   "cell_type": "markdown",
   "id": "55e33b24",
   "metadata": {},
   "source": [
    "No Match. The character class includes all capital letters and all lowercase letters through 'x', so the pattern cannot match the 'y' in \"acyt\". "
   ]
  },
  {
   "cell_type": "code",
   "execution_count": 10,
   "id": "502075fa",
   "metadata": {
    "slideshow": {
     "slide_type": "slide"
    },
    "ExecuteTime": {
     "end_time": "2023-10-27T14:29:34.644884Z",
     "start_time": "2023-10-27T14:29:34.630863Z"
    }
   },
   "outputs": [
    {
     "data": {
      "text/plain": "<re.Match object; span=(1, 6), match='aaaaa'>"
     },
     "execution_count": 10,
     "metadata": {},
     "output_type": "execute_result"
    }
   ],
   "source": [
    "import re\n",
    "\n",
    "myRegex = 'a+'\n",
    "myString = 'caaaaat'\n",
    "\n",
    "res = re.search(myRegex, myString)\n",
    "res"
   ]
  },
  {
   "cell_type": "code",
   "execution_count": 11,
   "id": "cff2846c",
   "metadata": {
    "slideshow": {
     "slide_type": "slide"
    },
    "ExecuteTime": {
     "end_time": "2023-10-27T14:29:35.705972Z",
     "start_time": "2023-10-27T14:29:35.687988Z"
    }
   },
   "outputs": [
    {
     "name": "stdout",
     "output_type": "stream",
     "text": [
      "None\n"
     ]
    }
   ],
   "source": [
    "myRegex = 'b+'\n",
    "myString = 'caaaaaaat'\n",
    "\n",
    "res = re.search(myRegex, myString)\n",
    "print(res)"
   ]
  },
  {
   "cell_type": "code",
   "execution_count": 12,
   "id": "a8157973-954d-42ee-9d7d-67d0eea0000f",
   "metadata": {
    "ExecuteTime": {
     "end_time": "2023-10-27T14:29:36.373216Z",
     "start_time": "2023-10-27T14:29:36.353207Z"
    }
   },
   "outputs": [
    {
     "data": {
      "text/plain": "<re.Match object; span=(1, 2), match='a'>"
     },
     "execution_count": 12,
     "metadata": {},
     "output_type": "execute_result"
    }
   ],
   "source": [
    "res = re.search('a','cat')  # search for pattern 'a' in target 'cat'\n",
    "res"
   ]
  },
  {
   "cell_type": "markdown",
   "id": "33da0970-d378-4b22-bbf0-6793f7eedabe",
   "metadata": {
    "slideshow": {
     "slide_type": "slide"
    }
   },
   "source": [
    "**search returns the first occurrence of a match**"
   ]
  },
  {
   "cell_type": "code",
   "execution_count": 13,
   "id": "42e367eb-6cbc-4996-8a39-f3e19bf0af53",
   "metadata": {
    "ExecuteTime": {
     "end_time": "2023-10-27T14:29:39.342688Z",
     "start_time": "2023-10-27T14:29:39.321022Z"
    }
   },
   "outputs": [
    {
     "name": "stdout",
     "output_type": "stream",
     "text": [
      "<re.Match object; span=(1, 3), match='ar'>\n"
     ]
    }
   ],
   "source": [
    "res = re.search('ar','barbaric')  \n",
    "print(res)"
   ]
  },
  {
   "cell_type": "markdown",
   "id": "36ca70c5",
   "metadata": {
    "slideshow": {
     "slide_type": "-"
    }
   },
   "source": [
    "(To find the other 'ar', use re.findall)"
   ]
  },
  {
   "cell_type": "markdown",
   "id": "9893c985-46a6-4ed5-b392-5eb4820eb46f",
   "metadata": {
    "slideshow": {
     "slide_type": "slide"
    }
   },
   "source": [
    "Matching literal strings is faster with string method"
   ]
  },
  {
   "cell_type": "code",
   "execution_count": 14,
   "id": "367e705c",
   "metadata": {
    "ExecuteTime": {
     "end_time": "2023-10-27T14:29:47.144598Z",
     "start_time": "2023-10-27T14:29:47.106076Z"
    }
   },
   "outputs": [
    {
     "name": "stdout",
     "output_type": "stream",
     "text": [
      "Found\n",
      "CPU times: user 312 µs, sys: 51 µs, total: 363 µs\n",
      "Wall time: 357 µs\n",
      "Found\n",
      "CPU times: user 10 µs, sys: 1 µs, total: 11 µs\n",
      "Wall time: 14.1 µs\n"
     ]
    }
   ],
   "source": [
    "myRegex = 'bbbbbbcccccdddddddddddddfgffffggggff'\n",
    "myString = 'abbbbbbbbbcccccdddddddddddddfgffffggggffggffh'\n",
    "\n",
    "%time print('Found') if re.search(myRegex, myString) else print('No match')\n",
    "%time print('Found') if myString.find(myRegex) != -1 else print('No match')"
   ]
  },
  {
   "cell_type": "markdown",
   "id": "23d3e570-0a07-4f22-a566-f6df0fc89840",
   "metadata": {
    "slideshow": {
     "slide_type": "slide"
    }
   },
   "source": [
    "More metacharacters:\n",
    "- ^ matches start of target string\n",
    "  (outside of a [ ] class)\n",
    "- $ matches end of target string"
   ]
  },
  {
   "cell_type": "markdown",
   "id": "abbbce04-d258-4731-9ae3-c4b6ac18f6d5",
   "metadata": {
    "slideshow": {
     "slide_type": "slide"
    }
   },
   "source": [
    "**Example 1**<br>\n",
    "Match all target strings that start with p"
   ]
  },
  {
   "cell_type": "code",
   "execution_count": 15,
   "id": "d09bca77",
   "metadata": {
    "ExecuteTime": {
     "end_time": "2023-10-27T14:30:10.842393Z",
     "start_time": "2023-10-27T14:30:10.823348Z"
    }
   },
   "outputs": [],
   "source": [
    "def search_strings(pattern, test_strings): \n",
    "    for s in test_strings: \n",
    "        res = re.search(pattern, s)\n",
    "        if res is None:\n",
    "            print(f\"'{s}' does not match\")\n",
    "        else:\n",
    "            span = res.span()\n",
    "            print(f\"'{s}' matches ({s[span[0]:span[1]]})\")"
   ]
  },
  {
   "cell_type": "code",
   "execution_count": 16,
   "id": "c4a7d643",
   "metadata": {
    "ExecuteTime": {
     "end_time": "2023-10-27T14:30:11.195793Z",
     "start_time": "2023-10-27T14:30:11.179578Z"
    }
   },
   "outputs": [
    {
     "name": "stdout",
     "output_type": "stream",
     "text": [
      "'potato' matches (p)\n",
      "'app' does not match\n"
     ]
    }
   ],
   "source": [
    "search_strings('^p', [\"potato\", \"app\"])"
   ]
  },
  {
   "cell_type": "markdown",
   "id": "a0bd0bc3-185e-46ea-9e18-a4911e1e7bf5",
   "metadata": {
    "slideshow": {
     "slide_type": "slide"
    }
   },
   "source": [
    "**Example 2**<br>\n",
    "Match all target strings that end with p"
   ]
  },
  {
   "cell_type": "code",
   "execution_count": null,
   "id": "61ec848d-5522-49fc-992b-70557bd952bc",
   "metadata": {},
   "outputs": [],
   "source": [
    "search_strings('p$', [\"p$potato\", \"shop\", \"shop$\"])"
   ]
  },
  {
   "cell_type": "markdown",
   "id": "7423aaf4-ad2b-4f3e-899c-e3c8eb5f3177",
   "metadata": {
    "slideshow": {
     "slide_type": "slide"
    }
   },
   "source": [
    "**Example 3**<br>\n",
    "Match all target strings that start with ar, end with t, and have at least one lowercase letter between"
   ]
  },
  {
   "cell_type": "code",
   "execution_count": null,
   "id": "c92a0d9f-7440-451b-b457-9f71c56b4480",
   "metadata": {},
   "outputs": [],
   "source": [
    "search_strings('^ar.*[a-z]+.*t$', [\"catarrtfoo\", \"arrowroot\"])"
   ]
  },
  {
   "cell_type": "markdown",
   "id": "4f2cee52-a095-43a0-92df-7dae4aacfbaa",
   "metadata": {
    "slideshow": {
     "slide_type": "slide"
    }
   },
   "source": [
    "**^ negates when used as *first* character inside a class [ ]**"
   ]
  },
  {
   "cell_type": "markdown",
   "id": "092f815e-de19-4050-85b6-11f545eec5f7",
   "metadata": {},
   "source": [
    "**Example 4**<br>\n",
    "Match all target strings that start with ar, end with t, and do NOT have any digits in between"
   ]
  },
  {
   "cell_type": "code",
   "execution_count": 18,
   "id": "130cedcc-98f4-4a7a-a0c9-21e2f891ebaa",
   "metadata": {
    "ExecuteTime": {
     "end_time": "2023-10-27T15:07:51.452037Z",
     "start_time": "2023-10-27T15:07:51.429942Z"
    }
   },
   "outputs": [
    {
     "name": "stdout",
     "output_type": "stream",
     "text": [
      "'arrt' matches (arrt)\n",
      "'art' matches (art)\n",
      "'arr0wt' does not match\n",
      "'ar,.<>t' matches (ar,.<>t)\n"
     ]
    }
   ],
   "source": [
    "search_strings('^ar[^0-9]*t$',[\"arrt\", \"art\", \"arr0wt\", \"ar,.<>t\"])"
   ]
  },
  {
   "cell_type": "markdown",
   "id": "150dec23-475d-4cbe-b508-2bd4230ae465",
   "metadata": {
    "slideshow": {
     "slide_type": "slide"
    }
   },
   "source": [
    "**Example 5**<br>\n",
    "Match all target strings that do not have any digits or upper case letters"
   ]
  },
  {
   "cell_type": "code",
   "execution_count": null,
   "id": "f455364f-5396-4eea-80ea-6f0e6ab83ce0",
   "metadata": {},
   "outputs": [],
   "source": [
    "res = re.search('^[^A-Z0-9]*$','abc3xyz')   \n",
    "print(res)"
   ]
  },
  {
   "cell_type": "markdown",
   "id": "1a855512-e804-4018-ba63-e4245bbbe55f",
   "metadata": {
    "slideshow": {
     "slide_type": "slide"
    }
   },
   "source": [
    "**| is used for alternative match, usually used with ( )**"
   ]
  },
  {
   "cell_type": "markdown",
   "id": "8ee49e51-43e3-425c-b9b4-64d8f2d67f8d",
   "metadata": {},
   "source": [
    "**Example 6**<br>\n",
    "Search for any sequence that starts with a, ends with t, and has exactly one letter and exactly one digit in between, in EITHER order"
   ]
  },
  {
   "cell_type": "code",
   "execution_count": null,
   "id": "ff545469-2437-43d6-b8f0-9ce221f5aae0",
   "metadata": {},
   "outputs": [],
   "source": [
    "test_strings = [\"a6at\", \"aa6t\", \"aaat\", \"a66t\"]\n",
    "search_strings('^a[a-zA-Z0-9][a-zA-Z0-9]t$', test_strings)"
   ]
  },
  {
   "cell_type": "markdown",
   "id": "bc867587-c9d2-4b50-aac4-b36a9972f825",
   "metadata": {
    "slideshow": {
     "slide_type": "-"
    }
   },
   "source": [
    "What's wrong with this code?"
   ]
  },
  {
   "cell_type": "markdown",
   "id": "9a365ce9",
   "metadata": {
    "slideshow": {
     "slide_type": "subslide"
    }
   },
   "source": [
    "**Example 6**<br>\n",
    "Search for any sequence that starts with a, ends with t, and has exactly one letter and exactly one digit in between, in EITHER order"
   ]
  },
  {
   "cell_type": "code",
   "execution_count": null,
   "id": "9d8bf78d-430a-4bc6-b09d-d4488edfb812",
   "metadata": {
    "slideshow": {
     "slide_type": "-"
    }
   },
   "outputs": [],
   "source": [
    "search_strings('^a([a-zA-Z][0-9]|[0-9][a-zA-Z])t$',test_strings)"
   ]
  },
  {
   "cell_type": "markdown",
   "id": "bb15a2e6-2d47-44e0-b0d0-8075da8889a4",
   "metadata": {
    "slideshow": {
     "slide_type": "slide"
    }
   },
   "source": [
    "**Example 8**<br>\n",
    "Search for the sequence 'airport' or 'airplane'"
   ]
  },
  {
   "cell_type": "code",
   "execution_count": null,
   "id": "9a7431c5",
   "metadata": {},
   "outputs": [],
   "source": [
    "test_strings = [\"the air is cool\",\n",
    "                \"newark airport security\",\n",
    "                \"airplane\",\n",
    "                \"port\"]\n",
    "\n",
    "search_strings('air(port|plane)', test_strings)"
   ]
  },
  {
   "cell_type": "markdown",
   "id": "fcde9bc2-c560-4961-9e03-c154e4c4d52f",
   "metadata": {
    "slideshow": {
     "slide_type": "slide"
    }
   },
   "source": [
    "**Example 9**<br>\n",
    "Search for the sequence 'air, or 'airport' or 'airplane'"
   ]
  },
  {
   "cell_type": "code",
   "execution_count": null,
   "id": "c6309f6b-2ec9-4307-8aa6-03ca51599b30",
   "metadata": {},
   "outputs": [],
   "source": [
    "res = re.search('air(port|plane)|air','the air is cool')\n",
    "print(res)"
   ]
  },
  {
   "cell_type": "markdown",
   "id": "b0885e4a-ebd8-40c1-ae83-e0118e1cfdd3",
   "metadata": {
    "slideshow": {
     "slide_type": "slide"
    }
   },
   "source": [
    "**{ } used for specific number of instances**"
   ]
  },
  {
   "cell_type": "markdown",
   "id": "b0c74c10-6f5a-4b75-ac13-572b945b6268",
   "metadata": {},
   "source": [
    "**Example 10**<br>\n",
    "Search for any sequence that has exactly 3 consecutive uppercase letters "
   ]
  },
  {
   "cell_type": "code",
   "execution_count": null,
   "id": "9d2e7cfb",
   "metadata": {},
   "outputs": [],
   "source": [
    "test_strings = [\"ABC\", \"xyABCdef\", \"xyABdeCf\"]\n",
    "search_strings('[A-Z]{3}', test_strings)"
   ]
  },
  {
   "cell_type": "markdown",
   "id": "22492c27-5690-4def-a251-0e1be763c463",
   "metadata": {
    "slideshow": {
     "slide_type": "slide"
    }
   },
   "source": [
    "**Example 11**<br>\n",
    "Search for any sequence that has between 2 and 4 consecutive uppercase letters "
   ]
  },
  {
   "cell_type": "code",
   "execution_count": null,
   "id": "135e8d38-b2cb-497f-b900-1c26658c46f3",
   "metadata": {},
   "outputs": [],
   "source": [
    "test_strings = [\"A\", \"AB\", \"xyABCdef\", \"xyABCDef\", \"ABCDEFG\"]\n",
    "\n",
    "search_strings('[A-Z]{2,4}', test_strings)\n"
   ]
  },
  {
   "cell_type": "markdown",
   "id": "deb7fa02",
   "metadata": {
    "slideshow": {
     "slide_type": "slide"
    }
   },
   "source": [
    "**Example 12**<br>\n",
    "Search for any sequence that has between 2 and 4 consecutive uppercase letters (and nothing else)"
   ]
  },
  {
   "cell_type": "code",
   "execution_count": null,
   "id": "ca3f4e57",
   "metadata": {},
   "outputs": [],
   "source": [
    "test_strings = [\"A\", \"AB\", \"xyABCdef\", \"xyABCDef\", \"ABCD\", \"ZABCDE\"]\n",
    "\n",
    "search_strings('^[A-Z]{2,4}$', test_strings)\n"
   ]
  },
  {
   "cell_type": "markdown",
   "id": "a22c9062-c628-45bc-bf24-acd19cc05f7d",
   "metadata": {
    "slideshow": {
     "slide_type": "slide"
    }
   },
   "source": [
    "**Example 13**<br>\n",
    "Search for any sequence that has at least 2 consecutive uppercase letters "
   ]
  },
  {
   "cell_type": "code",
   "execution_count": null,
   "id": "66c578b0-d37b-4a4d-b7d4-e29369c6abf4",
   "metadata": {},
   "outputs": [],
   "source": [
    "print(re.search('[A-Z]{2,}','12CARCARCAARARCACAC34'))\n",
    "print(re.search('[A-Z]{2,}','12C34'))"
   ]
  },
  {
   "cell_type": "markdown",
   "id": "3d4cac32",
   "metadata": {
    "slideshow": {
     "slide_type": "slide"
    }
   },
   "source": [
    "You can use {,n} or {0,n} for at most n"
   ]
  },
  {
   "cell_type": "markdown",
   "id": "741e656a-8f5f-46d0-b0b6-ee88b48b0db6",
   "metadata": {
    "slideshow": {
     "slide_type": "-"
    }
   },
   "source": [
    "**Example 14**<br>\n",
    "Match any string that starts with at most 2 consecutive uppercase letters, followed by a digit"
   ]
  },
  {
   "cell_type": "code",
   "execution_count": null,
   "id": "960b74bd-b0f2-46c6-bf8f-ab52bfa37eda",
   "metadata": {},
   "outputs": [],
   "source": [
    "myRegex = '^[A-Z]{0,2}[0-9]'\n",
    "print(re.search(myRegex,'1234'))\n",
    "print(re.search(myRegex,'X1234'))\n",
    "print(re.search(myRegex,'CAR1234'))"
   ]
  },
  {
   "cell_type": "markdown",
   "id": "252cb8ef-495c-43ca-af03-51e68ef6c66f",
   "metadata": {
    "slideshow": {
     "slide_type": "slide"
    }
   },
   "source": [
    "**Inside a class [ ], all metacharacters lose their meaning,**\n",
    "\n",
    "**including ^ if it's not first character**"
   ]
  },
  {
   "cell_type": "code",
   "execution_count": null,
   "id": "e2e53dd0-fb9f-4f66-ab4b-dabf82274cbb",
   "metadata": {},
   "outputs": [],
   "source": [
    "print(re.search('a[$.^?]*t','at')) #yes\n",
    "print(re.search('a[.^$?]*t','a$.t')) #yes\n",
    "print(re.search('a[$.^?]*t','a.^^t')) #yes\n",
    "print(re.search('a[$.^?]*t','a?$..t')) #yes\n",
    "print(re.search('a[$.^?]*t','aBCt')) #no\n",
    "print(re.search('a[135]*t','a51513135355t'))"
   ]
  },
  {
   "cell_type": "markdown",
   "id": "814b0921",
   "metadata": {
    "slideshow": {
     "slide_type": "slide"
    }
   },
   "source": [
    "#### Exercise 1\n",
    "\n",
    "Write a regular expression to match any sequence that could be a valid license plate. \n",
    "A valid license plate is defined as three capital letters followed by two digits and another capital letter. \n",
    "\n",
    "Examples:\n",
    "```\n",
    "[In]:\n",
    "test_strings = [\"PJD34G\", \"MSG42X\", \"346PJD\", \"Hay64J\", \"TOM7F\"]\n",
    "pattern = # YOUR PATTERN GOES HERE\n",
    "search_strings(pattern, test_strings)\n",
    "\n",
    "[Out]:\n",
    "'PJD34G' matches (PJD34G)\n",
    "'MSG42X' matches (MSG42X)\n",
    "'346PJD' does not match\n",
    "'Hay64J' does not match\n",
    "'TOM7F' does not match\n",
    "```"
   ]
  },
  {
   "cell_type": "code",
   "execution_count": null,
   "id": "a3ff00da",
   "metadata": {},
   "outputs": [],
   "source": [
    "test_strings = [\"PJD34G\", \"MSG42X\", \"346PJD\", \"Hay64J\", \"TOM7F\"]"
   ]
  },
  {
   "cell_type": "code",
   "execution_count": null,
   "id": "76ce240f",
   "metadata": {},
   "outputs": [],
   "source": [
    "search_strings(pattern, test_strings)"
   ]
  },
  {
   "cell_type": "markdown",
   "id": "069fe124",
   "metadata": {
    "slideshow": {
     "slide_type": "slide"
    }
   },
   "source": [
    "### Escaping Metacharacters"
   ]
  },
  {
   "cell_type": "markdown",
   "id": "0546ee0d-4b20-4b02-8449-dde75409efd3",
   "metadata": {
    "slideshow": {
     "slide_type": "-"
    }
   },
   "source": [
    "**To \"escape\" a metacharacter, use '\\\\' in front of it**"
   ]
  },
  {
   "cell_type": "markdown",
   "id": "5231416d-daa5-49ac-8ba4-ddd9b7141570",
   "metadata": {},
   "source": [
    "**Example 15**<br>\n",
    "Pattern is at least one 'a', then 'b'"
   ]
  },
  {
   "cell_type": "code",
   "execution_count": null,
   "id": "56d4c020-cc05-45ea-88b0-211bf297e963",
   "metadata": {},
   "outputs": [],
   "source": [
    "# metacharacter '+' is used for at least one\n",
    "print(re.search('a+b','ab'))     \n",
    "print(re.search('a+b','aab'))\n",
    "print(re.search('a+b','a+b'))"
   ]
  },
  {
   "cell_type": "markdown",
   "id": "b35b4311-06ba-449b-b4ea-31c74fd7360b",
   "metadata": {
    "slideshow": {
     "slide_type": "slide"
    }
   },
   "source": [
    "**Example 16**<br>\n",
    "Pattern is the literal 'a+b'"
   ]
  },
  {
   "cell_type": "code",
   "execution_count": null,
   "id": "7c664597-c292-41af-a168-a67a15e6ddd0",
   "metadata": {},
   "outputs": [],
   "source": [
    "print(re.search('a\\+b','a+b'))"
   ]
  },
  {
   "cell_type": "markdown",
   "id": "45ec8987-51d7-4551-8d7a-7a0dbf109f05",
   "metadata": {
    "slideshow": {
     "slide_type": "slide"
    }
   },
   "source": [
    "**Example 17**<br>\n",
    "Pattern is 'a', followed by at least one '+', then 'b' "
   ]
  },
  {
   "cell_type": "code",
   "execution_count": null,
   "id": "282851f8-3152-4275-a976-da560f4b9cb7",
   "metadata": {},
   "outputs": [],
   "source": [
    "myRegex = 'a\\++b'\n",
    "print(re.search(myRegex,'a+b'))  \n",
    "print(re.search(myRegex,'a++++++++b')) \n",
    "print(re.search(myRegex,'a+cb')) "
   ]
  },
  {
   "cell_type": "markdown",
   "id": "8e79b14a-85f6-437e-955e-d45f24afc516",
   "metadata": {
    "slideshow": {
     "slide_type": "slide"
    }
   },
   "source": [
    "**Use '\\\\\\\\' to escape '\\\\' itself**"
   ]
  },
  {
   "cell_type": "markdown",
   "id": "a4b8073c-76fa-413e-a0c8-4ae45ca1335a",
   "metadata": {},
   "source": [
    "**Example 18**\n",
    "\n",
    "Match the sequence 'a\\y' or 'ay', i.e. one or zero occurence of '\\\\' between 'a' and 'y'"
   ]
  },
  {
   "cell_type": "code",
   "execution_count": null,
   "id": "2d287d5c-7137-42b2-b370-02f11bd1c7f2",
   "metadata": {},
   "outputs": [],
   "source": [
    "print(re.search('a\\?y','ay'))"
   ]
  },
  {
   "cell_type": "markdown",
   "id": "2195cc61-c9d7-45a0-9dd6-4e54fdc4d4ab",
   "metadata": {
    "slideshow": {
     "slide_type": "-"
    }
   },
   "source": [
    "What's wrong with this code?"
   ]
  },
  {
   "cell_type": "markdown",
   "id": "02077cfa",
   "metadata": {
    "slideshow": {
     "slide_type": "subslide"
    }
   },
   "source": [
    "**Example 18**\n",
    "\n",
    "Match the sequence 'a\\y' or 'ay', i.e. one or zero occurence of '\\\\' between 'a' and 'y'"
   ]
  },
  {
   "cell_type": "code",
   "execution_count": null,
   "id": "ef65fe0d-76d2-4572-acbe-5bcf914544d3",
   "metadata": {},
   "outputs": [],
   "source": [
    "print(re.search('a\\\\?y','ay'))"
   ]
  },
  {
   "cell_type": "markdown",
   "id": "fe3f3f35-81eb-4d89-b745-d1506b6e1714",
   "metadata": {
    "slideshow": {
     "slide_type": "-"
    }
   },
   "source": [
    "Python parses the string before the search function gets its arguments.\n",
    "\n",
    "It interprets the '\\\\\\\\' as the first '\\\\' escaping the second '\\\\'.\n",
    "\n",
    "So Python sends 'a\\\\?y' to the search function"
   ]
  },
  {
   "cell_type": "markdown",
   "id": "054b3aba-1124-44f7-a096-d69c65ffb007",
   "metadata": {
    "slideshow": {
     "slide_type": "slide"
    }
   },
   "source": [
    "**So you will need to do a\\\\\\\\\\\\\\\\?y to have Python translate it to 'a\\\\\\\\?y'!**"
   ]
  },
  {
   "cell_type": "code",
   "execution_count": null,
   "id": "04860124-a27a-4a58-a278-5e79aa251e58",
   "metadata": {},
   "outputs": [],
   "source": [
    "print(re.search('a\\\\\\\\?y','ay'))  # a\\\\?y -> a\\?y"
   ]
  },
  {
   "cell_type": "code",
   "execution_count": null,
   "id": "a37489dd-40a8-4a19-8904-f347fb616d79",
   "metadata": {},
   "outputs": [],
   "source": [
    "print(re.search('a\\\\\\\\?y','a\\y'))"
   ]
  },
  {
   "cell_type": "markdown",
   "id": "e5cdb16e-c04e-4348-ae9d-86e3d52a27e9",
   "metadata": {
    "slideshow": {
     "slide_type": "slide"
    }
   },
   "source": [
    "\n",
    "**Workaround: tag the pattern as a RAW string, with an 'r' in front**\n",
    "\n",
    "**Python leaves it alone and sends it as is to the search function**"
   ]
  },
  {
   "cell_type": "code",
   "execution_count": null,
   "id": "87c74d2a-3267-401a-b0ac-fa74c77a6fbe",
   "metadata": {},
   "outputs": [],
   "source": [
    "# Use r in front of target string as well\n",
    "print(re.search(r'a\\\\?y','a\\y'))"
   ]
  },
  {
   "cell_type": "code",
   "execution_count": null,
   "id": "536e4bd9-e091-43b0-8087-b82ae15f4d17",
   "metadata": {},
   "outputs": [],
   "source": [
    "# with r in front of regexp string, single '\\' still retains its special meaning\n",
    "print(re.search(r'a\\?y','a?y'))\n",
    "print(re.search(r'a\\?y','a\\y'))"
   ]
  },
  {
   "cell_type": "markdown",
   "id": "926c9493-11d8-4840-b59f-918701a3996e",
   "metadata": {},
   "source": [
    "#### Always use r'...' for the regular expression if it has an escape '\\\\' character"
   ]
  },
  {
   "cell_type": "markdown",
   "id": "410f274c-afdd-4ccb-97f0-d34f7de33e90",
   "metadata": {
    "slideshow": {
     "slide_type": "slide"
    }
   },
   "source": [
    "#### Python Special Characters"
   ]
  },
  {
   "cell_type": "markdown",
   "id": "98b76753-4329-4b82-8228-713822a4365c",
   "metadata": {},
   "source": [
    "**One final obstacle: Python special characters**\n",
    "\n",
    "**written with a '\\\\' in front of them. E.g., '\\\\n', '\\\\t', etc.**\n",
    "\n",
    "See the complete list here: https://chercher.tech/python-programming/python-special-characters"
   ]
  },
  {
   "cell_type": "code",
   "execution_count": null,
   "id": "0fae9fc0-27e9-45bc-ab23-296232c70900",
   "metadata": {},
   "outputs": [],
   "source": [
    "print(re.search(r'a\\\\?y','a\\y'))"
   ]
  },
  {
   "cell_type": "code",
   "execution_count": null,
   "id": "c2a1d147-7fc0-4790-826f-53b6a68b7e4f",
   "metadata": {},
   "outputs": [],
   "source": [
    "print(re.search(r'a\\\\?t','a\\t'))"
   ]
  },
  {
   "cell_type": "markdown",
   "id": "641caecb",
   "metadata": {},
   "source": [
    "Why doesn't this code work?"
   ]
  },
  {
   "cell_type": "markdown",
   "id": "9d0e45aa-8a08-4bfb-96e7-dfb3d16514a3",
   "metadata": {
    "slideshow": {
     "slide_type": "slide"
    }
   },
   "source": [
    "**We will need to escape the '\\\\' in the target string as well**"
   ]
  },
  {
   "cell_type": "code",
   "execution_count": null,
   "id": "373574a3-67ca-49ab-8d58-15e2886b1afe",
   "metadata": {
    "slideshow": {
     "slide_type": "-"
    }
   },
   "outputs": [],
   "source": [
    "print(re.search(r'a\\\\?t','a\\\\t'))"
   ]
  },
  {
   "cell_type": "markdown",
   "id": "b4b0d8cc-5619-4f08-acc4-087f80f71795",
   "metadata": {
    "slideshow": {
     "slide_type": "slide"
    }
   },
   "source": [
    "**Easy workaround is to write the target as r'...' as well**"
   ]
  },
  {
   "cell_type": "code",
   "execution_count": null,
   "id": "11e1b907-5a3a-44eb-be46-032491b9b04b",
   "metadata": {},
   "outputs": [],
   "source": [
    "print(re.search(r'a\\\\?t',r'a\\t'))"
   ]
  },
  {
   "cell_type": "code",
   "execution_count": null,
   "id": "85aeda9c-0a8c-498b-8dc7-737aac79a791",
   "metadata": {},
   "outputs": [],
   "source": [
    "print(re.search(r'a\\\\?t',r'at'))"
   ]
  },
  {
   "cell_type": "markdown",
   "id": "26fad044-45bf-437b-a681-a2fe89250c0b",
   "metadata": {
    "slideshow": {
     "slide_type": "slide"
    }
   },
   "source": [
    "#### Greedy and non-greedy matching"
   ]
  },
  {
   "cell_type": "markdown",
   "id": "df2ad3e4",
   "metadata": {
    "slideshow": {
     "slide_type": "-"
    }
   },
   "source": [
    "What should the following search return?"
   ]
  },
  {
   "cell_type": "code",
   "execution_count": null,
   "id": "e915bb90",
   "metadata": {},
   "outputs": [],
   "source": [
    "myRegex = 'a+'\n",
    "myString = 'caaaaaaat'\n",
    "\n",
    "res = re.search(myRegex, myString)\n",
    "print(res)"
   ]
  },
  {
   "cell_type": "code",
   "execution_count": null,
   "id": "a2aca035-4365-4bcc-ae5d-f660122b370a",
   "metadata": {
    "slideshow": {
     "slide_type": "slide"
    }
   },
   "outputs": [],
   "source": [
    "# greedy matching\n",
    "# * matches longest possible sequence \n",
    "res = re.search('<.*>', '<p class=\"para\">This is a paragraph.</p>')\n",
    "print(res)"
   ]
  },
  {
   "cell_type": "code",
   "execution_count": null,
   "id": "dfe932d0-a236-4085-a20f-bc552a5f67ab",
   "metadata": {
    "slideshow": {
     "slide_type": "slide"
    }
   },
   "outputs": [],
   "source": [
    "# non-greedy matching with ?\n",
    "res = re.search('<.*?>', '<p class=\"para\">This is a paragraph.</p>')\n",
    "print(res)\n",
    "res = re.search('^[,.();]+', '...;,;,,')\n",
    "print(res)\n",
    "res = re.search('^[,.();]+?', '...;,;,,')\n",
    "print(res)"
   ]
  },
  {
   "cell_type": "markdown",
   "id": "83e9e0e9-7405-4c32-aa52-799186073400",
   "metadata": {},
   "source": [
    "**In the above, the search stops as soon as the first '>' is seen**"
   ]
  },
  {
   "cell_type": "markdown",
   "id": "c12c3678",
   "metadata": {},
   "source": [
    "Note: ? following * or +, is different from ? following a character"
   ]
  },
  {
   "cell_type": "code",
   "execution_count": null,
   "id": "371dc5bc-4557-4116-bc8b-59dec4f43a98",
   "metadata": {
    "slideshow": {
     "slide_type": "slide"
    }
   },
   "outputs": [],
   "source": [
    "# or, we can use negation to prevent < or > characters in between\n",
    "print(re.search(r'<[^<>]*>','<p class=\"para\">This is a paragraph.</p>'))\n",
    "print(re.search(r'\\([^()]*\\)','(abc)(def)'))"
   ]
  },
  {
   "cell_type": "markdown",
   "id": "b5e428ed",
   "metadata": {
    "slideshow": {
     "slide_type": "slide"
    }
   },
   "source": [
    "### Exercise 2\n",
    "\n",
    "Write a regular expression to match the literal sequence '\\n\\n'. \n",
    "\n",
    "```\n",
    "[In]: \n",
    "test_strings = [r\"is a\\n\\nmatch\", r\"not\\t\\na\\nmatch\", \"should\\\\n\\\\nmatch\", \"should\\nnot\\nmatch\"]\n",
    "pattern = # YOUR PATTERN HERE\n",
    "search_strings(pattern, test_strings)\n",
    "\n",
    "[Out]:\n",
    "'is a\\n\\nmatch' matches (\\n\\n)\n",
    "'not\\t\\na\\nmatch' does not match\n",
    "'should\\n\\nmatch' matches (\\n\\n)\n",
    "'should\n",
    "not\n",
    "match' does not match\n",
    "```"
   ]
  },
  {
   "cell_type": "code",
   "execution_count": null,
   "id": "5eed4449",
   "metadata": {},
   "outputs": [],
   "source": [
    "test_strings = [r\"is a\\n\\nmatch\", r\"not\\t\\na\\nmatch\", \"should\\\\n\\\\nmatch\", \"should\\nnot\\nmatch\"]"
   ]
  },
  {
   "cell_type": "code",
   "execution_count": null,
   "id": "4205ead0",
   "metadata": {},
   "outputs": [],
   "source": [
    "search_strings(pattern, test_strings)"
   ]
  },
  {
   "cell_type": "code",
   "execution_count": null,
   "id": "dd5eb5ff",
   "metadata": {},
   "outputs": [],
   "source": []
  }
 ],
 "metadata": {
  "kernelspec": {
   "display_name": "Python 3 (ipykernel)",
   "language": "python",
   "name": "python3"
  },
  "language_info": {
   "codemirror_mode": {
    "name": "ipython",
    "version": 3
   },
   "file_extension": ".py",
   "mimetype": "text/x-python",
   "name": "python",
   "nbconvert_exporter": "python",
   "pygments_lexer": "ipython3",
   "version": "3.10.12"
  },
  "rise": {
   "controls": false,
   "enable_chalkboard": true,
   "scroll": true,
   "show_buttons_on_startup": false,
   "slideNumber": "c",
   "theme": "solarized",
   "transition": "none"
  }
 },
 "nbformat": 4,
 "nbformat_minor": 5
}
