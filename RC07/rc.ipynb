{
 "cells": [
  {
   "cell_type": "code",
   "execution_count": 2,
   "id": "initial_id",
   "metadata": {
    "ExecuteTime": {
     "end_time": "2023-10-27T16:16:32.508023Z",
     "start_time": "2023-10-27T16:16:32.504367Z"
    }
   },
   "outputs": [],
   "source": [
    "import re"
   ]
  },
  {
   "cell_type": "markdown",
   "id": "efa0e1df",
   "metadata": {},
   "source": [
    "# How to find all?"
   ]
  },
  {
   "cell_type": "code",
   "execution_count": 3,
   "id": "23caf9e1ee238e22",
   "metadata": {
    "ExecuteTime": {
     "end_time": "2023-10-27T14:14:02.761851Z",
     "start_time": "2023-10-27T14:14:02.730875Z"
    }
   },
   "outputs": [
    {
     "data": {
      "text/plain": [
       "<re.Match object; span=(0, 3), match='bar'>"
      ]
     },
     "execution_count": 3,
     "metadata": {},
     "output_type": "execute_result"
    }
   ],
   "source": [
    "text = 'barssbarssbar'\n",
    "re.search('bar', text)"
   ]
  },
  {
   "cell_type": "markdown",
   "id": "c620cfd0",
   "metadata": {},
   "source": [
    "# findall"
   ]
  },
  {
   "cell_type": "code",
   "execution_count": 4,
   "id": "e107ce1e",
   "metadata": {},
   "outputs": [
    {
     "name": "stdout",
     "output_type": "stream",
     "text": [
      "['bar', 'bar', 'bar']\n"
     ]
    }
   ],
   "source": [
    "text = 'barssbarssbar'\n",
    "pattern = r'bar'\n",
    "\n",
    "# Using findall to get all occurrences\n",
    "matches = re.findall(pattern, text)\n",
    "print(matches)"
   ]
  },
  {
   "cell_type": "markdown",
   "id": "3989f6ff",
   "metadata": {},
   "source": [
    "## re.compile + finditer"
   ]
  },
  {
   "cell_type": "code",
   "execution_count": 5,
   "id": "4dd9abade8bc5321",
   "metadata": {},
   "outputs": [
    {
     "name": "stdout",
     "output_type": "stream",
     "text": [
      "'bar' found at position: 0-3\n",
      "'bar' found at position: 5-8\n",
      "'bar' found at position: 10-13\n"
     ]
    }
   ],
   "source": [
    "text = 'barssbarssbar'\n",
    "pattern = re.compile(r'bar')\n",
    "\n",
    "# Using finditer to get an iterator yielding match objects\n",
    "for match in pattern.finditer(text):\n",
    "    start = match.start()  # Starting position of the match\n",
    "    end = match.end()      # Ending position of the match\n",
    "    print(f\"'bar' found at position: {start}-{end}\")"
   ]
  },
  {
   "cell_type": "markdown",
   "id": "ebeadd3a260053da",
   "metadata": {},
   "source": [
    "# Search vs Match"
   ]
  },
  {
   "cell_type": "code",
   "execution_count": 6,
   "id": "1c2eab1d9d3ae6c1",
   "metadata": {
    "ExecuteTime": {
     "end_time": "2023-10-27T15:40:18.002066Z",
     "start_time": "2023-10-27T15:40:17.983582Z"
    }
   },
   "outputs": [
    {
     "name": "stdout",
     "output_type": "stream",
     "text": [
      "Found!\n"
     ]
    }
   ],
   "source": [
    "text = \"Python is fun\"\n",
    "result = re.search('fun', text)\n",
    "\n",
    "if result:\n",
    "    print(\"Found!\")\n",
    "else:\n",
    "    print(\"Not found!\")"
   ]
  },
  {
   "cell_type": "code",
   "execution_count": 7,
   "id": "c4231b138bdb0238",
   "metadata": {
    "ExecuteTime": {
     "end_time": "2023-10-27T15:40:30.495521Z",
     "start_time": "2023-10-27T15:40:30.484133Z"
    }
   },
   "outputs": [
    {
     "name": "stdout",
     "output_type": "stream",
     "text": [
      "Not found!\n"
     ]
    }
   ],
   "source": [
    "text = \"Python is fun\"\n",
    "result = re.match('fun', text)\n",
    "\n",
    "if result:\n",
    "    print(\"Found!\")\n",
    "else:\n",
    "    print(\"Not found!\")"
   ]
  },
  {
   "cell_type": "markdown",
   "id": "8ebde9280ed96d70",
   "metadata": {},
   "source": [
    "# Date Example"
   ]
  },
  {
   "cell_type": "code",
   "execution_count": 9,
   "id": "1c9747d9",
   "metadata": {
    "ExecuteTime": {
     "end_time": "2023-10-27T15:35:14.124332Z",
     "start_time": "2023-10-27T15:35:14.116070Z"
    }
   },
   "outputs": [
    {
     "name": "stdout",
     "output_type": "stream",
     "text": [
      "['2021-12-14', '2022-01-15', '14/12/2020', '15/01/2021']\n"
     ]
    }
   ],
   "source": [
    "text = \"Logs received on 2021-12-14 and 2022-01-15. Previous entries were made on 14/12/2020 and 15/01/2021.\"\n",
    "pattern = '(\\d{4}-\\d{2}-\\d{2})|(\\d{2}/\\d{2}/\\d{4})'\n",
    "\n",
    "matches = re.findall(pattern, text)\n",
    "# Flatten tuple list and remove empty strings\n",
    "matches = [date for sublist in matches for date in sublist if date]\n",
    "print(matches)  # Output: ['2021-12-14', '2022-01-15', '14/12/2020', '15/01/2021']\n"
   ]
  },
  {
   "cell_type": "markdown",
   "id": "b19fac1380e09483",
   "metadata": {},
   "source": [
    "# Greedy vs Non-Greedy"
   ]
  },
  {
   "cell_type": "code",
   "execution_count": 10,
   "id": "152ea1f45561547a",
   "metadata": {
    "ExecuteTime": {
     "end_time": "2023-10-27T15:35:45.728224Z",
     "start_time": "2023-10-27T15:35:45.706028Z"
    }
   },
   "outputs": [
    {
     "name": "stdout",
     "output_type": "stream",
     "text": [
      "['<div>Text 1</div><div>Text 2</div>']\n"
     ]
    }
   ],
   "source": [
    "text = \"<div>Text 1</div><div>Text 2</div>\"\n",
    "pattern = r'<div>.*</div>'\n",
    "result = re.findall(pattern, text)\n",
    "\n",
    "print(result)  "
   ]
  },
  {
   "cell_type": "code",
   "execution_count": 11,
   "id": "528a6686ccdd3b05",
   "metadata": {
    "ExecuteTime": {
     "end_time": "2023-10-27T15:35:55.236923Z",
     "start_time": "2023-10-27T15:35:55.220250Z"
    }
   },
   "outputs": [
    {
     "name": "stdout",
     "output_type": "stream",
     "text": [
      "['<div>Text 1</div>', '<div>Text 2</div>']\n"
     ]
    }
   ],
   "source": [
    "pattern = r'<div>.*?</div>'\n",
    "result = re.findall(pattern, text)\n",
    "\n",
    "print(result)  "
   ]
  },
  {
   "cell_type": "markdown",
   "id": "8fb8adc409872770",
   "metadata": {},
   "source": [
    "# Grouping"
   ]
  },
  {
   "cell_type": "code",
   "execution_count": 23,
   "id": "b9108370d2fcfb39",
   "metadata": {
    "ExecuteTime": {
     "end_time": "2023-10-27T15:53:22.819129Z",
     "start_time": "2023-10-27T15:53:22.806222Z"
    }
   },
   "outputs": [],
   "source": [
    "res = re.match(r'\\s*\\((\\d{3})\\)(\\d{3})-(\\d{4})', '(848)555-4321')"
   ]
  },
  {
   "cell_type": "code",
   "execution_count": 24,
   "id": "35111a5c16ef0dc9",
   "metadata": {
    "ExecuteTime": {
     "end_time": "2023-10-27T15:53:28.272437Z",
     "start_time": "2023-10-27T15:53:28.249323Z"
    }
   },
   "outputs": [
    {
     "name": "stdout",
     "output_type": "stream",
     "text": [
      "(848)555-4321\n",
      "('848', '555', '4321')\n",
      "(848)555-4321\n",
      "848\n",
      "555\n",
      "4321\n"
     ]
    }
   ],
   "source": [
    "print(res.group())  # for the whole thing\n",
    "print(res.groups()) # for all parts captured with ( )\n",
    "print(res.group(0)) # entire thing\n",
    "print(res.group(1)) # first grouping with ( )\n",
    "print(res.group(2)) # second grouping with ( )\n",
    "print(res.group(3))"
   ]
  },
  {
   "cell_type": "markdown",
   "id": "cbde5444cf0c7c02",
   "metadata": {},
   "source": [
    "# Parallel Computing "
   ]
  },
  {
   "cell_type": "code",
   "execution_count": 8,
   "id": "a2631029ec3688b2",
   "metadata": {
    "ExecuteTime": {
     "end_time": "2023-10-27T15:54:04.777955Z",
     "start_time": "2023-10-27T15:54:02.433817Z"
    }
   },
   "outputs": [],
   "source": [
    "import pandas as pd\n",
    "import numpy as np\n",
    "import time\n",
    "\n",
    "# Generate random strings\n",
    "np.random.seed(0)\n",
    "N = 10**6  # 1 million rows\n",
    "data = {'text_column': np.random.choice(['apple', 'banana', 'cherry'], N)}\n",
    "\n",
    "df = pd.DataFrame(data)\n"
   ]
  },
  {
   "cell_type": "code",
   "execution_count": 9,
   "id": "e6ce7b762bb38731",
   "metadata": {
    "ExecuteTime": {
     "end_time": "2023-10-27T15:54:11.248258Z",
     "start_time": "2023-10-27T15:54:11.017843Z"
    }
   },
   "outputs": [
    {
     "name": "stdout",
     "output_type": "stream",
     "text": [
      "Pandas str.contains() took 0.334212 seconds.\n"
     ]
    }
   ],
   "source": [
    "start_time = time.time()\n",
    "\n",
    "mask = df['text_column'].str.contains(r'\\bapple\\b', regex=True)\n",
    "filtered_df_pandas = df[mask]\n",
    "\n",
    "end_time = time.time()\n",
    "pandas_time = end_time - start_time\n",
    "\n",
    "print(f\"Pandas str.contains() took {pandas_time:.6f} seconds.\")\n"
   ]
  },
  {
   "cell_type": "code",
   "execution_count": 10,
   "id": "26dfa2174a87ee39",
   "metadata": {
    "ExecuteTime": {
     "end_time": "2023-10-27T15:54:41.584025Z",
     "start_time": "2023-10-27T15:54:19.889634Z"
    }
   },
   "outputs": [
    {
     "name": "stdout",
     "output_type": "stream",
     "text": [
      "For loop took 26.042545 seconds.\n"
     ]
    }
   ],
   "source": [
    "start_time = time.time()\n",
    "\n",
    "filtered_data_for_loop = []\n",
    "for index, row in df.iterrows():\n",
    "    if \"apple\" in row['text_column']:\n",
    "        filtered_data_for_loop.append(row)\n",
    "\n",
    "filtered_df_for_loop = pd.DataFrame(filtered_data_for_loop)\n",
    "\n",
    "end_time = time.time()\n",
    "for_loop_time = end_time - start_time\n",
    "\n",
    "print(f\"For loop took {for_loop_time:.6f} seconds.\")"
   ]
  },
  {
   "cell_type": "code",
   "execution_count": null,
   "id": "4ea373cbcdc986eb",
   "metadata": {},
   "outputs": [],
   "source": []
  }
 ],
 "metadata": {
  "kernelspec": {
   "display_name": "Python 3 (ipykernel)",
   "language": "python",
   "name": "python3"
  },
  "language_info": {
   "codemirror_mode": {
    "name": "ipython",
    "version": 3
   },
   "file_extension": ".py",
   "mimetype": "text/x-python",
   "name": "python",
   "nbconvert_exporter": "python",
   "pygments_lexer": "ipython3",
   "version": "3.9.16"
  }
 },
 "nbformat": 4,
 "nbformat_minor": 5
}
