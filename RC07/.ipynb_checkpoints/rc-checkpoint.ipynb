{
 "cells": [
  {
   "cell_type": "code",
   "execution_count": 1,
   "id": "initial_id",
   "metadata": {
    "ExecuteTime": {
     "end_time": "2023-10-27T14:12:51.035682Z",
     "start_time": "2023-10-27T14:12:51.032043Z"
    },
    "collapsed": true
   },
   "outputs": [],
   "source": [
    "import re"
   ]
  },
  {
   "cell_type": "markdown",
   "id": "9da06112",
   "metadata": {},
   "source": [
    "# How to find all?"
   ]
  },
  {
   "cell_type": "code",
   "execution_count": 5,
   "id": "23caf9e1ee238e22",
   "metadata": {
    "ExecuteTime": {
     "end_time": "2023-10-27T14:14:02.761851Z",
     "start_time": "2023-10-27T14:14:02.730875Z"
    }
   },
   "outputs": [
    {
     "data": {
      "text/plain": [
       "<re.Match object; span=(0, 3), match='bar'>"
      ]
     },
     "execution_count": 5,
     "metadata": {},
     "output_type": "execute_result"
    }
   ],
   "source": [
    "text = 'barssbarssbar'\n",
    "re.search('bar', text)"
   ]
  },
  {
   "cell_type": "markdown",
   "id": "7e8055bb",
   "metadata": {},
   "source": [
    "# findall"
   ]
  },
  {
   "cell_type": "code",
   "execution_count": 6,
   "id": "12b88ff8",
   "metadata": {},
   "outputs": [
    {
     "name": "stdout",
     "output_type": "stream",
     "text": [
      "['bar', 'bar', 'bar']\n"
     ]
    }
   ],
   "source": [
    "text = 'barssbarssbar'\n",
    "pattern = r'bar'\n",
    "\n",
    "# Using findall to get all occurrences\n",
    "matches = re.findall(pattern, text)\n",
    "print(matches)"
   ]
  },
  {
   "cell_type": "markdown",
   "id": "6a771ae5",
   "metadata": {},
   "source": [
    "## re.compile + finditer"
   ]
  },
  {
   "cell_type": "code",
   "execution_count": 4,
   "id": "4dd9abade8bc5321",
   "metadata": {},
   "outputs": [
    {
     "name": "stdout",
     "output_type": "stream",
     "text": [
      "'bar' found at position: 0-3\n",
      "'bar' found at position: 5-8\n",
      "'bar' found at position: 10-13\n"
     ]
    }
   ],
   "source": [
    "text = 'barssbarssbar'\n",
    "pattern = re.compile(r'bar')\n",
    "\n",
    "# Using finditer to get an iterator yielding match objects\n",
    "for match in pattern.finditer(text):\n",
    "    start = match.start()  # Starting position of the match\n",
    "    end = match.end()      # Ending position of the match\n",
    "    print(f\"'bar' found at position: {start}-{end}\")"
   ]
  },
  {
   "cell_type": "code",
   "execution_count": null,
   "id": "56e7b274",
   "metadata": {},
   "outputs": [],
   "source": []
  },
  {
   "cell_type": "code",
   "execution_count": null,
   "id": "e0c92ff9",
   "metadata": {},
   "outputs": [],
   "source": []
  }
 ],
 "metadata": {
  "kernelspec": {
   "display_name": "Python 3 (ipykernel)",
   "language": "python",
   "name": "python3"
  },
  "language_info": {
   "codemirror_mode": {
    "name": "ipython",
    "version": 3
   },
   "file_extension": ".py",
   "mimetype": "text/x-python",
   "name": "python",
   "nbconvert_exporter": "python",
   "pygments_lexer": "ipython3",
   "version": "3.9.16"
  }
 },
 "nbformat": 4,
 "nbformat_minor": 5
}
